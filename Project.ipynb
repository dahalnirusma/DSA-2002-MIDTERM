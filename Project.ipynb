{
 "cells": [
  {
   "cell_type": "code",
   "execution_count": null,
   "id": "314202a2-e6de-4ea3-abe4-51976ea8dc37",
   "metadata": {},
   "outputs": [],
   "source": [
    "Understanding the connection between No-shows apppointments "
   ]
  },
  {
   "cell_type": "code",
   "execution_count": 1,
   "id": "fd5fcf9c-b146-4333-b1e7-8ad4e2e6762f",
   "metadata": {},
   "outputs": [],
   "source": [
    "import pandas as pd\n",
    "import requests\n",
    "import mysql.connector\n",
    "from datetime import datetime"
   ]
  },
  {
   "cell_type": "code",
   "execution_count": 2,
   "id": "46758146-46cd-46a1-8073-d8b251be0b61",
   "metadata": {},
   "outputs": [],
   "source": [
    "conn = mysql.connector.connect(\n",
    "    host=\"localhost\",\n",
    "    user=\"root\",\n",
    "    password=\"Shrinking2025!\",\n",
    "    database=\"medical_db\"\n",
    ")\n",
    "cursor = conn.cursor()"
   ]
  },
  {
   "cell_type": "code",
   "execution_count": 3,
   "id": "0bf26dea-faae-49bc-8301-bdc12ad3512b",
   "metadata": {},
   "outputs": [],
   "source": [
    "# Load Hospital Data from CSV File\n",
    "hospital_df = pd.read_csv(\"/Users/nirusmadahal/medical_data/Hospital_General_Information.csv\")\n",
    "hospital_df = hospital_df.rename(columns={\n",
    "    \"Facility ID\": \"facility_id\",\n",
    "    \"Facility Name\": \"hospital_name\",\n",
    "    \"City/Town\": \"city\",\n",
    "    \"State\": \"state\",\n",
    "    \"Hospital Type\": \"hospital_type\",\n",
    "    \"Hospital Ownership\": \"hospital_ownership\",\n",
    "    \"Hospital overall rating\": \"hospital_rating\"\n",
    "})"
   ]
  },
  {
   "cell_type": "code",
   "execution_count": 4,
   "id": "823fac3e-3b2c-4e27-ad17-0193f0507a9a",
   "metadata": {},
   "outputs": [],
   "source": [
    "kaggle_df = pd.read_csv(\"/Users/nirusmadahal/medical_data/KaggleV2-May-2016.csv\")\n",
    "patients_df = kaggle_df[[\"PatientId\", \"Age\", \"Gender\", \"Diabetes\", \"Hipertension\"]].rename(columns={\n",
    "    \"PatientId\": \"patient_id\",\n",
    "    \"Age\": \"age\",\n",
    "    \"Gender\": \"gender\",\n",
    "    \"Diabetes\": \"has_diabetes\",\n",
    "    \"Hipertension\": \"has_hypertension\"\n",
    "})"
   ]
  },
  {
   "cell_type": "code",
   "execution_count": 20,
   "id": "8095dedf-70b5-464d-a7de-ea664d809fef",
   "metadata": {},
   "outputs": [],
   "source": [
    "# New CDC API Endpoint (Replace with the correct dataset API endpoint)\n",
    "cdc_api_url = \"https://data.cdc.gov/resource/hksd-2xuw.json?$limit=500\"\n",
    "response = requests.get(cdc_api_url)\n",
    "cdc_data = response.json()"
   ]
  },
  {
   "cell_type": "code",
   "execution_count": 6,
   "id": "f870f47e-6d6c-414d-bacc-03241016f8c2",
   "metadata": {},
   "outputs": [],
   "source": [
    "appointments_df = kaggle_df[[\"AppointmentID\", \"PatientId\", \"ScheduledDay\", \"AppointmentDay\", \"No-show\"]].rename(columns={\n",
    "    \"AppointmentID\": \"appointment_id\",\n",
    "    \"PatientId\": \"patient_id\",\n",
    "    \"ScheduledDay\": \"scheduled_date\",\n",
    "    \"AppointmentDay\": \"appointment_date\",\n",
    "    \"No-show\": \"status\"\n",
    "})"
   ]
  },
  {
   "cell_type": "code",
   "execution_count": 7,
   "id": "77d9a43a-4fdc-456d-bdba-fa4053384e76",
   "metadata": {},
   "outputs": [],
   "source": [
    "appointments_df[\"scheduled_date\"] = pd.to_datetime(appointments_df[\"scheduled_date\"])\n",
    "appointments_df[\"appointment_date\"] = pd.to_datetime(appointments_df[\"appointment_date\"])\n",
    "appointments_df[\"status\"] = appointments_df[\"status\"].apply(lambda x: 1 if x == \"Yes\" else 0)"
   ]
  },
  {
   "cell_type": "code",
   "execution_count": 8,
   "id": "a40eda77-0781-4d32-9ab2-0054ece8d8d5",
   "metadata": {},
   "outputs": [],
   "source": [
    "# Select only the required columns and handle missing values\n",
    "hospital_df = hospital_df[[\"facility_id\", \"hospital_name\", \"city\", \"state\", \n",
    "                           \"hospital_type\", \"hospital_ownership\", \"hospital_rating\"]]\n",
    "\n",
    "# Convert 'Not Available' to NULL (or 0 if preferred)\n",
    "hospital_df[\"hospital_rating\"] = hospital_df[\"hospital_rating\"].replace(\"Not Available\", 0)\n",
    "\n",
    "# Convert hospital_rating to integer\n",
    "hospital_df[\"hospital_rating\"] = hospital_df[\"hospital_rating\"].astype(int)\n",
    "\n",
    "# Fill other NaN values with defaults\n",
    "hospital_df = hospital_df.fillna({\n",
    "    \"facility_id\": \"UNKNOWN\", \"hospital_name\": \"UNKNOWN\", \n",
    "    \"city\": \"UNKNOWN\", \"state\": \"UNKNOWN\", \n",
    "    \"hospital_type\": \"UNKNOWN\", \"hospital_ownership\": \"UNKNOWN\"\n",
    "})\n",
    "\n",
    "# Convert facility_id to string to avoid data type mismatches\n",
    "hospital_df[\"facility_id\"] = hospital_df[\"facility_id\"].astype(str)\n",
    "\n",
    "# Insert into MySQL\n",
    "for _, row in hospital_df.iterrows():\n",
    "    cursor.execute(\"\"\"\n",
    "        INSERT INTO hospitals (facility_id, hospital_name, city, state, hospital_type, hospital_ownership, hospital_rating)\n",
    "        VALUES (%s, %s, %s, %s, %s, %s, %s)\n",
    "    \"\"\", tuple(row))\n",
    "\n",
    "conn.commit()"
   ]
  },
  {
   "cell_type": "code",
   "execution_count": 9,
   "id": "38db4705-5b58-4553-a017-4872fd28656e",
   "metadata": {},
   "outputs": [
    {
     "name": "stdout",
     "output_type": "stream",
     "text": [
      "✅ Patient data loaded into MySQL successfully!\n"
     ]
    }
   ],
   "source": [
    "# Select required columns\n",
    "patients_df = patients_df[[\"patient_id\", \"age\", \"gender\", \"has_diabetes\", \"has_hypertension\"]]\n",
    "\n",
    "# Remove duplicate patient IDs\n",
    "patients_df = patients_df.drop_duplicates(subset=[\"patient_id\"])\n",
    "\n",
    "# Convert data types to match MySQL schema\n",
    "patients_df[\"patient_id\"] = patients_df[\"patient_id\"].astype(str)  # Ensure consistency\n",
    "patients_df[\"age\"] = patients_df[\"age\"].fillna(0).astype(int)  # Handle missing age values\n",
    "patients_df[\"gender\"] = patients_df[\"gender\"].fillna(\"Unknown\")  # Handle missing gender\n",
    "patients_df[\"has_diabetes\"] = patients_df[\"has_diabetes\"].fillna(0).astype(int)  # Convert NaN to 0\n",
    "patients_df[\"has_hypertension\"] = patients_df[\"has_hypertension\"].fillna(0).astype(int)\n",
    "\n",
    "# Insert into MySQL\n",
    "for _, row in patients_df.iterrows():\n",
    "    cursor.execute(\"\"\"\n",
    "        INSERT INTO patients (patient_id, age, gender, has_diabetes, has_hypertension)\n",
    "        VALUES (%s, %s, %s, %s, %s)\n",
    "    \"\"\", tuple(row))\n",
    "\n",
    "conn.commit()\n",
    "print(\"Patient data loaded into MySQL successfully!\")"
   ]
  },
  {
   "cell_type": "code",
   "execution_count": 10,
   "id": "ddbef921-6ec7-477a-976b-e2de5f7c68d1",
   "metadata": {},
   "outputs": [],
   "source": [
    "cursor.execute(\"\"\"\n",
    "    INSERT INTO date_dimension (full_date, year, month, day, day_of_week, quarter)\n",
    "    SELECT DISTINCT appointment_date, YEAR(appointment_date), MONTH(appointment_date), \n",
    "                    DAY(appointment_date), DAYNAME(appointment_date), QUARTER(appointment_date)\n",
    "    FROM appointments;\n",
    "\"\"\")\n",
    "conn.commit()"
   ]
  },
  {
   "cell_type": "code",
   "execution_count": 11,
   "id": "dc1e60d0-ee55-4dff-bfc6-ded904158c24",
   "metadata": {},
   "outputs": [],
   "source": [
    "for _, row in appointments_df.iterrows():\n",
    "    cursor.execute(\"\"\"\n",
    "        INSERT INTO appointments (appointment_id, patient_id, scheduled_date, appointment_date, status)\n",
    "        VALUES (%s, %s, %s, %s, %s)\n",
    "    \"\"\", tuple(row))\n",
    "conn.commit()"
   ]
  },
  {
   "cell_type": "code",
   "execution_count": 27,
   "id": "1beee30c-8c74-4628-98d0-9f5d975c5473",
   "metadata": {},
   "outputs": [],
   "source": [
    "# Create the dataframe with the correct column names\n",
    "cdc_df = pd.DataFrame(cdc_data)[[\"topic\", \"locationdesc\", \"datavalue\", \"yearstart\"]].rename(columns={\n",
    "    \"topic\": \"condition_name\",\n",
    "    \"locationdesc\": \"state\",\n",
    "    \"datavalue\": \"prevalence\",\n",
    "    \"yearstart\": \"year\"\n",
    "})\n",
    "\n",
    "# Convert Data Types\n",
    "cdc_df[\"prevalence\"] = pd.to_numeric(cdc_df[\"prevalence\"], errors=\"coerce\")\n",
    "cdc_df[\"year\"] = pd.to_numeric(cdc_df[\"year\"], errors=\"coerce\")\n",
    "cdc_df[\"state\"] = cdc_df[\"state\"].str.upper()\n",
    "\n",
    "# Optional: Round prevalence to 2 decimal places\n",
    "cdc_df[\"prevalence\"] = cdc_df[\"prevalence\"].round(2)\n",
    "cdc_df = cdc_df.dropna(subset=[\"prevalence\", \"year\"]) "
   ]
  },
  {
   "cell_type": "code",
   "execution_count": 28,
   "id": "790a5c8a-ada4-4ecb-bfe5-deba05fed6b0",
   "metadata": {},
   "outputs": [],
   "source": [
    "for _, row in cdc_df.iterrows():\n",
    "    cursor.execute(\"\"\"\n",
    "        INSERT INTO chronic_diseases (condition_name, state, prevalence, year)\n",
    "        VALUES (%s, %s, %s, %s)\n",
    "    \"\"\", tuple(row))\n",
    "conn.commit()"
   ]
  },
  {
   "cell_type": "code",
   "execution_count": 32,
   "id": "2240291e-530e-4d3f-a97c-2efaf064eb94",
   "metadata": {},
   "outputs": [],
   "source": [
    "# No-show rate per hospital\n",
    "sql_noshow = \"\"\"SELECT h.hospital_name, COUNT(a.appointment_id) AS total_appointments,\n",
    "       SUM(a.status) AS total_no_shows,\n",
    "       ROUND((SUM(a.status) / COUNT(a.appointment_id)) * 100, 2) AS no_show_rate\n",
    "FROM appointments a\n",
    "JOIN hospitals h ON a.hospital_id = h.hospital_id\n",
    "GROUP BY h.hospital_name\n",
    "ORDER BY no_show_rate DESC\n",
    "LIMIT 10;\"\"\"\n",
    "\n"
   ]
  },
  {
   "cell_type": "code",
   "execution_count": null,
   "id": "99a147e2-51f4-42a5-bed3-a75eccf5d116",
   "metadata": {},
   "outputs": [],
   "source": [
    "# No-Show Trends Over Time \n",
    "sql_overyime = \"\"\"\n",
    "SELECT d.year, d.month, COUNT(a.appointment_id) AS total_appointments,\n",
    "       SUM(a.status) AS total_no_shows,\n",
    "       ROUND((SUM(a.status) / COUNT(a.appointment_id)) * 100, 2) AS no_show_rate\n",
    "FROM appointments a\n",
    "JOIN date_dimension d ON a.date_id = d.date_id\n",
    "GROUP BY d.year, d.month\n",
    "ORDER BY d.year DESC, d.month DESC;\"\"\""
   ]
  },
  {
   "cell_type": "code",
   "execution_count": 31,
   "id": "0b4a5323-64ba-425e-9019-c6eaca0b85a9",
   "metadata": {},
   "outputs": [],
   "source": [
    "# Chronic Disease Impact on No-Shows\n",
    "sql_query = \"\"\"SELECT c.state, c.condition_name, c.prevalence,\n",
    "       COUNT(a.appointment_id) AS total_appointments,\n",
    "       SUM(a.status) AS total_no_shows,\n",
    "       ROUND((SUM(a.status) / COUNT(a.appointment_id)) * 100, 2) AS no_show_rate\n",
    "FROM appointments a\n",
    "JOIN hospitals h ON a.hospital_id = h.hospital_id\n",
    "JOIN chronic_diseases c ON h.state = c.state\n",
    "WHERE c.condition_name = 'Diabetes'\n",
    "GROUP BY c.state, c.condition_name, c.prevalence\n",
    "ORDER BY no_show_rate DESC;\n",
    "\"\"\""
   ]
  },
  {
   "cell_type": "code",
   "execution_count": null,
   "id": "0e455710-d9db-4507-bcf5-e08f5f852cc4",
   "metadata": {},
   "outputs": [],
   "source": [
    "# Compare No-Show Rates by Chronic Disease\n",
    "sql_query2 = \"\"\"SELECT c.condition_name, AVG(c.prevalence) AS avg_prevalence,\n",
    "       COUNT(a.appointment_id) AS total_appointments,\n",
    "       SUM(a.status) AS total_no_shows,\n",
    "       ROUND((SUM(a.status) / COUNT(a.appointment_id)) * 100, 2) AS no_show_rate\n",
    "FROM appointments a\n",
    "JOIN hospitals h ON a.hospital_id = h.hospital_id\n",
    "JOIN chronic_diseases c ON h.state = c.state\n",
    "GROUP BY c.condition_name\n",
    "ORDER BY no_show_rate DESC;\"\"\""
   ]
  }
 ],
 "metadata": {
  "kernelspec": {
   "display_name": "Python 3 (ipykernel)",
   "language": "python",
   "name": "python3"
  },
  "language_info": {
   "codemirror_mode": {
    "name": "ipython",
    "version": 3
   },
   "file_extension": ".py",
   "mimetype": "text/x-python",
   "name": "python",
   "nbconvert_exporter": "python",
   "pygments_lexer": "ipython3",
   "version": "3.11.4"
  }
 },
 "nbformat": 4,
 "nbformat_minor": 5
}
