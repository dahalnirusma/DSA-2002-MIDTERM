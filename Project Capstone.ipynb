{
 "cells": [
  {
   "cell_type": "markdown",
   "metadata": {
    "application/vnd.databricks.v1+cell": {
     "cellMetadata": {},
     "inputWidgets": {},
     "nuid": "a4c48367-6c0b-4987-ba26-d66a4b3bd193",
     "showTitle": false,
     "tableResultSettingsMap": {},
     "title": ""
    }
   },
   "source": [
    "# Public Health Analysis Using CDC Metrics, Patient Data and Hospital General Data"
   ]
  },
  {
   "cell_type": "markdown",
   "metadata": {
    "application/vnd.databricks.v1+cell": {
     "cellMetadata": {},
     "inputWidgets": {},
     "nuid": "afe6918d-fc66-4f27-b568-1f6c6ced1609",
     "showTitle": false,
     "tableResultSettingsMap": {},
     "title": ""
    }
   },
   "source": [
    "Start by setting up the Databricks architecture. "
   ]
  },
  {
   "cell_type": "code",
   "execution_count": 0,
   "metadata": {
    "application/vnd.databricks.v1+cell": {
     "cellMetadata": {
      "byteLimit": 2048000,
      "rowLimit": 10000
     },
     "inputWidgets": {},
     "nuid": "555bf0f5-342c-49fa-a52d-31807a01b1ad",
     "showTitle": false,
     "tableResultSettingsMap": {},
     "title": ""
    }
   },
   "outputs": [],
   "source": [
    "from pyspark.sql import SparkSession\n",
    "from pyspark.sql.functions import *\n",
    "from delta.tables import DeltaTable\n",
    "import pandas as pd\n",
    "\n",
    "\n",
    "\n",
    "# Setting up my datalakes layers - bronze, silver and gold \n",
    "datalake_base = \"/mnt/datalake\"\n",
    "bronze_path       = f\"{datalake_base}/bronze/appointments\"\n",
    "silver_date       = f\"{datalake_base}/silver/dim_date\"\n",
    "silver_patients   = f\"{datalake_base}/silver/dim_patients\"\n",
    "silver_hospitals  = f\"{datalake_base}/silver/dim_hospitals\"\n",
    "silver_doctors    = f\"{datalake_base}/silver/dim_doctors\"\n",
    "silver_appt_types = f\"{datalake_base}/silver/dim_appointment_types\"\n",
    "silver_events     = f\"{datalake_base}/silver/appointments\"\n",
    "\n",
    "gold_facts = f\"{datalake_base}/gold/fact_appointments\"\n",
    "\n",
    "raw_events_base = f\"{datalake_base}/raw/appointment_events\"\n",
    "spark = SparkSession.builder.appName(\"No-Show Analysis\").getOrCreate()"
   ]
  },
  {
   "cell_type": "markdown",
   "metadata": {
    "application/vnd.databricks.v1+cell": {
     "cellMetadata": {},
     "inputWidgets": {},
     "nuid": "d2d91027-1e5d-4c1e-b315-4d53a6bf4c22",
     "showTitle": false,
     "tableResultSettingsMap": {},
     "title": ""
    }
   },
   "source": [
    "Each file must be uploaded, cleaned and placed into a pyspark dataframe before it is queried and worked with. Kaggle provides patient data. We use the same file for hospital general data and CDC data provides us with data points on general health trends."
   ]
  },
  {
   "cell_type": "code",
   "execution_count": 0,
   "metadata": {
    "application/vnd.databricks.v1+cell": {
     "cellMetadata": {
      "byteLimit": 2048000,
      "rowLimit": 10000
     },
     "inputWidgets": {},
     "nuid": "34f5eb16-4275-4551-bd28-a7456c4babbe",
     "showTitle": false,
     "tableResultSettingsMap": {},
     "title": ""
    }
   },
   "outputs": [],
   "source": [
    "# import the patient data first\n",
    "# read the raw csv file using spark, clean up column titles and only retain columns necessary \n",
    "\n",
    "kaggle_sdf = spark.read.csv(\n",
    "    \"dbfs:/FileStore/tables/KaggleV2_May_2016__1_.csv\",\n",
    "    header=True, inferSchema=True\n",
    ")\n",
    "\n",
    "\n",
    "kaggle_sdf = kaggle_sdf.toDF(*[col.replace(\" \", \"_\").lower() for col in kaggle_sdf.columns])\n",
    "\n",
    "# create patient dimension\n",
    "patients_df = kaggle_sdf.selectExpr(\n",
    "    \"patientid AS patient_id\",\n",
    "    \"age\",\n",
    "    \"gender\",\n",
    "    \"diabetes AS has_diabetes\",\n",
    "    \"hipertension AS has_hypertension\"\n",
    ")"
   ]
  },
  {
   "cell_type": "code",
   "execution_count": 0,
   "metadata": {
    "application/vnd.databricks.v1+cell": {
     "cellMetadata": {
      "byteLimit": 2048000,
      "rowLimit": 10000
     },
     "inputWidgets": {},
     "nuid": "0c86e428-3a83-404b-b351-8df73d2093bb",
     "showTitle": false,
     "tableResultSettingsMap": {},
     "title": ""
    }
   },
   "outputs": [],
   "source": [
    "# Load hospital data from general hospital data \n",
    "# clean up column names and rename certain columns for easier access in schema \n",
    "# retain only specific columns\n",
    "hospital_sdf = spark.read.csv(\n",
    "    \"dbfs:/FileStore/tables/Hospital_General_Information__1_-2.csv\",\n",
    "    header=True, inferSchema=True\n",
    ")\n",
    "\n",
    "\n",
    "hospital_sdf = hospital_sdf.toDF(*[col.replace(\" \", \"_\").lower() for col in hospital_sdf.columns])\n",
    "hospital_df = hospital_sdf \\\n",
    "    .withColumnRenamed(\"Facility ID\", \"facility_id\") \\\n",
    "    .withColumnRenamed(\"Facility Name\", \"hospital_name\") \\\n",
    "    .withColumnRenamed(\"City/Town\", \"city\") \\\n",
    "    .withColumnRenamed(\"State\", \"state\") \\\n",
    "    .withColumnRenamed(\"Hospital Type\", \"hospital_type\") \\\n",
    "    .withColumnRenamed(\"Hospital Ownership\", \"hospital_ownership\") \\\n",
    "    .withColumnRenamed(\"Hospital overall rating\", \"hospital_rating\")\n",
    "\n",
    "hospital_df = hospital_sdf.select(\n",
    "    \"facility_id\", \"facility_name\", \"City/Town\", \"state\",\n",
    "    \"hospital_type\", \"hospital_ownership\", \"hospital_overall_rating\"\n",
    ")"
   ]
  },
  {
   "cell_type": "code",
   "execution_count": 0,
   "metadata": {
    "application/vnd.databricks.v1+cell": {
     "cellMetadata": {
      "byteLimit": 2048000,
      "rowLimit": 10000
     },
     "inputWidgets": {},
     "nuid": "f5f0a7a7-25b5-47e3-876b-3ebe3c50b73c",
     "showTitle": false,
     "tableResultSettingsMap": {},
     "title": ""
    }
   },
   "outputs": [
    {
     "output_type": "stream",
     "name": "stdout",
     "output_type": "stream",
     "text": [
      "root\n |-- yearstart: string (nullable = true)\n |-- yearend: string (nullable = true)\n |-- locationabbr: string (nullable = true)\n |-- locationdesc: string (nullable = true)\n |-- topic: string (nullable = true)\n |-- question: string (nullable = true)\n |-- datavalue: string (nullable = true)\n |-- stratification1: string (nullable = true)\n |-- locationid: string (nullable = true)\n |-- coordinates: array (nullable = true)\n |    |-- element: double (containsNull = true)\n\n"
     ]
    },
    {
     "output_type": "display_data",
     "data": {
      "text/html": [
       "<style scoped>\n",
       "  .table-result-container {\n",
       "    max-height: 300px;\n",
       "    overflow: auto;\n",
       "  }\n",
       "  table, th, td {\n",
       "    border: 1px solid black;\n",
       "    border-collapse: collapse;\n",
       "  }\n",
       "  th, td {\n",
       "    padding: 5px;\n",
       "  }\n",
       "  th {\n",
       "    text-align: left;\n",
       "  }\n",
       "</style><div class='table-result-container'><table class='table-result'><thead style='background-color: white'><tr><th>yearstart</th><th>yearend</th><th>locationabbr</th><th>locationdesc</th><th>topic</th><th>question</th><th>datavalue</th><th>stratification1</th><th>locationid</th><th>coordinates</th></tr></thead><tbody><tr><td>2020</td><td>2020</td><td>US</td><td>United States</td><td>Health Status</td><td>Recent activity limitation among adults</td><td>2.9</td><td>Female</td><td>59</td><td>null</td></tr><tr><td>2015</td><td>2019</td><td>AR</td><td>Arkansas</td><td>Cancer</td><td>Invasive cancer (all sites combined), incidence</td><td>9537</td><td>Male</td><td>05</td><td>List(-92.27449074299966, 34.74865012400045)</td></tr><tr><td>2015</td><td>2019</td><td>CA</td><td>California</td><td>Cancer</td><td>Cervical cancer mortality among all females, underlying cause</td><td>486</td><td>Overall</td><td>06</td><td>List(-120.99999953799971, 37.63864012300047)</td></tr><tr><td>2015</td><td>2019</td><td>CO</td><td>Colorado</td><td>Cancer</td><td>Invasive cancer (all sites combined), incidence</td><td>2880</td><td>Hispanic</td><td>08</td><td>List(-106.13361092099967, 38.843840757000464)</td></tr><tr><td>2015</td><td>2019</td><td>GA</td><td>Georgia</td><td>Cancer</td><td>Prostate cancer mortality among all males, underlying cause</td><td>519</td><td>White, non-Hispanic</td><td>13</td><td>List(-83.62758034599966, 32.83968109300048)</td></tr><tr><td>2015</td><td>2019</td><td>KS</td><td>Kansas</td><td>Cancer</td><td>Invasive cancer (all sites combined), incidence</td><td>8102</td><td>Male</td><td>20</td><td>List(-98.20078122699965, 38.34774030000045)</td></tr><tr><td>2015</td><td>2019</td><td>ME</td><td>Maine</td><td>Cancer</td><td>Invasive cancer (all sites combined), incidence</td><td>9238</td><td>Overall</td><td>23</td><td>List(-68.98503133599962, 45.254228894000505)</td></tr><tr><td>2015</td><td>2019</td><td>NJ</td><td>New Jersey</td><td>Cancer</td><td>Invasive cancer (all sites combined), incidence</td><td>5587</td><td>Hispanic</td><td>34</td><td>List(-74.27369128799967, 40.13057004800049)</td></tr><tr><td>2015</td><td>2019</td><td>NY</td><td>New York</td><td>Cancer</td><td>Breast cancer mortality among all females, underlying cause</td><td>2547</td><td>Female</td><td>36</td><td>List(-75.54397042699964, 42.82700103200045)</td></tr><tr><td>2015</td><td>2019</td><td>OR</td><td>Oregon</td><td>Cancer</td><td>Breast cancer mortality among all females, underlying cause</td><td>548</td><td>Overall</td><td>41</td><td>List(-120.15503132599969, 44.56744942400047)</td></tr><tr><td>2015</td><td>2019</td><td>SD</td><td>South Dakota</td><td>Cancer</td><td>Prostate cancer mortality among all males, underlying cause</td><td>20.2</td><td>Overall</td><td>46</td><td>List(-100.3735306369997, 44.353130053000484)</td></tr><tr><td>2015</td><td>2019</td><td>TX</td><td>Texas</td><td>Cancer</td><td>Cervical cancer mortality among all females, underlying cause</td><td>2.9</td><td>Female</td><td>48</td><td>List(-99.42677020599967, 31.827240407000488)</td></tr><tr><td>2015</td><td>2019</td><td>US</td><td>United States</td><td>Cancer</td><td>Invasive cancer (all sites combined) mortality among all people, underlying cause</td><td>314982</td><td>Male</td><td>59</td><td>null</td></tr><tr><td>2015</td><td>2019</td><td>VT</td><td>Vermont</td><td>Cancer</td><td>Prostate cancer mortality among all males, underlying cause</td><td>23</td><td>Overall</td><td>50</td><td>List(-72.51764079099962, 43.62538123900049)</td></tr><tr><td>2015</td><td>2019</td><td>WV</td><td>West Virginia</td><td>Cancer</td><td>Breast cancer mortality among all females, underlying cause</td><td>31.6</td><td>Female</td><td>54</td><td>List(-80.71264013499967, 38.66551020200046)</td></tr><tr><td>2015</td><td>2019</td><td>WI</td><td>Wisconsin</td><td>Cancer</td><td>Invasive cancer (all sites combined), incidence</td><td>444.6</td><td>Female</td><td>55</td><td>List(-89.81637074199966, 44.39319117400049)</td></tr><tr><td>2020</td><td>2020</td><td>ID</td><td>Idaho</td><td>Diabetes</td><td>Diabetic ketoacidosis mortality among all people, underlying or contributing cause</td><td>25</td><td>Age >=65</td><td>16</td><td>List(-114.3637300419997, 43.682630005000476)</td></tr><tr><td>2015</td><td>2019</td><td>WY</td><td>Wyoming</td><td>Cancer</td><td>Breast cancer mortality among all females, underlying cause</td><td>66</td><td>Overall</td><td>56</td><td>List(-108.10983035299967, 43.23554134300048)</td></tr><tr><td>2016</td><td>2020</td><td>AZ</td><td>Arizona</td><td>Cancer</td><td>Lung and bronchial cancer mortality among all people, underlying cause</td><td>1408</td><td>Male</td><td>04</td><td>List(-111.76381127699972, 34.865970280000454)</td></tr><tr><td>2016</td><td>2020</td><td>CA</td><td>California</td><td>Cancer</td><td>Breast cancer mortality among all females, underlying cause</td><td>4503</td><td>Overall</td><td>06</td><td>List(-120.99999953799971, 37.63864012300047)</td></tr><tr><td>2016</td><td>2020</td><td>CA</td><td>California</td><td>Cancer</td><td>Cervical cancer mortality among all females, underlying cause</td><td>484</td><td>Female</td><td>06</td><td>List(-120.99999953799971, 37.63864012300047)</td></tr><tr><td>2016</td><td>2020</td><td>DC</td><td>District of Columbia</td><td>Cancer</td><td>Cervical cancer mortality among all females, underlying cause</td><td>null</td><td>Male</td><td>11</td><td>List(-77.036871, 38.907192)</td></tr><tr><td>2016</td><td>2020</td><td>DC</td><td>District of Columbia</td><td>Cancer</td><td>Invasive cancer (all sites combined), incidence</td><td>1479</td><td>Female</td><td>11</td><td>List(-77.036871, 38.907192)</td></tr><tr><td>2016</td><td>2020</td><td>FL</td><td>Florida</td><td>Cancer</td><td>Breast cancer mortality among all females, underlying cause</td><td>null</td><td>Male</td><td>12</td><td>List(-81.92896053899966, 28.932040377000476)</td></tr><tr><td>2016</td><td>2020</td><td>HI</td><td>Hawaii</td><td>Cancer</td><td>Invasive cancer (all sites combined), incidence</td><td>3644</td><td>Female</td><td>15</td><td>List(-157.85774940299973, 21.304850435000446)</td></tr><tr><td>2016</td><td>2020</td><td>IL</td><td>Illinois</td><td>Cancer</td><td>Prostate cancer mortality among all males, underlying cause</td><td>1231</td><td>Male</td><td>17</td><td>List(-88.99771017799969, 40.48501028300046)</td></tr><tr><td>2016</td><td>2020</td><td>IL</td><td>Illinois</td><td>Cancer</td><td>Invasive cancer (all sites combined), incidence</td><td>560.6</td><td>Male</td><td>17</td><td>List(-88.99771017799969, 40.48501028300046)</td></tr><tr><td>2016</td><td>2020</td><td>IA</td><td>Iowa</td><td>Cancer</td><td>Invasive cancer (all sites combined) mortality among all people, underlying cause</td><td>185.3</td><td>Male</td><td>19</td><td>List(-93.81649055599968, 42.46940091300047)</td></tr><tr><td>2016</td><td>2020</td><td>KS</td><td>Kansas</td><td>Cancer</td><td>Breast cancer mortality among all females, underlying cause</td><td>19.8</td><td>Overall</td><td>20</td><td>List(-98.20078122699965, 38.34774030000045)</td></tr><tr><td>2016</td><td>2020</td><td>KS</td><td>Kansas</td><td>Cancer</td><td>Breast cancer mortality among all females, underlying cause</td><td>14.6</td><td>Hispanic</td><td>20</td><td>List(-98.20078122699965, 38.34774030000045)</td></tr><tr><td>2016</td><td>2020</td><td>ME</td><td>Maine</td><td>Cancer</td><td>Invasive cancer (all sites combined), incidence</td><td>4764</td><td>Male</td><td>23</td><td>List(-68.98503133599962, 45.254228894000505)</td></tr><tr><td>2016</td><td>2020</td><td>MA</td><td>Massachusetts</td><td>Cancer</td><td>Invasive cancer (all sites combined), incidence</td><td>428.3</td><td>Female</td><td>25</td><td>List(-72.08269067499964, 42.27687047000046)</td></tr><tr><td>2016</td><td>2020</td><td>MN</td><td>Minnesota</td><td>Cancer</td><td>Cervical cancer mortality among all females, underlying cause</td><td>1.2</td><td>Overall</td><td>27</td><td>List(-94.79420050299967, 46.35564873600049)</td></tr><tr><td>2016</td><td>2020</td><td>MS</td><td>Mississippi</td><td>Cancer</td><td>Breast cancer mortality among all females, underlying cause</td><td>20</td><td>White, non-Hispanic</td><td>28</td><td>List(-89.53803082499968, 32.745510099000455)</td></tr><tr><td>2016</td><td>2020</td><td>MS</td><td>Mississippi</td><td>Cancer</td><td>Lung and bronchial cancer mortality among all people, underlying cause</td><td>1833</td><td>Overall</td><td>28</td><td>List(-89.53803082499968, 32.745510099000455)</td></tr><tr><td>2016</td><td>2020</td><td>NE</td><td>Nebraska</td><td>Cancer</td><td>Cervical cancer mortality among all females, underlying cause</td><td>20</td><td>White, non-Hispanic</td><td>31</td><td>List(-99.36572062299967, 41.6410409880005)</td></tr><tr><td>2016</td><td>2020</td><td>NH</td><td>New Hampshire</td><td>Cancer</td><td>Invasive cancer (all sites combined), incidence</td><td>622.4</td><td>Female</td><td>33</td><td>List(-71.50036091999965, 43.65595011300047)</td></tr><tr><td>2016</td><td>2020</td><td>NM</td><td>New Mexico</td><td>Cancer</td><td>Invasive cancer (all sites combined), incidence</td><td>4697</td><td>Male</td><td>35</td><td>List(-106.24058098499967, 34.52088095200048)</td></tr><tr><td>2016</td><td>2020</td><td>NC</td><td>North Carolina</td><td>Cancer</td><td>Invasive cancer (all sites combined), incidence</td><td>30211</td><td>Male</td><td>37</td><td>List(-79.15925046299964, 35.466220975000454)</td></tr><tr><td>2016</td><td>2020</td><td>SC</td><td>South Carolina</td><td>Cancer</td><td>Prostate cancer mortality among all males, underlying cause</td><td>22.6</td><td>Overall</td><td>45</td><td>List(-81.04537120699968, 33.998821303000454)</td></tr><tr><td>2016</td><td>2020</td><td>SC</td><td>South Carolina</td><td>Cancer</td><td>Prostate cancer mortality among all males, underlying cause</td><td>558</td><td>Male</td><td>45</td><td>List(-81.04537120699968, 33.998821303000454)</td></tr><tr><td>2016</td><td>2020</td><td>SD</td><td>South Dakota</td><td>Cancer</td><td>Invasive cancer (all sites combined) mortality among all people, underlying cause</td><td>7</td><td>Black, non-Hispanic</td><td>46</td><td>List(-100.3735306369997, 44.353130053000484)</td></tr><tr><td>2016</td><td>2020</td><td>UT</td><td>Utah</td><td>Cancer</td><td>Breast cancer mortality among all females, underlying cause</td><td>6</td><td>Asian or Pacific Islander, non-Hispanic</td><td>49</td><td>List(-111.58713063499971, 39.360700171000474)</td></tr><tr><td>2016</td><td>2020</td><td>VT</td><td>Vermont</td><td>Cancer</td><td>Lung and bronchial cancer mortality among all people, underlying cause</td><td>158</td><td>Female</td><td>50</td><td>List(-72.51764079099962, 43.62538123900049)</td></tr><tr><td>2016</td><td>2020</td><td>WV</td><td>West Virginia</td><td>Cancer</td><td>Breast cancer mortality among all females, underlying cause</td><td>286</td><td>Female</td><td>54</td><td>List(-80.71264013499967, 38.66551020200046)</td></tr><tr><td>2016</td><td>2020</td><td>WV</td><td>West Virginia</td><td>Cancer</td><td>Invasive cancer (all sites combined), incidence</td><td>697</td><td>Male</td><td>54</td><td>List(-80.71264013499967, 38.66551020200046)</td></tr><tr><td>2016</td><td>2020</td><td>WI</td><td>Wisconsin</td><td>Cancer</td><td>Invasive cancer (all sites combined), incidence</td><td>16451</td><td>Female</td><td>55</td><td>List(-89.81637074199966, 44.39319117400049)</td></tr><tr><td>2016</td><td>2020</td><td>WY</td><td>Wyoming</td><td>Cancer</td><td>Colon and rectum (colorectal) cancer mortality among all people, underlying cause</td><td>15</td><td>Overall</td><td>56</td><td>List(-108.10983035299967, 43.23554134300048)</td></tr><tr><td>2016</td><td>2020</td><td>WY</td><td>Wyoming</td><td>Cancer</td><td>Cervical cancer mortality among all females, underlying cause</td><td>2.1</td><td>Overall</td><td>56</td><td>List(-108.10983035299967, 43.23554134300048)</td></tr><tr><td>2016</td><td>2020</td><td>WY</td><td>Wyoming</td><td>Cancer</td><td>Cervical cancer mortality among all females, underlying cause</td><td>2.1</td><td>Female</td><td>56</td><td>List(-108.10983035299967, 43.23554134300048)</td></tr><tr><td>2016</td><td>2020</td><td>WY</td><td>Wyoming</td><td>Cancer</td><td>Invasive cancer (all sites combined) mortality among all people, underlying cause</td><td>542</td><td>Male</td><td>56</td><td>List(-108.10983035299967, 43.23554134300048)</td></tr><tr><td>2018</td><td>2019</td><td>AL</td><td>Alabama</td><td>Sleep</td><td>Short sleep duration among children aged 4 months to 14 years</td><td>40.9</td><td>Female</td><td>01</td><td>List(-86.63186076199969, 32.84057112200048)</td></tr><tr><td>2020</td><td>2020</td><td>KY</td><td>Kentucky</td><td>Immunization</td><td>Influenza vaccination among adults</td><td>41.6</td><td>Black, non-Hispanic</td><td>21</td><td>List(-84.77497104799966, 37.645970271000465)</td></tr><tr><td>2018</td><td>2019</td><td>ID</td><td>Idaho</td><td>Sleep</td><td>Short sleep duration among children aged 4 months to 14 years</td><td>27.3</td><td>Male</td><td>16</td><td>List(-114.3637300419997, 43.682630005000476)</td></tr><tr><td>2018</td><td>2019</td><td>KS</td><td>Kansas</td><td>Sleep</td><td>Short sleep duration among children aged 4 months to 14 years</td><td>34.2</td><td>Male</td><td>20</td><td>List(-98.20078122699965, 38.34774030000045)</td></tr><tr><td>2018</td><td>2019</td><td>MD</td><td>Maryland</td><td>Sleep</td><td>Short sleep duration among children aged 4 months to 14 years</td><td>41.6</td><td>Female</td><td>24</td><td>List(-76.60926011099963, 39.29058096400047)</td></tr><tr><td>2018</td><td>2019</td><td>MN</td><td>Minnesota</td><td>Nutrition, Physical Activity, and Weight Status</td><td>Children and adolescents aged 6-13 years meeting aerobic physical activity guideline</td><td>36.4</td><td>Male</td><td>27</td><td>List(-94.79420050299967, 46.35564873600049)</td></tr><tr><td>2018</td><td>2019</td><td>MO</td><td>Missouri</td><td>Sleep</td><td>Short sleep duration among children aged 4 months to 14 years</td><td>31.7</td><td>Age 6-14</td><td>29</td><td>List(-92.56630005299968, 38.635790776000476)</td></tr><tr><td>2018</td><td>2019</td><td>MT</td><td>Montana</td><td>Sleep</td><td>Short sleep duration among children aged 4 months to 14 years</td><td>26</td><td>Female</td><td>30</td><td>List(-109.42442064499971, 47.06652897200047)</td></tr><tr><td>2018</td><td>2019</td><td>NV</td><td>Nevada</td><td>Nutrition, Physical Activity, and Weight Status</td><td>Children and adolescents aged 6-13 years meeting aerobic physical activity guideline</td><td>17.2</td><td>Male</td><td>32</td><td>List(-117.07184056399967, 39.493240390000494)</td></tr><tr><td>2018</td><td>2019</td><td>ND</td><td>North Dakota</td><td>Sleep</td><td>Short sleep duration among children aged 4 months to 14 years</td><td>25.5</td><td>Female</td><td>38</td><td>List(-100.11842104899966, 47.47531977900047)</td></tr><tr><td>2018</td><td>2019</td><td>US</td><td>United States</td><td>Sleep</td><td>Short sleep duration among children aged 4 months to 14 years</td><td>34.4</td><td>Overall</td><td>59</td><td>null</td></tr><tr><td>2018</td><td>2019</td><td>UT</td><td>Utah</td><td>Oral Health</td><td>Receipt of evidence-based preventive dental services in the past 12 months among children and adolescents aged 1-17 years</td><td>62.7</td><td>Age 12-17</td><td>49</td><td>List(-111.58713063499971, 39.360700171000474)</td></tr><tr><td>2018</td><td>2019</td><td>VI</td><td>Virgin Islands</td><td>Oral Health</td><td>Receipt of evidence-based preventive dental services in the past 12 months among children and adolescents aged 1-17 years</td><td>null</td><td>Male</td><td>78</td><td>List(-64.896335, 18.335765)</td></tr><tr><td>2018</td><td>2019</td><td>WV</td><td>West Virginia</td><td>Sleep</td><td>Short sleep duration among children aged 4 months to 14 years</td><td>45.5</td><td>Age 4 m - 5 y</td><td>54</td><td>List(-80.71264013499967, 38.66551020200046)</td></tr><tr><td>2019</td><td>2019</td><td>AL</td><td>Alabama</td><td>Arthritis</td><td>Arthritis among adults</td><td>29.9</td><td>Male</td><td>01</td><td>List(-86.63186076199969, 32.84057112200048)</td></tr><tr><td>2019</td><td>2019</td><td>AL</td><td>Alabama</td><td>Asthma</td><td>Current asthma among adults</td><td>8.1</td><td>Male</td><td>01</td><td>List(-86.63186076199969, 32.84057112200048)</td></tr><tr><td>2019</td><td>2019</td><td>AL</td><td>Alabama</td><td>Cardiovascular Disease</td><td>Taking medicine to control high blood pressure among adults with high blood pressure</td><td>85.2</td><td>Female</td><td>01</td><td>List(-86.63186076199969, 32.84057112200048)</td></tr><tr><td>2019</td><td>2019</td><td>AL</td><td>Alabama</td><td>Cardiovascular Disease</td><td>Coronary heart disease mortality among all people, underlying cause</td><td>2003</td><td>Female</td><td>01</td><td>List(-86.63186076199969, 32.84057112200048)</td></tr><tr><td>2019</td><td>2019</td><td>AL</td><td>Alabama</td><td>Disability</td><td>Adults with any disability</td><td>35.1</td><td>White, non-Hispanic</td><td>01</td><td>List(-86.63186076199969, 32.84057112200048)</td></tr><tr><td>2019</td><td>2019</td><td>AL</td><td>Alabama</td><td>Mental Health</td><td>Frequent mental distress among adults</td><td>21</td><td>Age 18-44</td><td>01</td><td>List(-86.63186076199969, 32.84057112200048)</td></tr><tr><td>2019</td><td>2019</td><td>AL</td><td>Alabama</td><td>Sleep</td><td>Short sleep duration among high school students</td><td>80</td><td>Grade 12</td><td>01</td><td>List(-86.63186076199969, 32.84057112200048)</td></tr><tr><td>2019</td><td>2019</td><td>AL</td><td>Alabama</td><td>Tobacco</td><td>Quit attempts in the past year among adult current smokers</td><td>null</td><td>Hawaiian or Pacific Islander, non-Hispanic</td><td>01</td><td>List(-86.63186076199969, 32.84057112200048)</td></tr><tr><td>2019</td><td>2019</td><td>AK</td><td>Alaska</td><td>Alcohol</td><td>Binge drinking prevalence among adults</td><td>11.1</td><td>Female</td><td>02</td><td>List(-147.72205903599973, 64.84507995700051)</td></tr><tr><td>2019</td><td>2019</td><td>AK</td><td>Alaska</td><td>Asthma</td><td>Current asthma among adults</td><td>13.3</td><td>Female</td><td>02</td><td>List(-147.72205903599973, 64.84507995700051)</td></tr><tr><td>2019</td><td>2019</td><td>AK</td><td>Alaska</td><td>Chronic Obstructive Pulmonary Disease</td><td>Chronic obstructive pulmonary disease mortality among adults aged 45 years and older, underlying cause</td><td>70</td><td>Overall</td><td>02</td><td>List(-147.72205903599973, 64.84507995700051)</td></tr><tr><td>2019</td><td>2019</td><td>AK</td><td>Alaska</td><td>Disability</td><td>Adults with any disability</td><td>25.5</td><td>Female</td><td>02</td><td>List(-147.72205903599973, 64.84507995700051)</td></tr><tr><td>2019</td><td>2019</td><td>AK</td><td>Alaska</td><td>Health Status</td><td>Frequent physical distress among adults</td><td>13.4</td><td>Age 45-64</td><td>02</td><td>List(-147.72205903599973, 64.84507995700051)</td></tr><tr><td>2019</td><td>2019</td><td>AK</td><td>Alaska</td><td>Nutrition, Physical Activity, and Weight Status</td><td>Obesity among adults</td><td>26.9</td><td>Age 18-44</td><td>02</td><td>List(-147.72205903599973, 64.84507995700051)</td></tr><tr><td>2019</td><td>2019</td><td>AZ</td><td>Arizona</td><td>Alcohol</td><td>Binge drinking prevalence among adults</td><td>20.9</td><td>Age 18-44</td><td>04</td><td>List(-111.76381127699972, 34.865970280000454)</td></tr><tr><td>2019</td><td>2019</td><td>AZ</td><td>Arizona</td><td>Arthritis</td><td>Arthritis among adults</td><td>28.4</td><td>Black, non-Hispanic</td><td>04</td><td>List(-111.76381127699972, 34.865970280000454)</td></tr><tr><td>2019</td><td>2019</td><td>AZ</td><td>Arizona</td><td>Arthritis</td><td>Received health care provider counseling for physical activity among adults with arthritis</td><td>61.9</td><td>Age 18-44</td><td>04</td><td>List(-111.76381127699972, 34.865970280000454)</td></tr><tr><td>2019</td><td>2019</td><td>AZ</td><td>Arizona</td><td>Asthma</td><td>Asthma mortality among all people, underlying cause</td><td>37</td><td>Age >=65</td><td>04</td><td>List(-111.76381127699972, 34.865970280000454)</td></tr><tr><td>2019</td><td>2019</td><td>AZ</td><td>Arizona</td><td>Chronic Obstructive Pulmonary Disease</td><td>Current smoking among adults with chronic obstructive pulmonary disease</td><td>null</td><td>Asian, non-Hispanic</td><td>04</td><td>List(-111.76381127699972, 34.865970280000454)</td></tr><tr><td>2020</td><td>2020</td><td>WV</td><td>West Virginia</td><td>Alcohol</td><td>Binge drinking frequency among adults who binge drink</td><td>null</td><td>Hispanic</td><td>54</td><td>List(-80.71264013499967, 38.66551020200046)</td></tr><tr><td>2019</td><td>2019</td><td>AZ</td><td>Arizona</td><td>Sleep</td><td>Short sleep duration among high school students</td><td>78.4</td><td>Male</td><td>04</td><td>List(-111.76381127699972, 34.865970280000454)</td></tr><tr><td>2019</td><td>2019</td><td>AR</td><td>Arkansas</td><td>Arthritis</td><td>Arthritis among adults</td><td>33.8</td><td>Female</td><td>05</td><td>List(-92.27449074299966, 34.74865012400045)</td></tr><tr><td>2019</td><td>2019</td><td>AR</td><td>Arkansas</td><td>Mental Health</td><td>Depression among adults</td><td>27.8</td><td>Age 18-44</td><td>05</td><td>List(-92.27449074299966, 34.74865012400045)</td></tr><tr><td>2019</td><td>2019</td><td>CT</td><td>Connecticut</td><td>Alcohol</td><td>Binge drinking prevalence among adults</td><td>20.8</td><td>Male</td><td>09</td><td>List(-72.64984095199964, 41.56266102000046)</td></tr><tr><td>2019</td><td>2019</td><td>CT</td><td>Connecticut</td><td>Arthritis</td><td>Physical inactivity among adults with arthritis</td><td>26.9</td><td>Overall</td><td>09</td><td>List(-72.64984095199964, 41.56266102000046)</td></tr><tr><td>2019</td><td>2019</td><td>CT</td><td>Connecticut</td><td>Arthritis</td><td>Received health care provider counseling for physical activity among adults with arthritis</td><td>59.9</td><td>Male</td><td>09</td><td>List(-72.64984095199964, 41.56266102000046)</td></tr><tr><td>2019</td><td>2019</td><td>CT</td><td>Connecticut</td><td>Cardiovascular Disease</td><td>High cholesterol among adults who have been screened</td><td>30</td><td>Hispanic</td><td>09</td><td>List(-72.64984095199964, 41.56266102000046)</td></tr><tr><td>2019</td><td>2019</td><td>CT</td><td>Connecticut</td><td>Cardiovascular Disease</td><td>Taking medicine for high cholesterol among adults</td><td>35.1</td><td>Male</td><td>09</td><td>List(-72.64984095199964, 41.56266102000046)</td></tr><tr><td>2019</td><td>2019</td><td>CT</td><td>Connecticut</td><td>Cardiovascular Disease</td><td>Cerebrovascular disease (stroke) mortality among all people, underlying cause</td><td>1252</td><td>Age >=65</td><td>09</td><td>List(-72.64984095199964, 41.56266102000046)</td></tr><tr><td>2019</td><td>2019</td><td>CT</td><td>Connecticut</td><td>Immunization</td><td>Influenza vaccination among adults 18â€“64 who are at increased risk</td><td>45.5</td><td>Black, non-Hispanic</td><td>09</td><td>List(-72.64984095199964, 41.56266102000046)</td></tr><tr><td>2019</td><td>2019</td><td>CT</td><td>Connecticut</td><td>Immunization</td><td>Influenza vaccination among adults 18â€“64 who are at increased risk</td><td>47.6</td><td>Male</td><td>09</td><td>List(-72.64984095199964, 41.56266102000046)</td></tr><tr><td>2019</td><td>2019</td><td>CT</td><td>Connecticut</td><td>Immunization</td><td>Pneumococcal vaccination among adults aged 65 years and older</td><td>74.2</td><td>Overall</td><td>09</td><td>List(-72.64984095199964, 41.56266102000046)</td></tr><tr><td>2019</td><td>2019</td><td>CT</td><td>Connecticut</td><td>Social Determinants of Health</td><td>Lack of health insurance among adults aged 18-64 years</td><td>9.2</td><td>Female</td><td>09</td><td>List(-72.64984095199964, 41.56266102000046)</td></tr><tr><td>2019</td><td>2019</td><td>DE</td><td>Delaware</td><td>Arthritis</td><td>Physical inactivity among adults with arthritis</td><td>null</td><td>Hispanic</td><td>10</td><td>List(-75.57774116799965, 39.008830667000495)</td></tr><tr><td>2019</td><td>2019</td><td>DE</td><td>Delaware</td><td>Asthma</td><td>Asthma mortality among all people, underlying cause</td><td>null</td><td>Hispanic</td><td>10</td><td>List(-75.57774116799965, 39.008830667000495)</td></tr><tr><td>2019</td><td>2019</td><td>DE</td><td>Delaware</td><td>Cardiovascular Disease</td><td>High blood pressure among adults</td><td>38.8</td><td>White, non-Hispanic</td><td>10</td><td>List(-75.57774116799965, 39.008830667000495)</td></tr><tr><td>2019</td><td>2019</td><td>DE</td><td>Delaware</td><td>Cardiovascular Disease</td><td>Diseases of the heart mortality among all people, underlying cause</td><td>2053</td><td>Overall</td><td>10</td><td>List(-75.57774116799965, 39.008830667000495)</td></tr><tr><td>2019</td><td>2019</td><td>DE</td><td>Delaware</td><td>Diabetes</td><td>Diabetes among adults</td><td>15.5</td><td>Age 45-64</td><td>10</td><td>List(-75.57774116799965, 39.008830667000495)</td></tr><tr><td>2019</td><td>2019</td><td>DE</td><td>Delaware</td><td>Diabetes</td><td>Gestational diabetes among women with a recent live birth</td><td>12.5</td><td>White, non-Hispanic</td><td>10</td><td>List(-75.57774116799965, 39.008830667000495)</td></tr><tr><td>2019</td><td>2019</td><td>DE</td><td>Delaware</td><td>Diabetes</td><td>Diabetes mortality among all people, underlying or contributing cause</td><td>275</td><td>Female</td><td>10</td><td>List(-75.57774116799965, 39.008830667000495)</td></tr><tr><td>2019</td><td>2021</td><td>DE</td><td>Delaware</td><td>Social Determinants of Health</td><td>Food insecure in the past 12 months among households</td><td>11.2</td><td>Overall</td><td>10</td><td>List(-75.57774116799965, 39.008830667000495)</td></tr><tr><td>2019</td><td>2019</td><td>DC</td><td>District of Columbia</td><td>Alcohol</td><td>Binge drinking prevalence among adults</td><td>22.3</td><td>Female</td><td>11</td><td>List(-77.036871, 38.907192)</td></tr><tr><td>2019</td><td>2019</td><td>DC</td><td>District of Columbia</td><td>Chronic Obstructive Pulmonary Disease</td><td>Current smoking among adults with chronic obstructive pulmonary disease</td><td>25</td><td>Female</td><td>11</td><td>List(-77.036871, 38.907192)</td></tr><tr><td>2019</td><td>2019</td><td>DC</td><td>District of Columbia</td><td>Cardiovascular Disease</td><td>High blood pressure among adults</td><td>51.6</td><td>Male</td><td>11</td><td>List(-77.036871, 38.907192)</td></tr><tr><td>2019</td><td>2019</td><td>DC</td><td>District of Columbia</td><td>Cardiovascular Disease</td><td>Taking medicine for high cholesterol among adults</td><td>29.7</td><td>Male</td><td>11</td><td>List(-77.036871, 38.907192)</td></tr><tr><td>2019</td><td>2019</td><td>DC</td><td>District of Columbia</td><td>Health Status</td><td>Frequent physical distress among adults</td><td>16.2</td><td>Age >=65</td><td>11</td><td>List(-77.036871, 38.907192)</td></tr><tr><td>2019</td><td>2019</td><td>DC</td><td>District of Columbia</td><td>Tobacco</td><td>Current cigarette smoking among adults</td><td>16.1</td><td>Male</td><td>11</td><td>List(-77.036871, 38.907192)</td></tr><tr><td>2019</td><td>2019</td><td>FL</td><td>Florida</td><td>Asthma</td><td>Current asthma among adults</td><td>5</td><td>Male</td><td>12</td><td>List(-81.92896053899966, 28.932040377000476)</td></tr><tr><td>2019</td><td>2019</td><td>FL</td><td>Florida</td><td>Cardiovascular Disease</td><td>Taking medicine for high cholesterol among adults</td><td>28.9</td><td>Male</td><td>12</td><td>List(-81.92896053899966, 28.932040377000476)</td></tr><tr><td>2019</td><td>2019</td><td>FL</td><td>Florida</td><td>Health Status</td><td>Recent activity limitation among adults</td><td>3.1</td><td>Female</td><td>12</td><td>List(-81.92896053899966, 28.932040377000476)</td></tr><tr><td>2019</td><td>2019</td><td>FL</td><td>Florida</td><td>Health Status</td><td>Life expectancy at birth</td><td>81.8</td><td>Female</td><td>12</td><td>List(-81.92896053899966, 28.932040377000476)</td></tr><tr><td>2019</td><td>2019</td><td>GA</td><td>Georgia</td><td>Cardiovascular Disease</td><td>Taking medicine for high cholesterol among adults</td><td>40.8</td><td>Age 45-64</td><td>13</td><td>List(-83.62758034599966, 32.83968109300048)</td></tr><tr><td>2019</td><td>2019</td><td>GA</td><td>Georgia</td><td>Disability</td><td>Adults with any disability</td><td>28.5</td><td>Overall</td><td>13</td><td>List(-83.62758034599966, 32.83968109300048)</td></tr><tr><td>2019</td><td>2019</td><td>GA</td><td>Georgia</td><td>Health Status</td><td>Fair or poor self-rated health status among adults</td><td>24.7</td><td>Age 45-64</td><td>13</td><td>List(-83.62758034599966, 32.83968109300048)</td></tr><tr><td>2019</td><td>2019</td><td>GU</td><td>Guam</td><td>Alcohol</td><td>Alcohol use among high school students</td><td>28.4</td><td>Male</td><td>66</td><td>List(144.793731, 13.444304)</td></tr><tr><td>2019</td><td>2019</td><td>GU</td><td>Guam</td><td>Chronic Obstructive Pulmonary Disease</td><td>Chronic obstructive pulmonary disease among adults</td><td>2.9</td><td>Female</td><td>66</td><td>List(144.793731, 13.444304)</td></tr><tr><td>2019</td><td>2019</td><td>GU</td><td>Guam</td><td>Cardiovascular Disease</td><td>High blood pressure among adults</td><td>27</td><td>Asian, non-Hispanic</td><td>66</td><td>List(144.793731, 13.444304)</td></tr><tr><td>2019</td><td>2019</td><td>GU</td><td>Guam</td><td>Diabetes</td><td>Diabetes among adults</td><td>10.1</td><td>Female</td><td>66</td><td>List(144.793731, 13.444304)</td></tr><tr><td>2019</td><td>2019</td><td>GU</td><td>Guam</td><td>Health Status</td><td>Frequent physical distress among adults</td><td>11</td><td>Overall</td><td>66</td><td>List(144.793731, 13.444304)</td></tr><tr><td>2019</td><td>2019</td><td>GU</td><td>Guam</td><td>Mental Health</td><td>Depression among adults</td><td>13</td><td>Multiracial, non-Hispanic</td><td>66</td><td>List(144.793731, 13.444304)</td></tr><tr><td>2019</td><td>2019</td><td>GU</td><td>Guam</td><td>Nutrition, Physical Activity, and Weight Status</td><td>No leisure-time physical activity among adults</td><td>33.4</td><td>Female</td><td>66</td><td>List(144.793731, 13.444304)</td></tr><tr><td>2019</td><td>2019</td><td>HI</td><td>Hawaii</td><td>Arthritis</td><td>Arthritis among adults</td><td>18.6</td><td>Female</td><td>15</td><td>List(-157.85774940299973, 21.304850435000446)</td></tr><tr><td>2019</td><td>2020</td><td>HI</td><td>Hawaii</td><td>Cognitive Health and Caregiving</td><td>Provided care for someone with dementia or other cognitive impairment in the past month among adults</td><td>20</td><td>Age 18-44</td><td>15</td><td>List(-157.85774940299973, 21.304850435000446)</td></tr><tr><td>2019</td><td>2019</td><td>HI</td><td>Hawaii</td><td>Cardiovascular Disease</td><td>High blood pressure among adults</td><td>37.3</td><td>Age 45-64</td><td>15</td><td>List(-157.85774940299973, 21.304850435000446)</td></tr><tr><td>2019</td><td>2019</td><td>HI</td><td>Hawaii</td><td>Diabetes</td><td>Diabetes mortality among all people, underlying or contributing cause</td><td>78</td><td>Hispanic</td><td>15</td><td>List(-157.85774940299973, 21.304850435000446)</td></tr><tr><td>2019</td><td>2019</td><td>HI</td><td>Hawaii</td><td>Tobacco</td><td>Current cigarette smoking among adults</td><td>15.2</td><td>Male</td><td>15</td><td>List(-157.85774940299973, 21.304850435000446)</td></tr><tr><td>2019</td><td>2019</td><td>ID</td><td>Idaho</td><td>Cardiovascular Disease</td><td>High blood pressure among adults</td><td>33</td><td>Male</td><td>16</td><td>List(-114.3637300419997, 43.682630005000476)</td></tr><tr><td>2019</td><td>2019</td><td>ID</td><td>Idaho</td><td>Health Status</td><td>Fair or poor self-rated health status among adults</td><td>14.7</td><td>Male</td><td>16</td><td>List(-114.3637300419997, 43.682630005000476)</td></tr><tr><td>2019</td><td>2019</td><td>ID</td><td>Idaho</td><td>Mental Health</td><td>Depression among adults</td><td>22.3</td><td>Age 45-64</td><td>16</td><td>List(-114.3637300419997, 43.682630005000476)</td></tr><tr><td>2019</td><td>2019</td><td>ID</td><td>Idaho</td><td>Mental Health</td><td>Frequent mental distress among adults</td><td>11.5</td><td>Male</td><td>16</td><td>List(-114.3637300419997, 43.682630005000476)</td></tr><tr><td>2019</td><td>2019</td><td>IL</td><td>Illinois</td><td>Alcohol</td><td>Binge drinking intensity among adults who binge drink</td><td>4.6</td><td>Age >=65</td><td>17</td><td>List(-88.99771017799969, 40.48501028300046)</td></tr><tr><td>2019</td><td>2019</td><td>IL</td><td>Illinois</td><td>Cardiovascular Disease</td><td>Taking medicine for high cholesterol among adults</td><td>25.6</td><td>Female</td><td>17</td><td>List(-88.99771017799969, 40.48501028300046)</td></tr><tr><td>2019</td><td>2019</td><td>IL</td><td>Illinois</td><td>Diabetes</td><td>Diabetes mortality among all people, underlying or contributing cause</td><td>4724</td><td>Male</td><td>17</td><td>List(-88.99771017799969, 40.48501028300046)</td></tr><tr><td>2019</td><td>2019</td><td>IL</td><td>Illinois</td><td>Mental Health</td><td>Depression among adults</td><td>13.7</td><td>Age >=65</td><td>17</td><td>List(-88.99771017799969, 40.48501028300046)</td></tr><tr><td>2019</td><td>2019</td><td>IN</td><td>Indiana</td><td>Alcohol</td><td>Alcohol use among high school students</td><td>null</td><td>Male</td><td>18</td><td>List(-86.14996019399968, 39.766910452000445)</td></tr><tr><td>2019</td><td>2019</td><td>IN</td><td>Indiana</td><td>Asthma</td><td>Asthma mortality among all people, underlying cause</td><td>1.2</td><td>Overall</td><td>18</td><td>List(-86.14996019399968, 39.766910452000445)</td></tr><tr><td>2019</td><td>2019</td><td>IN</td><td>Indiana</td><td>Asthma</td><td>Current asthma among adults</td><td>10.7</td><td>Overall</td><td>18</td><td>List(-86.14996019399968, 39.766910452000445)</td></tr><tr><td>2019</td><td>2019</td><td>IN</td><td>Indiana</td><td>Chronic Obstructive Pulmonary Disease</td><td>Chronic obstructive pulmonary disease mortality among adults aged 45 years and older, underlying cause</td><td>235</td><td>Black, non-Hispanic</td><td>18</td><td>List(-86.14996019399968, 39.766910452000445)</td></tr><tr><td>2019</td><td>2019</td><td>IN</td><td>Indiana</td><td>Cardiovascular Disease</td><td>Taking medicine to control high blood pressure among adults with high blood pressure</td><td>67.8</td><td>Female</td><td>18</td><td>List(-86.14996019399968, 39.766910452000445)</td></tr><tr><td>2019</td><td>2019</td><td>IN</td><td>Indiana</td><td>Immunization</td><td>Pneumococcal vaccination among adults aged 65 years and older</td><td>71.9</td><td>Overall</td><td>18</td><td>List(-86.14996019399968, 39.766910452000445)</td></tr><tr><td>2019</td><td>2019</td><td>IN</td><td>Indiana</td><td>Mental Health</td><td>Depression among adults</td><td>26.7</td><td>Female</td><td>18</td><td>List(-86.14996019399968, 39.766910452000445)</td></tr><tr><td>2019</td><td>2019</td><td>IN</td><td>Indiana</td><td>Social Determinants of Health</td><td>Routine checkup within the past year among adults</td><td>91.7</td><td>Age >=65</td><td>18</td><td>List(-86.14996019399968, 39.766910452000445)</td></tr><tr><td>2019</td><td>2019</td><td>IA</td><td>Iowa</td><td>Arthritis</td><td>Arthritis among adults</td><td>null</td><td>Hawaiian or Pacific Islander, non-Hispanic</td><td>19</td><td>List(-93.81649055599968, 42.46940091300047)</td></tr><tr><td>2019</td><td>2019</td><td>IA</td><td>Iowa</td><td>Asthma</td><td>Asthma mortality among all people, underlying cause</td><td>54</td><td>Overall</td><td>19</td><td>List(-93.81649055599968, 42.46940091300047)</td></tr><tr><td>2019</td><td>2019</td><td>IA</td><td>Iowa</td><td>Cardiovascular Disease</td><td>High blood pressure among adults</td><td>34</td><td>Male</td><td>19</td><td>List(-93.81649055599968, 42.46940091300047)</td></tr><tr><td>2019</td><td>2019</td><td>IA</td><td>Iowa</td><td>Diabetes</td><td>Gestational diabetes among women with a recent live birth</td><td>11.6</td><td>Black, non-Hispanic</td><td>19</td><td>List(-93.81649055599968, 42.46940091300047)</td></tr><tr><td>2019</td><td>2019</td><td>IA</td><td>Iowa</td><td>Diabetes</td><td>Diabetes mortality among all people, underlying or contributing cause</td><td>1580</td><td>Female</td><td>19</td><td>List(-93.81649055599968, 42.46940091300047)</td></tr><tr><td>2019</td><td>2019</td><td>IA</td><td>Iowa</td><td>Disability</td><td>Adults with any disability</td><td>17</td><td>Age 18-44</td><td>19</td><td>List(-93.81649055599968, 42.46940091300047)</td></tr><tr><td>2019</td><td>2019</td><td>IA</td><td>Iowa</td><td>Disability</td><td>Adults with any disability</td><td>24.3</td><td>Female</td><td>19</td><td>List(-93.81649055599968, 42.46940091300047)</td></tr><tr><td>2019</td><td>2019</td><td>IA</td><td>Iowa</td><td>Mental Health</td><td>Depression among adults</td><td>11.4</td><td>Male</td><td>19</td><td>List(-93.81649055599968, 42.46940091300047)</td></tr><tr><td>2019</td><td>2019</td><td>KS</td><td>Kansas</td><td>Alcohol</td><td>Binge drinking prevalence among high school students</td><td>18.6</td><td>Female</td><td>20</td><td>List(-98.20078122699965, 38.34774030000045)</td></tr><tr><td>2019</td><td>2019</td><td>KS</td><td>Kansas</td><td>Arthritis</td><td>Arthritis among adults</td><td>21.5</td><td>Male</td><td>20</td><td>List(-98.20078122699965, 38.34774030000045)</td></tr><tr><td>2019</td><td>2019</td><td>KS</td><td>Kansas</td><td>Diabetes</td><td>Diabetes mortality among all people, underlying or contributing cause</td><td>1092</td><td>Female</td><td>20</td><td>List(-98.20078122699965, 38.34774030000045)</td></tr><tr><td>2019</td><td>2019</td><td>KS</td><td>Kansas</td><td>Health Status</td><td>Recent activity limitation among adults</td><td>2.5</td><td>White, non-Hispanic</td><td>20</td><td>List(-98.20078122699965, 38.34774030000045)</td></tr><tr><td>2019</td><td>2019</td><td>KS</td><td>Kansas</td><td>Immunization</td><td>Influenza vaccination among adults</td><td>65.5</td><td>Age >=65</td><td>20</td><td>List(-98.20078122699965, 38.34774030000045)</td></tr><tr><td>2019</td><td>2019</td><td>KS</td><td>Kansas</td><td>Nutrition, Physical Activity, and Weight Status</td><td>Consumed vegetables less than one time daily among adults</td><td>23</td><td>Male</td><td>20</td><td>List(-98.20078122699965, 38.34774030000045)</td></tr><tr><td>2019</td><td>2019</td><td>KY</td><td>Kentucky</td><td>Disability</td><td>Adults with any disability</td><td>34.8</td><td>White, non-Hispanic</td><td>21</td><td>List(-84.77497104799966, 37.645970271000465)</td></tr><tr><td>2019</td><td>2019</td><td>KY</td><td>Kentucky</td><td>Nutrition, Physical Activity, and Weight Status</td><td>Met aerobic physical activity guideline among high school students</td><td>19</td><td>Overall</td><td>21</td><td>List(-84.77497104799966, 37.645970271000465)</td></tr><tr><td>2019</td><td>2019</td><td>KY</td><td>Kentucky</td><td>Social Determinants of Health</td><td>Lack of health insurance among adults aged 18-64 years</td><td>9.5</td><td>White, non-Hispanic</td><td>21</td><td>List(-84.77497104799966, 37.645970271000465)</td></tr><tr><td>2019</td><td>2019</td><td>LA</td><td>Louisiana</td><td>Alcohol</td><td>Alcohol use among high school students</td><td>16.5</td><td>Hispanic</td><td>22</td><td>List(-92.44568007099969, 31.31266064400046)</td></tr><tr><td>2019</td><td>2019</td><td>LA</td><td>Louisiana</td><td>Arthritis</td><td>Physical inactivity among adults with arthritis</td><td>38.7</td><td>Overall</td><td>22</td><td>List(-92.44568007099969, 31.31266064400046)</td></tr><tr><td>2019</td><td>2019</td><td>ME</td><td>Maine</td><td>Alcohol</td><td>Chronic liver disease mortality among all people, underlying cause</td><td>84</td><td>Female</td><td>23</td><td>List(-68.98503133599962, 45.254228894000505)</td></tr><tr><td>2019</td><td>2019</td><td>ME</td><td>Maine</td><td>Arthritis</td><td>Arthritis among adults</td><td>28</td><td>Male</td><td>23</td><td>List(-68.98503133599962, 45.254228894000505)</td></tr><tr><td>2019</td><td>2019</td><td>ME</td><td>Maine</td><td>Diabetes</td><td>Diabetes mortality among all people, underlying or contributing cause</td><td>82.2</td><td>Male</td><td>23</td><td>List(-68.98503133599962, 45.254228894000505)</td></tr><tr><td>2019</td><td>2019</td><td>ME</td><td>Maine</td><td>Disability</td><td>Adults with any disability</td><td>32.5</td><td>Female</td><td>23</td><td>List(-68.98503133599962, 45.254228894000505)</td></tr><tr><td>2019</td><td>2019</td><td>ME</td><td>Maine</td><td>Immunization</td><td>Influenza vaccination among adults</td><td>45.7</td><td>Age 45-64</td><td>23</td><td>List(-68.98503133599962, 45.254228894000505)</td></tr><tr><td>2019</td><td>2019</td><td>ME</td><td>Maine</td><td>Social Determinants of Health</td><td>Routine checkup within the past year among adults</td><td>64.9</td><td>Age 18-44</td><td>23</td><td>List(-68.98503133599962, 45.254228894000505)</td></tr><tr><td>2019</td><td>2019</td><td>MD</td><td>Maryland</td><td>Alcohol</td><td>Binge drinking frequency among adults who binge drink</td><td>3.3</td><td>Age >=65</td><td>24</td><td>List(-76.60926011099963, 39.29058096400047)</td></tr><tr><td>2019</td><td>2019</td><td>MD</td><td>Maryland</td><td>Alcohol</td><td>Binge drinking intensity among adults who binge drink</td><td>5.5</td><td>Age 18-44</td><td>24</td><td>List(-76.60926011099963, 39.29058096400047)</td></tr><tr><td>2019</td><td>2019</td><td>MD</td><td>Maryland</td><td>Chronic Kidney Disease</td><td>Incidence of treated end-stage kidney disease</td><td>2604</td><td>Overall</td><td>24</td><td>List(-76.60926011099963, 39.29058096400047)</td></tr><tr><td>2019</td><td>2019</td><td>MD</td><td>Maryland</td><td>Diabetes</td><td>Diabetes mortality among all people, underlying or contributing cause</td><td>140</td><td>Hispanic</td><td>24</td><td>List(-76.60926011099963, 39.29058096400047)</td></tr><tr><td>2019</td><td>2019</td><td>MD</td><td>Maryland</td><td>Mental Health</td><td>Average mentally unhealthy days among adults</td><td>4.7</td><td>Age 18-44</td><td>24</td><td>List(-76.60926011099963, 39.29058096400047)</td></tr><tr><td>2019</td><td>2019</td><td>MA</td><td>Massachusetts</td><td>Cardiovascular Disease</td><td>High blood pressure among adults</td><td>42.8</td><td>Overall</td><td>25</td><td>List(-72.08269067499964, 42.27687047000046)</td></tr><tr><td>2019</td><td>2019</td><td>MA</td><td>Massachusetts</td><td>Health Status</td><td>Frequent physical distress among adults</td><td>14.7</td><td>Age >=65</td><td>25</td><td>List(-72.08269067499964, 42.27687047000046)</td></tr><tr><td>2019</td><td>2019</td><td>MA</td><td>Massachusetts</td><td>Nutrition, Physical Activity, and Weight Status</td><td>Consumed fruit less than one time daily among adults</td><td>40</td><td>Male</td><td>25</td><td>List(-72.08269067499964, 42.27687047000046)</td></tr><tr><td>2019</td><td>2019</td><td>MI</td><td>Michigan</td><td>Cardiovascular Disease</td><td>Cerebrovascular disease (stroke) mortality among all people, underlying cause</td><td>42.7</td><td>Male</td><td>26</td><td>List(-84.71439026999968, 44.6613195430005)</td></tr><tr><td>2019</td><td>2019</td><td>MI</td><td>Michigan</td><td>Mental Health</td><td>Depression among adults</td><td>23.4</td><td>Age 18-44</td><td>26</td><td>List(-84.71439026999968, 44.6613195430005)</td></tr><tr><td>2019</td><td>2019</td><td>MI</td><td>Michigan</td><td>Mental Health</td><td>Average mentally unhealthy days among adults</td><td>3.2</td><td>Overall</td><td>26</td><td>List(-84.71439026999968, 44.6613195430005)</td></tr><tr><td>2019</td><td>2019</td><td>MI</td><td>Michigan</td><td>Mental Health</td><td>Frequent mental distress among adults</td><td>19.7</td><td>Female</td><td>26</td><td>List(-84.71439026999968, 44.6613195430005)</td></tr><tr><td>2019</td><td>2019</td><td>MI</td><td>Michigan</td><td>Social Determinants of Health</td><td>High school completion among adults aged 18-24</td><td>85.9</td><td>Male</td><td>26</td><td>List(-84.71439026999968, 44.6613195430005)</td></tr><tr><td>2019</td><td>2019</td><td>MI</td><td>Michigan</td><td>Social Determinants of Health</td><td>Routine checkup within the past year among adults</td><td>80.2</td><td>Overall</td><td>26</td><td>List(-84.71439026999968, 44.6613195430005)</td></tr><tr><td>2019</td><td>2019</td><td>MI</td><td>Michigan</td><td>Sleep</td><td>Short sleep duration among high school students</td><td>87.6</td><td>Grade 12</td><td>26</td><td>List(-84.71439026999968, 44.6613195430005)</td></tr><tr><td>2019</td><td>2019</td><td>MS</td><td>Mississippi</td><td>Chronic Obstructive Pulmonary Disease</td><td>Chronic obstructive pulmonary disease among adults</td><td>10.3</td><td>Female</td><td>28</td><td>List(-89.53803082499968, 32.745510099000455)</td></tr><tr><td>2019</td><td>2019</td><td>MS</td><td>Mississippi</td><td>Health Status</td><td>Average recent physically unhealthy days among adults</td><td>2.4</td><td>Age 18-44</td><td>28</td><td>List(-89.53803082499968, 32.745510099000455)</td></tr><tr><td>2019</td><td>2019</td><td>MS</td><td>Mississippi</td><td>Immunization</td><td>Influenza vaccination among adults</td><td>35.1</td><td>Male</td><td>28</td><td>List(-89.53803082499968, 32.745510099000455)</td></tr><tr><td>2019</td><td>2019</td><td>MS</td><td>Mississippi</td><td>Mental Health</td><td>Depression among adults</td><td>20.6</td><td>Overall</td><td>28</td><td>List(-89.53803082499968, 32.745510099000455)</td></tr><tr><td>2019</td><td>2019</td><td>MS</td><td>Mississippi</td><td>Mental Health</td><td>Average mentally unhealthy days among adults</td><td>2.3</td><td>Female</td><td>28</td><td>List(-89.53803082499968, 32.745510099000455)</td></tr><tr><td>2019</td><td>2019</td><td>MO</td><td>Missouri</td><td>Alcohol</td><td>Alcohol use among high school students</td><td>24.6</td><td>Grade 10</td><td>29</td><td>List(-92.56630005299968, 38.635790776000476)</td></tr><tr><td>2019</td><td>2019</td><td>MO</td><td>Missouri</td><td>Diabetes</td><td>Diabetes mortality among all people, underlying or contributing cause</td><td>2029</td><td>Female</td><td>29</td><td>List(-92.56630005299968, 38.635790776000476)</td></tr><tr><td>2019</td><td>2019</td><td>MO</td><td>Missouri</td><td>Health Status</td><td>Recent activity limitation among adults</td><td>3.2</td><td>Age >=65</td><td>29</td><td>List(-92.56630005299968, 38.635790776000476)</td></tr><tr><td>2019</td><td>2019</td><td>MO</td><td>Missouri</td><td>Immunization</td><td>Influenza vaccination among adults</td><td>67.8</td><td>Age >=65</td><td>29</td><td>List(-92.56630005299968, 38.635790776000476)</td></tr><tr><td>2019</td><td>2019</td><td>MO</td><td>Missouri</td><td>Mental Health</td><td>Depression among adults</td><td>16.3</td><td>Male</td><td>29</td><td>List(-92.56630005299968, 38.635790776000476)</td></tr><tr><td>2019</td><td>2019</td><td>MO</td><td>Missouri</td><td>Mental Health</td><td>Frequent mental distress among adults</td><td>18.6</td><td>Hispanic</td><td>29</td><td>List(-92.56630005299968, 38.635790776000476)</td></tr><tr><td>2019</td><td>2019</td><td>MO</td><td>Missouri</td><td>Tobacco</td><td>Quit attempts in the past year among adult current smokers</td><td>55.3</td><td>Male</td><td>29</td><td>List(-92.56630005299968, 38.635790776000476)</td></tr><tr><td>2019</td><td>2019</td><td>MT</td><td>Montana</td><td>Arthritis</td><td>Arthritis among adults</td><td>36.2</td><td>Multiracial, non-Hispanic</td><td>30</td><td>List(-109.42442064499971, 47.06652897200047)</td></tr><tr><td>2019</td><td>2019</td><td>MT</td><td>Montana</td><td>Arthritis</td><td>Severe joint pain among adults with arthritis</td><td>21.7</td><td>Male</td><td>30</td><td>List(-109.42442064499971, 47.06652897200047)</td></tr><tr><td>2019</td><td>2019</td><td>MT</td><td>Montana</td><td>Asthma</td><td>Current asthma among adults</td><td>10.7</td><td>Overall</td><td>30</td><td>List(-109.42442064499971, 47.06652897200047)</td></tr><tr><td>2019</td><td>2019</td><td>MT</td><td>Montana</td><td>Asthma</td><td>Current asthma among adults</td><td>12.8</td><td>Female</td><td>30</td><td>List(-109.42442064499971, 47.06652897200047)</td></tr><tr><td>2019</td><td>2019</td><td>MT</td><td>Montana</td><td>Cardiovascular Disease</td><td>High blood pressure among adults</td><td>25.5</td><td>Hispanic</td><td>30</td><td>List(-109.42442064499971, 47.06652897200047)</td></tr><tr><td>2019</td><td>2019</td><td>MT</td><td>Montana</td><td>Cardiovascular Disease</td><td>Taking medicine for high cholesterol among adults</td><td>46.6</td><td>Age >=65</td><td>30</td><td>List(-109.42442064499971, 47.06652897200047)</td></tr><tr><td>2019</td><td>2019</td><td>MT</td><td>Montana</td><td>Cardiovascular Disease</td><td>Cerebrovascular disease (stroke) mortality among all people, underlying cause</td><td>null</td><td>Age 0-44</td><td>30</td><td>List(-109.42442064499971, 47.06652897200047)</td></tr><tr><td>2019</td><td>2019</td><td>MT</td><td>Montana</td><td>Cardiovascular Disease</td><td>Coronary heart disease mortality among all people, underlying cause</td><td>251</td><td>Age 45-64</td><td>30</td><td>List(-109.42442064499971, 47.06652897200047)</td></tr><tr><td>2019</td><td>2019</td><td>MT</td><td>Montana</td><td>Diabetes</td><td>Diabetes mortality among all people, underlying or contributing cause</td><td>557</td><td>Male</td><td>30</td><td>List(-109.42442064499971, 47.06652897200047)</td></tr><tr><td>2019</td><td>2019</td><td>MT</td><td>Montana</td><td>Disability</td><td>Adults with any disability</td><td>44.2</td><td>American Indian or Alaska Native, non-Hispanic</td><td>30</td><td>List(-109.42442064499971, 47.06652897200047)</td></tr><tr><td>2019</td><td>2019</td><td>MT</td><td>Montana</td><td>Health Status</td><td>Life expectancy at birth</td><td>78.4</td><td>Overall</td><td>30</td><td>List(-109.42442064499971, 47.06652897200047)</td></tr><tr><td>2019</td><td>2019</td><td>NE</td><td>Nebraska</td><td>Arthritis</td><td>Physical inactivity among adults with arthritis</td><td>41.7</td><td>Hispanic</td><td>31</td><td>List(-99.36572062299967, 41.6410409880005)</td></tr><tr><td>2019</td><td>2019</td><td>NE</td><td>Nebraska</td><td>Chronic Obstructive Pulmonary Disease</td><td>Chronic obstructive pulmonary disease mortality among adults aged 45 years and older, underlying cause</td><td>537</td><td>Male</td><td>31</td><td>List(-99.36572062299967, 41.6410409880005)</td></tr><tr><td>2019</td><td>2019</td><td>NE</td><td>Nebraska</td><td>Cardiovascular Disease</td><td>High blood pressure among adults</td><td>32.8</td><td>Male</td><td>31</td><td>List(-99.36572062299967, 41.6410409880005)</td></tr><tr><td>2019</td><td>2019</td><td>NE</td><td>Nebraska</td><td>Cardiovascular Disease</td><td>High cholesterol among adults who have been screened</td><td>50.9</td><td>Age >=65</td><td>31</td><td>List(-99.36572062299967, 41.6410409880005)</td></tr><tr><td>2019</td><td>2019</td><td>NE</td><td>Nebraska</td><td>Disability</td><td>Adults with any disability</td><td>21.1</td><td>Male</td><td>31</td><td>List(-99.36572062299967, 41.6410409880005)</td></tr><tr><td>2019</td><td>2019</td><td>NE</td><td>Nebraska</td><td>Health Status</td><td>Recent activity limitation among adults</td><td>1.9</td><td>Male</td><td>31</td><td>List(-99.36572062299967, 41.6410409880005)</td></tr><tr><td>2019</td><td>2019</td><td>NE</td><td>Nebraska</td><td>Health Status</td><td>Life expectancy at birth</td><td>77.1</td><td>Male</td><td>31</td><td>List(-99.36572062299967, 41.6410409880005)</td></tr><tr><td>2019</td><td>2019</td><td>NE</td><td>Nebraska</td><td>Mental Health</td><td>Frequent mental distress among adults</td><td>8.6</td><td>Male</td><td>31</td><td>List(-99.36572062299967, 41.6410409880005)</td></tr><tr><td>2019</td><td>2019</td><td>NV</td><td>Nevada</td><td>Alcohol</td><td>Binge drinking frequency among adults who binge drink</td><td>1.4</td><td>Age 18-44</td><td>32</td><td>List(-117.07184056399967, 39.493240390000494)</td></tr><tr><td>2019</td><td>2019</td><td>NV</td><td>Nevada</td><td>Cardiovascular Disease</td><td>Taking medicine for high cholesterol among adults</td><td>23.2</td><td>Black, non-Hispanic</td><td>32</td><td>List(-117.07184056399967, 39.493240390000494)</td></tr><tr><td>2019</td><td>2019</td><td>NV</td><td>Nevada</td><td>Diabetes</td><td>Diabetic ketoacidosis mortality among all people, underlying or contributing cause</td><td>30</td><td>Age >=65</td><td>32</td><td>List(-117.07184056399967, 39.493240390000494)</td></tr><tr><td>2019</td><td>2019</td><td>NV</td><td>Nevada</td><td>Immunization</td><td>Influenza vaccination among adults</td><td>30.7</td><td>Overall</td><td>32</td><td>List(-117.07184056399967, 39.493240390000494)</td></tr><tr><td>2019</td><td>2019</td><td>NV</td><td>Nevada</td><td>Immunization</td><td>Influenza vaccination among adults 18â€“64 who are at increased risk</td><td>27.9</td><td>Female</td><td>32</td><td>List(-117.07184056399967, 39.493240390000494)</td></tr><tr><td>2019</td><td>2019</td><td>NH</td><td>New Hampshire</td><td>Alcohol</td><td>Alcohol use among high school students</td><td>39.3</td><td>Grade 12</td><td>33</td><td>List(-71.50036091999965, 43.65595011300047)</td></tr><tr><td>2019</td><td>2019</td><td>NH</td><td>New Hampshire</td><td>Arthritis</td><td>Arthritis among adults</td><td>22.7</td><td>Male</td><td>33</td><td>List(-71.50036091999965, 43.65595011300047)</td></tr><tr><td>2019</td><td>2019</td><td>NH</td><td>New Hampshire</td><td>Arthritis</td><td>Physical inactivity among adults with arthritis</td><td>30.5</td><td>Female</td><td>33</td><td>List(-71.50036091999965, 43.65595011300047)</td></tr><tr><td>2019</td><td>2019</td><td>NH</td><td>New Hampshire</td><td>Asthma</td><td>Current asthma among adults</td><td>7.6</td><td>Male</td><td>33</td><td>List(-71.50036091999965, 43.65595011300047)</td></tr><tr><td>2019</td><td>2019</td><td>NH</td><td>New Hampshire</td><td>Cardiovascular Disease</td><td>High blood pressure among adults</td><td>14.7</td><td>Age 18-44</td><td>33</td><td>List(-71.50036091999965, 43.65595011300047)</td></tr><tr><td>2019</td><td>2019</td><td>NH</td><td>New Hampshire</td><td>Cardiovascular Disease</td><td>High blood pressure among adults</td><td>null</td><td>Asian, non-Hispanic</td><td>33</td><td>List(-71.50036091999965, 43.65595011300047)</td></tr><tr><td>2019</td><td>2019</td><td>NH</td><td>New Hampshire</td><td>Health Status</td><td>Fair or poor self-rated health status among adults</td><td>14.3</td><td>Overall</td><td>33</td><td>List(-71.50036091999965, 43.65595011300047)</td></tr><tr><td>2019</td><td>2019</td><td>NH</td><td>New Hampshire</td><td>Health Status</td><td>Recent activity limitation among adults</td><td>3.3</td><td>Female</td><td>33</td><td>List(-71.50036091999965, 43.65595011300047)</td></tr><tr><td>2019</td><td>2019</td><td>NH</td><td>New Hampshire</td><td>Immunization</td><td>Influenza vaccination among adults</td><td>45.8</td><td>White, non-Hispanic</td><td>33</td><td>List(-71.50036091999965, 43.65595011300047)</td></tr><tr><td>2019</td><td>2019</td><td>NH</td><td>New Hampshire</td><td>Tobacco</td><td>Current smokeless tobacco use among high school students</td><td>null</td><td>Male</td><td>33</td><td>List(-71.50036091999965, 43.65595011300047)</td></tr><tr><td>2019</td><td>2019</td><td>NJ</td><td>New Jersey</td><td>Alcohol</td><td>Alcohol use among high school students</td><td>36.5</td><td>Grade 11</td><td>34</td><td>List(-74.27369128799967, 40.13057004800049)</td></tr><tr><td>2019</td><td>2019</td><td>NJ</td><td>New Jersey</td><td>Arthritis</td><td>Arthritis among adults</td><td>null</td><td>Hispanic</td><td>34</td><td>List(-74.27369128799967, 40.13057004800049)</td></tr><tr><td>2019</td><td>2019</td><td>NJ</td><td>New Jersey</td><td>Asthma</td><td>Asthma mortality among all people, underlying cause</td><td>113</td><td>Overall</td><td>34</td><td>List(-74.27369128799967, 40.13057004800049)</td></tr><tr><td>2019</td><td>2019</td><td>NJ</td><td>New Jersey</td><td>Cardiovascular Disease</td><td>Taking medicine for high cholesterol among adults</td><td>null</td><td>Black, non-Hispanic</td><td>34</td><td>List(-74.27369128799967, 40.13057004800049)</td></tr><tr><td>2019</td><td>2019</td><td>NJ</td><td>New Jersey</td><td>Cardiovascular Disease</td><td>Cerebrovascular disease (stroke) mortality among all people, underlying cause</td><td>419</td><td>Age 45-64</td><td>34</td><td>List(-74.27369128799967, 40.13057004800049)</td></tr><tr><td>2019</td><td>2019</td><td>NJ</td><td>New Jersey</td><td>Social Determinants of Health</td><td>Lack of health insurance among adults aged 18-64 years</td><td>null</td><td>White, non-Hispanic</td><td>34</td><td>List(-74.27369128799967, 40.13057004800049)</td></tr><tr><td>2019</td><td>2019</td><td>NJ</td><td>New Jersey</td><td>Tobacco</td><td>Current cigarette smoking among adults</td><td>null</td><td>Female</td><td>34</td><td>List(-74.27369128799967, 40.13057004800049)</td></tr><tr><td>2019</td><td>2019</td><td>NM</td><td>New Mexico</td><td>Arthritis</td><td>Activity limitation due to arthritis among adults with arthritis</td><td>9.7</td><td>Hispanic</td><td>35</td><td>List(-106.24058098499967, 34.52088095200048)</td></tr><tr><td>2019</td><td>2019</td><td>NM</td><td>New Mexico</td><td>Arthritis</td><td>Physical inactivity among adults with arthritis</td><td>30.8</td><td>Overall</td><td>35</td><td>List(-106.24058098499967, 34.52088095200048)</td></tr><tr><td>2019</td><td>2019</td><td>NM</td><td>New Mexico</td><td>Arthritis</td><td>Physical inactivity among adults with arthritis</td><td>29</td><td>Male</td><td>35</td><td>List(-106.24058098499967, 34.52088095200048)</td></tr><tr><td>2019</td><td>2019</td><td>NM</td><td>New Mexico</td><td>Diabetes</td><td>Diabetes mortality among all people, underlying or contributing cause</td><td>809</td><td>White, non-Hispanic</td><td>35</td><td>List(-106.24058098499967, 34.52088095200048)</td></tr><tr><td>2019</td><td>2019</td><td>NM</td><td>New Mexico</td><td>Health Status</td><td>Frequent physical distress among adults</td><td>19.7</td><td>Age >=65</td><td>35</td><td>List(-106.24058098499967, 34.52088095200048)</td></tr><tr><td>2019</td><td>2019</td><td>NM</td><td>New Mexico</td><td>Immunization</td><td>Influenza vaccination among adults 18â€“64 who are at increased risk</td><td>46.1</td><td>Female</td><td>35</td><td>List(-106.24058098499967, 34.52088095200048)</td></tr><tr><td>2019</td><td>2019</td><td>NM</td><td>New Mexico</td><td>Mental Health</td><td>Depression among adults</td><td>20.6</td><td>Female</td><td>35</td><td>List(-106.24058098499967, 34.52088095200048)</td></tr><tr><td>2019</td><td>2019</td><td>NM</td><td>New Mexico</td><td>Nutrition, Physical Activity, and Weight Status</td><td>Consumed vegetables less than one time daily among high school students</td><td>9.8</td><td>Male</td><td>35</td><td>List(-106.24058098499967, 34.52088095200048)</td></tr><tr><td>2019</td><td>2019</td><td>NM</td><td>New Mexico</td><td>Sleep</td><td>Short sleep duration among high school students</td><td>74.6</td><td>Female</td><td>35</td><td>List(-106.24058098499967, 34.52088095200048)</td></tr><tr><td>2019</td><td>2019</td><td>NM</td><td>New Mexico</td><td>Tobacco</td><td>Cigarette smoking during pregnancy among women with a recent live birth</td><td>8</td><td>Hispanic</td><td>35</td><td>List(-106.24058098499967, 34.52088095200048)</td></tr><tr><td>2019</td><td>2019</td><td>NY</td><td>New York</td><td>Arthritis</td><td>Arthritis among adults</td><td>29.6</td><td>Age 45-64</td><td>36</td><td>List(-75.54397042699964, 42.82700103200045)</td></tr><tr><td>2019</td><td>2019</td><td>NY</td><td>New York</td><td>Arthritis</td><td>Arthritis among adults</td><td>26.6</td><td>Female</td><td>36</td><td>List(-75.54397042699964, 42.82700103200045)</td></tr><tr><td>2019</td><td>2019</td><td>NY</td><td>New York</td><td>Asthma</td><td>Current asthma among adults</td><td>11.3</td><td>Hispanic</td><td>36</td><td>List(-75.54397042699964, 42.82700103200045)</td></tr><tr><td>2019</td><td>2019</td><td>NY</td><td>New York</td><td>Chronic Obstructive Pulmonary Disease</td><td>Chronic obstructive pulmonary disease mortality among adults aged 45 years and older, underlying cause</td><td>3669</td><td>Female</td><td>36</td><td>List(-75.54397042699964, 42.82700103200045)</td></tr><tr><td>2019</td><td>2019</td><td>NY</td><td>New York</td><td>Cardiovascular Disease</td><td>High blood pressure among adults</td><td>25</td><td>Hispanic</td><td>36</td><td>List(-75.54397042699964, 42.82700103200045)</td></tr><tr><td>2019</td><td>2019</td><td>NY</td><td>New York</td><td>Cardiovascular Disease</td><td>Cerebrovascular disease (stroke) mortality among all people, underlying cause</td><td>874</td><td>Black, non-Hispanic</td><td>36</td><td>List(-75.54397042699964, 42.82700103200045)</td></tr><tr><td>2019</td><td>2019</td><td>NY</td><td>New York</td><td>Diabetes</td><td>Diabetes mortality among all people, underlying or contributing cause</td><td>6787</td><td>Female</td><td>36</td><td>List(-75.54397042699964, 42.82700103200045)</td></tr><tr><td>2019</td><td>2019</td><td>NY</td><td>New York</td><td>Disability</td><td>Adults with any disability</td><td>23.8</td><td>Male</td><td>36</td><td>List(-75.54397042699964, 42.82700103200045)</td></tr><tr><td>2019</td><td>2019</td><td>NY</td><td>New York</td><td>Health Status</td><td>Life expectancy at birth</td><td>83.1</td><td>Female</td><td>36</td><td>List(-75.54397042699964, 42.82700103200045)</td></tr><tr><td>2019</td><td>2019</td><td>NY</td><td>New York</td><td>Mental Health</td><td>Frequent mental distress among adults</td><td>12.1</td><td>White, non-Hispanic</td><td>36</td><td>List(-75.54397042699964, 42.82700103200045)</td></tr><tr><td>2019</td><td>2019</td><td>NY</td><td>New York</td><td>Nutrition, Physical Activity, and Weight Status</td><td>Consumed vegetables less than one time daily among adults</td><td>35</td><td>Hispanic</td><td>36</td><td>List(-75.54397042699964, 42.82700103200045)</td></tr><tr><td>2019</td><td>2019</td><td>NC</td><td>North Carolina</td><td>Chronic Kidney Disease</td><td>Incidence of treated end-stage kidney disease</td><td>4353</td><td>Overall</td><td>37</td><td>List(-79.15925046299964, 35.466220975000454)</td></tr><tr><td>2019</td><td>2019</td><td>NC</td><td>North Carolina</td><td>Chronic Obstructive Pulmonary Disease</td><td>Chronic obstructive pulmonary disease mortality among adults aged 45 years and older, underlying or contributing cause</td><td>8594</td><td>Age >=65</td><td>37</td><td>List(-79.15925046299964, 35.466220975000454)</td></tr><tr><td>2019</td><td>2019</td><td>NC</td><td>North Carolina</td><td>Cardiovascular Disease</td><td>Taking medicine for high cholesterol among adults</td><td>29.5</td><td>Male</td><td>37</td><td>List(-79.15925046299964, 35.466220975000454)</td></tr><tr><td>2019</td><td>2019</td><td>NC</td><td>North Carolina</td><td>Cardiovascular Disease</td><td>Diseases of the heart mortality among all people, underlying cause</td><td>154.7</td><td>Overall</td><td>37</td><td>List(-79.15925046299964, 35.466220975000454)</td></tr><tr><td>2019</td><td>2019</td><td>NC</td><td>North Carolina</td><td>Diabetes</td><td>Diabetes mortality among all people, underlying or contributing cause</td><td>4834</td><td>Male</td><td>37</td><td>List(-79.15925046299964, 35.466220975000454)</td></tr><tr><td>2019</td><td>2019</td><td>NC</td><td>North Carolina</td><td>Health Status</td><td>Average recent physically unhealthy days among adults</td><td>3.5</td><td>Male</td><td>37</td><td>List(-79.15925046299964, 35.466220975000454)</td></tr><tr><td>2019</td><td>2019</td><td>NC</td><td>North Carolina</td><td>Mental Health</td><td>Frequent mental distress among adults</td><td>13.3</td><td>Age 45-64</td><td>37</td><td>List(-79.15925046299964, 35.466220975000454)</td></tr><tr><td>2019</td><td>2019</td><td>ND</td><td>North Dakota</td><td>Arthritis</td><td>Arthritis among adults</td><td>22.7</td><td>Male</td><td>38</td><td>List(-100.11842104899966, 47.47531977900047)</td></tr><tr><td>2019</td><td>2019</td><td>ND</td><td>North Dakota</td><td>Arthritis</td><td>Severe joint pain among adults with arthritis</td><td>18.5</td><td>Male</td><td>38</td><td>List(-100.11842104899966, 47.47531977900047)</td></tr><tr><td>2019</td><td>2019</td><td>ND</td><td>North Dakota</td><td>Arthritis</td><td>Received health care provider counseling for physical activity among adults with arthritis</td><td>57.3</td><td>Male</td><td>38</td><td>List(-100.11842104899966, 47.47531977900047)</td></tr><tr><td>2019</td><td>2019</td><td>ND</td><td>North Dakota</td><td>Chronic Kidney Disease</td><td>Incidence of treated end-stage kidney disease</td><td>220</td><td>Overall</td><td>38</td><td>List(-100.11842104899966, 47.47531977900047)</td></tr><tr><td>2019</td><td>2019</td><td>ND</td><td>North Dakota</td><td>Diabetes</td><td>Diabetes mortality among all people, underlying or contributing cause</td><td>283</td><td>Female</td><td>38</td><td>List(-100.11842104899966, 47.47531977900047)</td></tr><tr><td>2019</td><td>2019</td><td>ND</td><td>North Dakota</td><td>Health Status</td><td>Fair or poor self-rated health status among adults</td><td>13</td><td>White, non-Hispanic</td><td>38</td><td>List(-100.11842104899966, 47.47531977900047)</td></tr><tr><td>2019</td><td>2019</td><td>ND</td><td>North Dakota</td><td>Mental Health</td><td>Frequent mental distress among adults</td><td>8.5</td><td>Age 45-64</td><td>38</td><td>List(-100.11842104899966, 47.47531977900047)</td></tr><tr><td>2019</td><td>2019</td><td>OH</td><td>Ohio</td><td>Alcohol</td><td>Binge drinking prevalence among adults</td><td>14</td><td>Age 45-64</td><td>39</td><td>List(-82.40426005599966, 40.06021014100048)</td></tr><tr><td>2019</td><td>2019</td><td>OH</td><td>Ohio</td><td>Asthma</td><td>Current asthma among adults</td><td>8.9</td><td>Male</td><td>39</td><td>List(-82.40426005599966, 40.06021014100048)</td></tr><tr><td>2019</td><td>2019</td><td>OH</td><td>Ohio</td><td>Cardiovascular Disease</td><td>Coronary heart disease mortality among all people, underlying cause</td><td>2928</td><td>Age 45-64</td><td>39</td><td>List(-82.40426005599966, 40.06021014100048)</td></tr><tr><td>2019</td><td>2019</td><td>OK</td><td>Oklahoma</td><td>Diabetes</td><td>Diabetes mortality among all people, underlying or contributing cause</td><td>1627</td><td>Age 45-64</td><td>40</td><td>List(-97.52107021399968, 35.47203135600046)</td></tr><tr><td>2019</td><td>2019</td><td>OK</td><td>Oklahoma</td><td>Immunization</td><td>Influenza vaccination among adults 18â€“64 who are at increased risk</td><td>44.4</td><td>Female</td><td>40</td><td>List(-97.52107021399968, 35.47203135600046)</td></tr><tr><td>2019</td><td>2019</td><td>OK</td><td>Oklahoma</td><td>Social Determinants of Health</td><td>Lack of health insurance among adults aged 18-64 years</td><td>19</td><td>Female</td><td>40</td><td>List(-97.52107021399968, 35.47203135600046)</td></tr><tr><td>2019</td><td>2019</td><td>OK</td><td>Oklahoma</td><td>Sleep</td><td>Short sleep duration among high school students</td><td>76.7</td><td>Male</td><td>40</td><td>List(-97.52107021399968, 35.47203135600046)</td></tr><tr><td>2019</td><td>2019</td><td>OR</td><td>Oregon</td><td>Arthritis</td><td>Arthritis among adults</td><td>16.3</td><td>Hispanic</td><td>41</td><td>List(-120.15503132599969, 44.56744942400047)</td></tr><tr><td>2019</td><td>2019</td><td>OR</td><td>Oregon</td><td>Chronic Obstructive Pulmonary Disease</td><td>Chronic obstructive pulmonary disease mortality among adults aged 45 years and older, underlying cause</td><td>996</td><td>Male</td><td>41</td><td>List(-120.15503132599969, 44.56744942400047)</td></tr><tr><td>2019</td><td>2019</td><td>OR</td><td>Oregon</td><td>Cardiovascular Disease</td><td>Coronary heart disease mortality among all people, underlying cause</td><td>61.6</td><td>Overall</td><td>41</td><td>List(-120.15503132599969, 44.56744942400047)</td></tr><tr><td>2019</td><td>2019</td><td>OR</td><td>Oregon</td><td>Mental Health</td><td>Average mentally unhealthy days among adults</td><td>null</td><td>Black, non-Hispanic</td><td>41</td><td>List(-120.15503132599969, 44.56744942400047)</td></tr><tr><td>2019</td><td>2019</td><td>OR</td><td>Oregon</td><td>Nutrition, Physical Activity, and Weight Status</td><td>Consumed vegetables less than one time daily among adults</td><td>16.4</td><td>Overall</td><td>41</td><td>List(-120.15503132599969, 44.56744942400047)</td></tr><tr><td>2019</td><td>2019</td><td>PA</td><td>Pennsylvania</td><td>Cardiovascular Disease</td><td>High blood pressure among adults</td><td>31.8</td><td>Female</td><td>42</td><td>List(-77.86070029399963, 40.79373015200048)</td></tr><tr><td>2019</td><td>2019</td><td>PA</td><td>Pennsylvania</td><td>Cardiovascular Disease</td><td>Coronary heart disease mortality among all people, underlying cause</td><td>7189</td><td>Female</td><td>42</td><td>List(-77.86070029399963, 40.79373015200048)</td></tr><tr><td>2019</td><td>2019</td><td>PA</td><td>Pennsylvania</td><td>Diabetes</td><td>Diabetes among adults</td><td>10.6</td><td>Male</td><td>42</td><td>List(-77.86070029399963, 40.79373015200048)</td></tr><tr><td>2019</td><td>2019</td><td>PA</td><td>Pennsylvania</td><td>Immunization</td><td>Influenza vaccination among adults</td><td>39.6</td><td>Male</td><td>42</td><td>List(-77.86070029399963, 40.79373015200048)</td></tr><tr><td>2019</td><td>2019</td><td>PA</td><td>Pennsylvania</td><td>Immunization</td><td>Pneumococcal vaccination among adults aged 18â€“64 years who are at increased risk</td><td>27</td><td>Hispanic</td><td>42</td><td>List(-77.86070029399963, 40.79373015200048)</td></tr><tr><td>2019</td><td>2019</td><td>PA</td><td>Pennsylvania</td><td>Nutrition, Physical Activity, and Weight Status</td><td>Obesity among adults</td><td>32.7</td><td>Hispanic</td><td>42</td><td>List(-77.86070029399963, 40.79373015200048)</td></tr><tr><td>2019</td><td>2019</td><td>PA</td><td>Pennsylvania</td><td>Tobacco</td><td>Quit attempts in the past year among adult current smokers</td><td>58.1</td><td>Overall</td><td>42</td><td>List(-77.86070029399963, 40.79373015200048)</td></tr><tr><td>2019</td><td>2019</td><td>PR</td><td>Puerto Rico</td><td>Alcohol</td><td>Binge drinking frequency among adults who binge drink</td><td>5.4</td><td>Age >=65</td><td>72</td><td>List(-66.590149, 18.220833)</td></tr><tr><td>2019</td><td>2019</td><td>PR</td><td>Puerto Rico</td><td>Arthritis</td><td>Arthritis among adults</td><td>26.2</td><td>Female</td><td>72</td><td>List(-66.590149, 18.220833)</td></tr><tr><td>2019</td><td>2019</td><td>PR</td><td>Puerto Rico</td><td>Arthritis</td><td>Severe joint pain among adults with arthritis</td><td>52.1</td><td>Male</td><td>72</td><td>List(-66.590149, 18.220833)</td></tr><tr><td>2019</td><td>2019</td><td>PR</td><td>Puerto Rico</td><td>Arthritis</td><td>Physical inactivity among adults with arthritis</td><td>43.6</td><td>Male</td><td>72</td><td>List(-66.590149, 18.220833)</td></tr><tr><td>2019</td><td>2019</td><td>PR</td><td>Puerto Rico</td><td>Cardiovascular Disease</td><td>High blood pressure among adults</td><td>66.4</td><td>Age >=65</td><td>72</td><td>List(-66.590149, 18.220833)</td></tr><tr><td>2019</td><td>2019</td><td>PR</td><td>Puerto Rico</td><td>Tobacco</td><td>Current cigarette smoking among adults</td><td>7</td><td>Female</td><td>72</td><td>List(-66.590149, 18.220833)</td></tr><tr><td>2019</td><td>2019</td><td>RI</td><td>Rhode Island</td><td>Arthritis</td><td>Severe joint pain among adults with arthritis</td><td>34.5</td><td>Age 18-44</td><td>44</td><td>List(-71.52247031399963, 41.70828019300046)</td></tr><tr><td>2019</td><td>2019</td><td>RI</td><td>Rhode Island</td><td>Arthritis</td><td>Physical inactivity among adults with arthritis</td><td>34.5</td><td>Age >=65</td><td>44</td><td>List(-71.52247031399963, 41.70828019300046)</td></tr><tr><td>2019</td><td>2019</td><td>RI</td><td>Rhode Island</td><td>Cardiovascular Disease</td><td>Cerebrovascular disease (stroke) mortality among all people, underlying cause</td><td>33</td><td>Age 45-64</td><td>44</td><td>List(-71.52247031399963, 41.70828019300046)</td></tr><tr><td>2019</td><td>2019</td><td>RI</td><td>Rhode Island</td><td>Diabetes</td><td>Diabetes mortality among all people, underlying or contributing cause</td><td>60</td><td>Hispanic</td><td>44</td><td>List(-71.52247031399963, 41.70828019300046)</td></tr><tr><td>2019</td><td>2019</td><td>RI</td><td>Rhode Island</td><td>Disability</td><td>Adults with any disability</td><td>22</td><td>Age 18-44</td><td>44</td><td>List(-71.52247031399963, 41.70828019300046)</td></tr><tr><td>2019</td><td>2019</td><td>RI</td><td>Rhode Island</td><td>Immunization</td><td>Pneumococcal vaccination among adults aged 18â€“64 years who are at increased risk</td><td>39.2</td><td>Overall</td><td>44</td><td>List(-71.52247031399963, 41.70828019300046)</td></tr><tr><td>2019</td><td>2019</td><td>RI</td><td>Rhode Island</td><td>Nutrition, Physical Activity, and Weight Status</td><td>Obesity among adults</td><td>28.2</td><td>Female</td><td>44</td><td>List(-71.52247031399963, 41.70828019300046)</td></tr><tr><td>2019</td><td>2019</td><td>RI</td><td>Rhode Island</td><td>Tobacco</td><td>Current smokeless tobacco use among high school students</td><td>1.2</td><td>Female</td><td>44</td><td>List(-71.52247031399963, 41.70828019300046)</td></tr><tr><td>2019</td><td>2019</td><td>SC</td><td>South Carolina</td><td>Diabetes</td><td>Diabetes mortality among all people, underlying or contributing cause</td><td>2682</td><td>Male</td><td>45</td><td>List(-81.04537120699968, 33.998821303000454)</td></tr><tr><td>2019</td><td>2019</td><td>SC</td><td>South Carolina</td><td>Health Status</td><td>Frequent physical distress among adults</td><td>13.8</td><td>Female</td><td>45</td><td>List(-81.04537120699968, 33.998821303000454)</td></tr><tr><td>2019</td><td>2019</td><td>SC</td><td>South Carolina</td><td>Nutrition, Physical Activity, and Weight Status</td><td>Consumed fruit less than one time daily among adults</td><td>46.5</td><td>Male</td><td>45</td><td>List(-81.04537120699968, 33.998821303000454)</td></tr><tr><td>2019</td><td>2019</td><td>SC</td><td>South Carolina</td><td>Social Determinants of Health</td><td>Unemployment rate among people 16 years and older in the labor force</td><td>6.9</td><td>Black, non-Hispanic</td><td>45</td><td>List(-81.04537120699968, 33.998821303000454)</td></tr><tr><td>2019</td><td>2019</td><td>SD</td><td>South Dakota</td><td>Arthritis</td><td>Severe joint pain among adults with arthritis</td><td>null</td><td>Hispanic</td><td>46</td><td>List(-100.3735306369997, 44.353130053000484)</td></tr><tr><td>2019</td><td>2019</td><td>SD</td><td>South Dakota</td><td>Asthma</td><td>Current asthma among adults</td><td>11.5</td><td>Female</td><td>46</td><td>List(-100.3735306369997, 44.353130053000484)</td></tr><tr><td>2019</td><td>2020</td><td>SD</td><td>South Dakota</td><td>Cognitive Health and Caregiving</td><td>Subjective cognitive decline among adults aged 45 years and older</td><td>9.3</td><td>Male</td><td>46</td><td>List(-100.3735306369997, 44.353130053000484)</td></tr><tr><td>2019</td><td>2019</td><td>SD</td><td>South Dakota</td><td>Diabetes</td><td>Diabetes among adults</td><td>9.3</td><td>Overall</td><td>46</td><td>List(-100.3735306369997, 44.353130053000484)</td></tr><tr><td>2019</td><td>2019</td><td>TN</td><td>Tennessee</td><td>Arthritis</td><td>Severe joint pain among adults with arthritis</td><td>33.6</td><td>Male</td><td>47</td><td>List(-85.77449091399967, 35.68094058000048)</td></tr><tr><td>2019</td><td>2019</td><td>TN</td><td>Tennessee</td><td>Arthritis</td><td>Received health care provider counseling for physical activity among adults with arthritis</td><td>70</td><td>Age 45-64</td><td>47</td><td>List(-85.77449091399967, 35.68094058000048)</td></tr><tr><td>2019</td><td>2019</td><td>TN</td><td>Tennessee</td><td>Mental Health</td><td>Depression among adults</td><td>18.5</td><td>Male</td><td>47</td><td>List(-85.77449091399967, 35.68094058000048)</td></tr><tr><td>2019</td><td>2019</td><td>TX</td><td>Texas</td><td>Alcohol</td><td>Alcohol use among high school students</td><td>30.9</td><td>Female</td><td>48</td><td>List(-99.42677020599967, 31.827240407000488)</td></tr><tr><td>2019</td><td>2019</td><td>TX</td><td>Texas</td><td>Alcohol</td><td>Binge drinking frequency among adults who binge drink</td><td>2.9</td><td>Female</td><td>48</td><td>List(-99.42677020599967, 31.827240407000488)</td></tr><tr><td>2019</td><td>2019</td><td>TX</td><td>Texas</td><td>Arthritis</td><td>Arthritis among adults</td><td>20.5</td><td>Black, non-Hispanic</td><td>48</td><td>List(-99.42677020599967, 31.827240407000488)</td></tr><tr><td>2019</td><td>2019</td><td>TX</td><td>Texas</td><td>Arthritis</td><td>Activity limitation due to arthritis among adults with arthritis</td><td>11.5</td><td>Female</td><td>48</td><td>List(-99.42677020599967, 31.827240407000488)</td></tr><tr><td>2019</td><td>2019</td><td>TX</td><td>Texas</td><td>Arthritis</td><td>Work limitation due to arthritis among adults aged 18-64 years with arthritis</td><td>47.7</td><td>Hispanic</td><td>48</td><td>List(-99.42677020599967, 31.827240407000488)</td></tr><tr><td>2019</td><td>2019</td><td>TX</td><td>Texas</td><td>Chronic Obstructive Pulmonary Disease</td><td>Chronic obstructive pulmonary disease mortality among adults aged 45 years and older, underlying or contributing cause</td><td>18663</td><td>Age >=65</td><td>48</td><td>List(-99.42677020599967, 31.827240407000488)</td></tr><tr><td>2019</td><td>2019</td><td>TX</td><td>Texas</td><td>Cardiovascular Disease</td><td>Coronary heart disease mortality among all people, underlying cause</td><td>34</td><td>Asian, non-Hispanic</td><td>48</td><td>List(-99.42677020599967, 31.827240407000488)</td></tr><tr><td>2019</td><td>2019</td><td>TX</td><td>Texas</td><td>Diabetes</td><td>Diabetes among adults</td><td>13</td><td>Male</td><td>48</td><td>List(-99.42677020599967, 31.827240407000488)</td></tr><tr><td>2019</td><td>2019</td><td>TX</td><td>Texas</td><td>Disability</td><td>Adults with any disability</td><td>24</td><td>Male</td><td>48</td><td>List(-99.42677020599967, 31.827240407000488)</td></tr><tr><td>2019</td><td>2019</td><td>TX</td><td>Texas</td><td>Immunization</td><td>Pneumococcal vaccination among adults aged 18â€“64 years who are at increased risk</td><td>35.5</td><td>Female</td><td>48</td><td>List(-99.42677020599967, 31.827240407000488)</td></tr><tr><td>2019</td><td>2019</td><td>TX</td><td>Texas</td><td>Social Determinants of Health</td><td>Living below 150% of the poverty threshold among all people</td><td>21</td><td>Male</td><td>48</td><td>List(-99.42677020599967, 31.827240407000488)</td></tr><tr><td>2019</td><td>2019</td><td>TX</td><td>Texas</td><td>Social Determinants of Health</td><td>Lack of health insurance among adults aged 18-64 years</td><td>15.3</td><td>White, non-Hispanic</td><td>48</td><td>List(-99.42677020599967, 31.827240407000488)</td></tr><tr><td>2019</td><td>2019</td><td>US</td><td>United States</td><td>Alcohol</td><td>Alcohol use among high school students</td><td>31.9</td><td>Female</td><td>59</td><td>null</td></tr><tr><td>2019</td><td>2019</td><td>US</td><td>United States</td><td>Cardiovascular Disease</td><td>Taking medicine for high cholesterol among adults</td><td>28</td><td>Hispanic</td><td>59</td><td>null</td></tr><tr><td>2019</td><td>2019</td><td>US</td><td>United States</td><td>Diabetes</td><td>Diabetic ketoacidosis mortality among all people, underlying or contributing cause</td><td>1.7</td><td>Overall</td><td>59</td><td>null</td></tr><tr><td>2019</td><td>2019</td><td>US</td><td>United States</td><td>Nutrition, Physical Activity, and Weight Status</td><td>Obesity among adults</td><td>31.4</td><td>Overall</td><td>59</td><td>null</td></tr><tr><td>2019</td><td>2019</td><td>US</td><td>United States</td><td>Nutrition, Physical Activity, and Weight Status</td><td>Obesity among adults</td><td>30.6</td><td>Male</td><td>59</td><td>null</td></tr><tr><td>2019</td><td>2019</td><td>UT</td><td>Utah</td><td>Alcohol</td><td>Binge drinking intensity among adults who binge drink</td><td>6.8</td><td>Age 45-64</td><td>49</td><td>List(-111.58713063499971, 39.360700171000474)</td></tr><tr><td>2019</td><td>2019</td><td>UT</td><td>Utah</td><td>Arthritis</td><td>Arthritis among adults</td><td>20.3</td><td>Male</td><td>49</td><td>List(-111.58713063499971, 39.360700171000474)</td></tr><tr><td>2019</td><td>2019</td><td>UT</td><td>Utah</td><td>Arthritis</td><td>Received health care provider counseling for physical activity among adults with arthritis</td><td>67.6</td><td>Male</td><td>49</td><td>List(-111.58713063499971, 39.360700171000474)</td></tr><tr><td>2019</td><td>2019</td><td>UT</td><td>Utah</td><td>Asthma</td><td>Current asthma among adults</td><td>10.7</td><td>Age 45-64</td><td>49</td><td>List(-111.58713063499971, 39.360700171000474)</td></tr><tr><td>2019</td><td>2020</td><td>UT</td><td>Utah</td><td>Cognitive Health and Caregiving</td><td>Provided care for a friend or family member in the past month among adults</td><td>15.7</td><td>Male</td><td>49</td><td>List(-111.58713063499971, 39.360700171000474)</td></tr><tr><td>2019</td><td>2019</td><td>UT</td><td>Utah</td><td>Chronic Obstructive Pulmonary Disease</td><td>Chronic obstructive pulmonary disease among adults</td><td>3.1</td><td>Hispanic</td><td>49</td><td>List(-111.58713063499971, 39.360700171000474)</td></tr><tr><td>2019</td><td>2019</td><td>UT</td><td>Utah</td><td>Chronic Obstructive Pulmonary Disease</td><td>Current smoking among adults with chronic obstructive pulmonary disease</td><td>24.1</td><td>White, non-Hispanic</td><td>49</td><td>List(-111.58713063499971, 39.360700171000474)</td></tr><tr><td>2019</td><td>2019</td><td>UT</td><td>Utah</td><td>Cardiovascular Disease</td><td>Taking medicine to control high blood pressure among adults with high blood pressure</td><td>52.5</td><td>Female</td><td>49</td><td>List(-111.58713063499971, 39.360700171000474)</td></tr><tr><td>2019</td><td>2019</td><td>UT</td><td>Utah</td><td>Cardiovascular Disease</td><td>Taking medicine for high cholesterol among adults</td><td>27.3</td><td>Female</td><td>49</td><td>List(-111.58713063499971, 39.360700171000474)</td></tr><tr><td>2019</td><td>2019</td><td>VT</td><td>Vermont</td><td>Alcohol</td><td>Binge drinking frequency among adults who binge drink</td><td>4.7</td><td>White, non-Hispanic</td><td>50</td><td>List(-72.51764079099962, 43.62538123900049)</td></tr><tr><td>2019</td><td>2019</td><td>VT</td><td>Vermont</td><td>Cardiovascular Disease</td><td>Coronary heart disease mortality among all people, underlying cause</td><td>66.9</td><td>Female</td><td>50</td><td>List(-72.51764079099962, 43.62538123900049)</td></tr><tr><td>2019</td><td>2019</td><td>VT</td><td>Vermont</td><td>Health Status</td><td>Frequent physical distress among adults</td><td>12.7</td><td>Male</td><td>50</td><td>List(-72.51764079099962, 43.62538123900049)</td></tr><tr><td>2019</td><td>2019</td><td>VT</td><td>Vermont</td><td>Health Status</td><td>2 or more chronic conditions among adults</td><td>36.5</td><td>Age >=65</td><td>50</td><td>List(-72.51764079099962, 43.62538123900049)</td></tr><tr><td>2019</td><td>2019</td><td>VT</td><td>Vermont</td><td>Health Status</td><td>2 or more chronic conditions among adults</td><td>16.5</td><td>Male</td><td>50</td><td>List(-72.51764079099962, 43.62538123900049)</td></tr><tr><td>2019</td><td>2019</td><td>VT</td><td>Vermont</td><td>Mental Health</td><td>Frequent mental distress among adults</td><td>13.1</td><td>Male</td><td>50</td><td>List(-72.51764079099962, 43.62538123900049)</td></tr><tr><td>2019</td><td>2019</td><td>VT</td><td>Vermont</td><td>Nutrition, Physical Activity, and Weight Status</td><td>Obesity among adults</td><td>25.7</td><td>Female</td><td>50</td><td>List(-72.51764079099962, 43.62538123900049)</td></tr><tr><td>2019</td><td>2019</td><td>VT</td><td>Vermont</td><td>Tobacco</td><td>Current tobacco use of any tobacco product among high school students</td><td>27</td><td>Male</td><td>50</td><td>List(-72.51764079099962, 43.62538123900049)</td></tr><tr><td>2019</td><td>2020</td><td>VI</td><td>Virgin Islands</td><td>Cognitive Health and Caregiving</td><td>Provided care for a friend or family member in the past month among adults</td><td>null</td><td>Age >=65</td><td>78</td><td>List(-64.896335, 18.335765)</td></tr><tr><td>2019</td><td>2019</td><td>VI</td><td>Virgin Islands</td><td>Chronic Obstructive Pulmonary Disease</td><td>Chronic obstructive pulmonary disease among adults</td><td>null</td><td>Male</td><td>78</td><td>List(-64.896335, 18.335765)</td></tr><tr><td>2019</td><td>2019</td><td>VI</td><td>Virgin Islands</td><td>Cardiovascular Disease</td><td>Taking medicine to control high blood pressure among adults with high blood pressure</td><td>null</td><td>Age 18-44</td><td>78</td><td>List(-64.896335, 18.335765)</td></tr><tr><td>2019</td><td>2019</td><td>VI</td><td>Virgin Islands</td><td>Cardiovascular Disease</td><td>Taking medicine for high cholesterol among adults</td><td>null</td><td>Overall</td><td>78</td><td>List(-64.896335, 18.335765)</td></tr><tr><td>2019</td><td>2019</td><td>VI</td><td>Virgin Islands</td><td>Health Status</td><td>Average recent physically unhealthy days among adults</td><td>null</td><td>Age 45-64</td><td>78</td><td>List(-64.896335, 18.335765)</td></tr><tr><td>2019</td><td>2019</td><td>VI</td><td>Virgin Islands</td><td>Tobacco</td><td>Current smokeless tobacco use among high school students</td><td>null</td><td>Overall</td><td>78</td><td>List(-64.896335, 18.335765)</td></tr><tr><td>2019</td><td>2020</td><td>VA</td><td>Virginia</td><td>Cognitive Health and Caregiving</td><td>Subjective cognitive decline among adults aged 45 years and older</td><td>9.3</td><td>Female</td><td>51</td><td>List(-78.45789046299967, 37.54268067400045)</td></tr><tr><td>2019</td><td>2019</td><td>VA</td><td>Virginia</td><td>Cardiovascular Disease</td><td>High cholesterol among adults who have been screened</td><td>31.6</td><td>Black, non-Hispanic</td><td>51</td><td>List(-78.45789046299967, 37.54268067400045)</td></tr><tr><td>2019</td><td>2019</td><td>VA</td><td>Virginia</td><td>Diabetes</td><td>Diabetes mortality among all people, underlying or contributing cause</td><td>3914</td><td>White, non-Hispanic</td><td>51</td><td>List(-78.45789046299967, 37.54268067400045)</td></tr><tr><td>2019</td><td>2019</td><td>VA</td><td>Virginia</td><td>Health Status</td><td>Average recent physically unhealthy days among adults</td><td>3.9</td><td>White, non-Hispanic</td><td>51</td><td>List(-78.45789046299967, 37.54268067400045)</td></tr><tr><td>2019</td><td>2019</td><td>VA</td><td>Virginia</td><td>Health Status</td><td>Recent activity limitation among adults</td><td>2.9</td><td>Age 45-64</td><td>51</td><td>List(-78.45789046299967, 37.54268067400045)</td></tr><tr><td>2019</td><td>2019</td><td>VA</td><td>Virginia</td><td>Mental Health</td><td>Frequent mental distress among adults</td><td>15.4</td><td>Female</td><td>51</td><td>List(-78.45789046299967, 37.54268067400045)</td></tr><tr><td>2019</td><td>2019</td><td>VA</td><td>Virginia</td><td>Sleep</td><td>Short sleep duration among high school students</td><td>79.8</td><td>Grade 11</td><td>51</td><td>List(-78.45789046299967, 37.54268067400045)</td></tr><tr><td>2019</td><td>2019</td><td>WA</td><td>Washington</td><td>Asthma</td><td>Current asthma among adults</td><td>7.9</td><td>Male</td><td>53</td><td>List(-120.47001078999972, 47.52227862900048)</td></tr><tr><td>2019</td><td>2019</td><td>WA</td><td>Washington</td><td>Cardiovascular Disease</td><td>High cholesterol among adults who have been screened</td><td>31.9</td><td>Overall</td><td>53</td><td>List(-120.47001078999972, 47.52227862900048)</td></tr><tr><td>2019</td><td>2019</td><td>WA</td><td>Washington</td><td>Cardiovascular Disease</td><td>Taking medicine for high cholesterol among adults</td><td>34.1</td><td>Male</td><td>53</td><td>List(-120.47001078999972, 47.52227862900048)</td></tr><tr><td>2019</td><td>2019</td><td>WA</td><td>Washington</td><td>Diabetes</td><td>Diabetes among adults</td><td>2.8</td><td>Age 18-44</td><td>53</td><td>List(-120.47001078999972, 47.52227862900048)</td></tr><tr><td>2019</td><td>2019</td><td>WA</td><td>Washington</td><td>Immunization</td><td>Influenza vaccination among adults</td><td>43.6</td><td>Male</td><td>53</td><td>List(-120.47001078999972, 47.52227862900048)</td></tr><tr><td>2019</td><td>2019</td><td>WA</td><td>Washington</td><td>Tobacco</td><td>Current smokeless tobacco use among high school students</td><td>null</td><td>Male</td><td>53</td><td>List(-120.47001078999972, 47.52227862900048)</td></tr><tr><td>2019</td><td>2019</td><td>WV</td><td>West Virginia</td><td>Alcohol</td><td>Chronic liver disease mortality among all people, underlying cause</td><td>187</td><td>Age 45-64</td><td>54</td><td>List(-80.71264013499967, 38.66551020200046)</td></tr><tr><td>2019</td><td>2019</td><td>WV</td><td>West Virginia</td><td>Arthritis</td><td>Arthritis among adults</td><td>61.5</td><td>Age >=65</td><td>54</td><td>List(-80.71264013499967, 38.66551020200046)</td></tr><tr><td>2019</td><td>2019</td><td>WV</td><td>West Virginia</td><td>Arthritis</td><td>Severe joint pain among adults with arthritis</td><td>34.4</td><td>Age 18-44</td><td>54</td><td>List(-80.71264013499967, 38.66551020200046)</td></tr><tr><td>2019</td><td>2019</td><td>WV</td><td>West Virginia</td><td>Asthma</td><td>Asthma mortality among all people, underlying cause</td><td>null</td><td>Age >=65</td><td>54</td><td>List(-80.71264013499967, 38.66551020200046)</td></tr><tr><td>2019</td><td>2019</td><td>WV</td><td>West Virginia</td><td>Asthma</td><td>Asthma mortality among all people, underlying cause</td><td>null</td><td>Male</td><td>54</td><td>List(-80.71264013499967, 38.66551020200046)</td></tr><tr><td>2019</td><td>2019</td><td>WV</td><td>West Virginia</td><td>Cardiovascular Disease</td><td>Diseases of the heart mortality among all people, underlying cause</td><td>2719</td><td>Male</td><td>54</td><td>List(-80.71264013499967, 38.66551020200046)</td></tr><tr><td>2019</td><td>2019</td><td>WV</td><td>West Virginia</td><td>Diabetes</td><td>Diabetes mortality among all people, underlying or contributing cause</td><td>1889</td><td>Age >=65</td><td>54</td><td>List(-80.71264013499967, 38.66551020200046)</td></tr><tr><td>2019</td><td>2019</td><td>WV</td><td>West Virginia</td><td>Health Status</td><td>Life expectancy at birth</td><td>77.3</td><td>Female</td><td>54</td><td>List(-80.71264013499967, 38.66551020200046)</td></tr><tr><td>2019</td><td>2019</td><td>WV</td><td>West Virginia</td><td>Immunization</td><td>Influenza vaccination among adults</td><td>49.8</td><td>Female</td><td>54</td><td>List(-80.71264013499967, 38.66551020200046)</td></tr><tr><td>2019</td><td>2019</td><td>WV</td><td>West Virginia</td><td>Sleep</td><td>Short sleep duration among high school students</td><td>85.3</td><td>Grade 12</td><td>54</td><td>List(-80.71264013499967, 38.66551020200046)</td></tr><tr><td>2019</td><td>2019</td><td>WI</td><td>Wisconsin</td><td>Cardiovascular Disease</td><td>Diseases of the heart mortality among all people, underlying cause</td><td>1821</td><td>Age 45-64</td><td>55</td><td>List(-89.81637074199966, 44.39319117400049)</td></tr><tr><td>2019</td><td>2019</td><td>WI</td><td>Wisconsin</td><td>Diabetes</td><td>Diabetic ketoacidosis mortality among all people, underlying or contributing cause</td><td>2.4</td><td>Age 45-64</td><td>55</td><td>List(-89.81637074199966, 44.39319117400049)</td></tr><tr><td>2019</td><td>2019</td><td>WI</td><td>Wisconsin</td><td>Immunization</td><td>Pneumococcal vaccination among adults aged 65 years and older</td><td>75.5</td><td>Male</td><td>55</td><td>List(-89.81637074199966, 44.39319117400049)</td></tr><tr><td>2019</td><td>2019</td><td>WY</td><td>Wyoming</td><td>Cardiovascular Disease</td><td>High blood pressure among adults</td><td>35.1</td><td>Male</td><td>56</td><td>List(-108.10983035299967, 43.23554134300048)</td></tr><tr><td>2019</td><td>2019</td><td>WY</td><td>Wyoming</td><td>Cardiovascular Disease</td><td>Cerebrovascular disease (stroke) mortality among all people, underlying cause</td><td>193.6</td><td>Age >=65</td><td>56</td><td>List(-108.10983035299967, 43.23554134300048)</td></tr><tr><td>2019</td><td>2019</td><td>WY</td><td>Wyoming</td><td>Diabetes</td><td>Diabetes among adults</td><td>6.6</td><td>Female</td><td>56</td><td>List(-108.10983035299967, 43.23554134300048)</td></tr><tr><td>2019</td><td>2019</td><td>WY</td><td>Wyoming</td><td>Health Status</td><td>Recent activity limitation among adults</td><td>2.6</td><td>Female</td><td>56</td><td>List(-108.10983035299967, 43.23554134300048)</td></tr><tr><td>2019</td><td>2019</td><td>WY</td><td>Wyoming</td><td>Health Status</td><td>2 or more chronic conditions among adults</td><td>13.7</td><td>Male</td><td>56</td><td>List(-108.10983035299967, 43.23554134300048)</td></tr><tr><td>2019</td><td>2019</td><td>WY</td><td>Wyoming</td><td>Immunization</td><td>Pneumococcal vaccination among adults aged 65 years and older</td><td>68.7</td><td>Overall</td><td>56</td><td>List(-108.10983035299967, 43.23554134300048)</td></tr><tr><td>2019</td><td>2019</td><td>WY</td><td>Wyoming</td><td>Nutrition, Physical Activity, and Weight Status</td><td>Consumed fruit less than one time daily among adults</td><td>37.9</td><td>Female</td><td>56</td><td>List(-108.10983035299967, 43.23554134300048)</td></tr><tr><td>2019</td><td>2019</td><td>WY</td><td>Wyoming</td><td>Sleep</td><td>Short sleep duration among high school students</td><td>null</td><td>Grade 12</td><td>56</td><td>List(-108.10983035299967, 43.23554134300048)</td></tr><tr><td>2019</td><td>2019</td><td>WY</td><td>Wyoming</td><td>Tobacco</td><td>Current cigarette smoking among adults</td><td>10.2</td><td>Age >=65</td><td>56</td><td>List(-108.10983035299967, 43.23554134300048)</td></tr><tr><td>2020</td><td>2020</td><td>AL</td><td>Alabama</td><td>Asthma</td><td>Asthma mortality among all people, underlying cause</td><td>0.8</td><td>Age 0-44</td><td>01</td><td>List(-86.63186076199969, 32.84057112200048)</td></tr><tr><td>2020</td><td>2020</td><td>AL</td><td>Alabama</td><td>Cardiovascular Disease</td><td>Coronary heart disease mortality among all people, underlying cause</td><td>85.7</td><td>Black, non-Hispanic</td><td>01</td><td>List(-86.63186076199969, 32.84057112200048)</td></tr><tr><td>2020</td><td>2020</td><td>AL</td><td>Alabama</td><td>Health Status</td><td>2 or more chronic conditions among adults</td><td>24.2</td><td>Female</td><td>01</td><td>List(-86.63186076199969, 32.84057112200048)</td></tr><tr><td>2020</td><td>2020</td><td>AL</td><td>Alabama</td><td>Mental Health</td><td>Depression among adults</td><td>16.1</td><td>Male</td><td>01</td><td>List(-86.63186076199969, 32.84057112200048)</td></tr><tr><td>2020</td><td>2020</td><td>AL</td><td>Alabama</td><td>Mental Health</td><td>Frequent mental distress among adults</td><td>21</td><td>Female</td><td>01</td><td>List(-86.63186076199969, 32.84057112200048)</td></tr><tr><td>2020</td><td>2020</td><td>AL</td><td>Alabama</td><td>Oral Health</td><td>All teeth lost among adults aged 65 years and older</td><td>24.3</td><td>Black, non-Hispanic</td><td>01</td><td>List(-86.63186076199969, 32.84057112200048)</td></tr><tr><td>2020</td><td>2020</td><td>AL</td><td>Alabama</td><td>Oral Health</td><td>Visited dentist or dental clinic in the past year among adults</td><td>62.9</td><td>Female</td><td>01</td><td>List(-86.63186076199969, 32.84057112200048)</td></tr><tr><td>2020</td><td>2021</td><td>AL</td><td>Alabama</td><td>Sleep</td><td>Short sleep duration among children aged 4 months to 14 years</td><td>46.4</td><td>Overall</td><td>01</td><td>List(-86.63186076199969, 32.84057112200048)</td></tr><tr><td>2020</td><td>2020</td><td>AL</td><td>Alabama</td><td>Tobacco</td><td>Current cigarette smoking among adults</td><td>20.5</td><td>Male</td><td>01</td><td>List(-86.63186076199969, 32.84057112200048)</td></tr><tr><td>2020</td><td>2020</td><td>AK</td><td>Alaska</td><td>Asthma</td><td>Current asthma among adults</td><td>16.2</td><td>Hispanic</td><td>02</td><td>List(-147.72205903599973, 64.84507995700051)</td></tr><tr><td>2020</td><td>2020</td><td>AK</td><td>Alaska</td><td>Health Status</td><td>Fair or poor self-rated health status among adults</td><td>13.5</td><td>American Indian or Alaska Native, non-Hispanic</td><td>02</td><td>List(-147.72205903599973, 64.84507995700051)</td></tr><tr><td>2020</td><td>2020</td><td>AK</td><td>Alaska</td><td>Oral Health</td><td>No teeth lost among adults aged 18-64 years</td><td>67.6</td><td>Female</td><td>02</td><td>List(-147.72205903599973, 64.84507995700051)</td></tr><tr><td>2020</td><td>2020</td><td>AZ</td><td>Arizona</td><td>Diabetes</td><td>Diabetes mortality among all people, underlying or contributing cause</td><td>1960</td><td>Age 45-64</td><td>04</td><td>List(-111.76381127699972, 34.865970280000454)</td></tr><tr><td>2020</td><td>2020</td><td>AZ</td><td>Arizona</td><td>Immunization</td><td>Influenza vaccination among adults</td><td>41.3</td><td>Age 45-64</td><td>04</td><td>List(-111.76381127699972, 34.865970280000454)</td></tr><tr><td>2020</td><td>2020</td><td>AZ</td><td>Arizona</td><td>Oral Health</td><td>All teeth lost among adults aged 65 years and older</td><td>35.4</td><td>Black, non-Hispanic</td><td>04</td><td>List(-111.76381127699972, 34.865970280000454)</td></tr><tr><td>2020</td><td>2020</td><td>AR</td><td>Arkansas</td><td>Alcohol</td><td>Chronic liver disease mortality among all people, underlying cause</td><td>218</td><td>Female</td><td>05</td><td>List(-92.27449074299966, 34.74865012400045)</td></tr><tr><td>2020</td><td>2020</td><td>AR</td><td>Arkansas</td><td>Cancer</td><td>Mammography use among women aged 50-74 years</td><td>74.2</td><td>Overall</td><td>05</td><td>List(-92.27449074299966, 34.74865012400045)</td></tr><tr><td>2020</td><td>2020</td><td>AR</td><td>Arkansas</td><td>Cardiovascular Disease</td><td>Cerebrovascular disease (stroke) mortality among all people, underlying cause</td><td>744</td><td>Male</td><td>05</td><td>List(-92.27449074299966, 34.74865012400045)</td></tr><tr><td>2020</td><td>2020</td><td>AR</td><td>Arkansas</td><td>Health Status</td><td>2 or more chronic conditions among adults</td><td>17.7</td><td>Male</td><td>05</td><td>List(-92.27449074299966, 34.74865012400045)</td></tr><tr><td>2020</td><td>2020</td><td>AR</td><td>Arkansas</td><td>Mental Health</td><td>Average mentally unhealthy days among adults</td><td>2.7</td><td>Age 45-64</td><td>05</td><td>List(-92.27449074299966, 34.74865012400045)</td></tr><tr><td>2020</td><td>2020</td><td>AR</td><td>Arkansas</td><td>Oral Health</td><td>All teeth lost among adults aged 65 years and older</td><td>20.7</td><td>Male</td><td>05</td><td>List(-92.27449074299966, 34.74865012400045)</td></tr><tr><td>2020</td><td>2021</td><td>AR</td><td>Arkansas</td><td>Sleep</td><td>Short sleep duration among children aged 4 months to 14 years</td><td>46.4</td><td>Age 4 m - 5 y</td><td>05</td><td>List(-92.27449074299966, 34.74865012400045)</td></tr><tr><td>2020</td><td>2020</td><td>CA</td><td>California</td><td>Immunization</td><td>Influenza vaccination among adults</td><td>38.3</td><td>Hispanic</td><td>06</td><td>List(-120.99999953799971, 37.63864012300047)</td></tr><tr><td>2020</td><td>2020</td><td>CA</td><td>California</td><td>Mental Health</td><td>Depression among adults</td><td>14.1</td><td>Overall</td><td>06</td><td>List(-120.99999953799971, 37.63864012300047)</td></tr><tr><td>2020</td><td>2020</td><td>CO</td><td>Colorado</td><td>Diabetes</td><td>Diabetic ketoacidosis mortality among all people, underlying or contributing cause</td><td>35</td><td>Age 0-44</td><td>08</td><td>List(-106.13361092099967, 38.843840757000464)</td></tr><tr><td>2020</td><td>2020</td><td>CO</td><td>Colorado</td><td>Health Status</td><td>Frequent physical distress among adults</td><td>10.1</td><td>Female</td><td>08</td><td>List(-106.13361092099967, 38.843840757000464)</td></tr><tr><td>2020</td><td>2020</td><td>CO</td><td>Colorado</td><td>Health Status</td><td>2 or more chronic conditions among adults</td><td>35</td><td>Age >=65</td><td>08</td><td>List(-106.13361092099967, 38.843840757000464)</td></tr><tr><td>2020</td><td>2020</td><td>CO</td><td>Colorado</td><td>Health Status</td><td>Life expectancy at birth</td><td>80.9</td><td>Female</td><td>08</td><td>List(-106.13361092099967, 38.843840757000464)</td></tr><tr><td>2020</td><td>2020</td><td>CO</td><td>Colorado</td><td>Tobacco</td><td>Current cigarette smoking among adults</td><td>13.5</td><td>Male</td><td>08</td><td>List(-106.13361092099967, 38.843840757000464)</td></tr><tr><td>2020</td><td>2020</td><td>CT</td><td>Connecticut</td><td>Cardiovascular Disease</td><td>Coronary heart disease mortality among all people, underlying cause</td><td>2076</td><td>Male</td><td>09</td><td>List(-72.64984095199964, 41.56266102000046)</td></tr><tr><td>2020</td><td>2020</td><td>DE</td><td>Delaware</td><td>Chronic Obstructive Pulmonary Disease</td><td>Chronic obstructive pulmonary disease among adults</td><td>4.8</td><td>Female</td><td>10</td><td>List(-75.57774116799965, 39.008830667000495)</td></tr><tr><td>2020</td><td>2020</td><td>DE</td><td>Delaware</td><td>Cardiovascular Disease</td><td>Cerebrovascular disease (stroke) mortality among all people, underlying cause</td><td>653</td><td>Age >=65</td><td>10</td><td>List(-75.57774116799965, 39.008830667000495)</td></tr><tr><td>2020</td><td>2020</td><td>DE</td><td>Delaware</td><td>Diabetes</td><td>Diabetes among adults</td><td>14.3</td><td>Age 45-64</td><td>10</td><td>List(-75.57774116799965, 39.008830667000495)</td></tr><tr><td>2020</td><td>2020</td><td>DE</td><td>Delaware</td><td>Disability</td><td>Adults with any disability</td><td>38.5</td><td>Age >=65</td><td>10</td><td>List(-75.57774116799965, 39.008830667000495)</td></tr><tr><td>2020</td><td>2020</td><td>DE</td><td>Delaware</td><td>Disability</td><td>Adults with any disability</td><td>24.7</td><td>Male</td><td>10</td><td>List(-75.57774116799965, 39.008830667000495)</td></tr><tr><td>2020</td><td>2020</td><td>DE</td><td>Delaware</td><td>Mental Health</td><td>Frequent mental distress among adults</td><td>12.6</td><td>White, non-Hispanic</td><td>10</td><td>List(-75.57774116799965, 39.008830667000495)</td></tr><tr><td>2020</td><td>2020</td><td>DC</td><td>District of Columbia</td><td>Alcohol</td><td>Binge drinking prevalence among adults</td><td>24.8</td><td>Male</td><td>11</td><td>List(-77.036871, 38.907192)</td></tr><tr><td>2020</td><td>2020</td><td>FL</td><td>Florida</td><td>Tobacco</td><td>Current cigarette smoking among adults</td><td>18.6</td><td>Male</td><td>12</td><td>List(-81.92896053899966, 28.932040377000476)</td></tr><tr><td>2020</td><td>2020</td><td>GA</td><td>Georgia</td><td>Alcohol</td><td>Chronic liver disease mortality among all people, underlying cause</td><td>765</td><td>Age 45-64</td><td>13</td><td>List(-83.62758034599966, 32.83968109300048)</td></tr><tr><td>2020</td><td>2020</td><td>GA</td><td>Georgia</td><td>Health Status</td><td>2 or more chronic conditions among adults</td><td>4.3</td><td>Age 18-44</td><td>13</td><td>List(-83.62758034599966, 32.83968109300048)</td></tr><tr><td>2020</td><td>2020</td><td>GU</td><td>Guam</td><td>Mental Health</td><td>Depression among adults</td><td>7.9</td><td>Age 18-44</td><td>66</td><td>List(144.793731, 13.444304)</td></tr><tr><td>2020</td><td>2020</td><td>GU</td><td>Guam</td><td>Oral Health</td><td>No teeth lost among adults aged 18-64 years</td><td>56.1</td><td>Overall</td><td>66</td><td>List(144.793731, 13.444304)</td></tr><tr><td>2020</td><td>2020</td><td>GU</td><td>Guam</td><td>Oral Health</td><td>Visited dentist or dental clinic in the past year among adults</td><td>53.3</td><td>Male</td><td>66</td><td>List(144.793731, 13.444304)</td></tr><tr><td>2020</td><td>2020</td><td>GU</td><td>Guam</td><td>Sleep</td><td>Short sleep duration among adults</td><td>48</td><td>Age 45-64</td><td>66</td><td>List(144.793731, 13.444304)</td></tr><tr><td>2020</td><td>2020</td><td>HI</td><td>Hawaii</td><td>Cancer</td><td>Cervical cancer screening among women aged 21-65 years</td><td>80.6</td><td>Overall</td><td>15</td><td>List(-157.85774940299973, 21.304850435000446)</td></tr><tr><td>2020</td><td>2020</td><td>HI</td><td>Hawaii</td><td>Diabetes</td><td>Diabetes among adults</td><td>12.2</td><td>Age 45-64</td><td>15</td><td>List(-157.85774940299973, 21.304850435000446)</td></tr><tr><td>2020</td><td>2020</td><td>HI</td><td>Hawaii</td><td>Mental Health</td><td>Frequent mental distress among adults</td><td>10.4</td><td>Age 45-64</td><td>15</td><td>List(-157.85774940299973, 21.304850435000446)</td></tr><tr><td>2020</td><td>2020</td><td>HI</td><td>Hawaii</td><td>Mental Health</td><td>Frequent mental distress among adults</td><td>7.7</td><td>Asian, non-Hispanic</td><td>15</td><td>List(-157.85774940299973, 21.304850435000446)</td></tr><tr><td>2020</td><td>2020</td><td>HI</td><td>Hawaii</td><td>Nutrition, Physical Activity, and Weight Status</td><td>No leisure-time physical activity among adults</td><td>16.6</td><td>Male</td><td>15</td><td>List(-157.85774940299973, 21.304850435000446)</td></tr><tr><td>2020</td><td>2020</td><td>HI</td><td>Hawaii</td><td>Tobacco</td><td>Current cigarette smoking among adults</td><td>12.1</td><td>Male</td><td>15</td><td>List(-157.85774940299973, 21.304850435000446)</td></tr><tr><td>2020</td><td>2020</td><td>ID</td><td>Idaho</td><td>Cancer</td><td>Mammography use among women aged 50-74 years</td><td>71.6</td><td>Overall</td><td>16</td><td>List(-114.3637300419997, 43.682630005000476)</td></tr><tr><td>2020</td><td>2020</td><td>IL</td><td>Illinois</td><td>Asthma</td><td>Asthma mortality among all people, underlying cause</td><td>67</td><td>White, non-Hispanic</td><td>17</td><td>List(-88.99771017799969, 40.48501028300046)</td></tr><tr><td>2020</td><td>2020</td><td>IL</td><td>Illinois</td><td>Diabetes</td><td>Diabetes mortality among all people, underlying or contributing cause</td><td>6140</td><td>Female</td><td>17</td><td>List(-88.99771017799969, 40.48501028300046)</td></tr><tr><td>2020</td><td>2020</td><td>IL</td><td>Illinois</td><td>Health Status</td><td>Frequent physical distress among adults</td><td>14.8</td><td>Hispanic</td><td>17</td><td>List(-88.99771017799969, 40.48501028300046)</td></tr><tr><td>2020</td><td>2020</td><td>IL</td><td>Illinois</td><td>Oral Health</td><td>Six or more teeth lost among adults aged 65 years and older</td><td>27.3</td><td>Male</td><td>17</td><td>List(-88.99771017799969, 40.48501028300046)</td></tr><tr><td>2020</td><td>2020</td><td>IN</td><td>Indiana</td><td>Alcohol</td><td>Binge drinking frequency among adults who binge drink</td><td>5.7</td><td>Male</td><td>18</td><td>List(-86.14996019399968, 39.766910452000445)</td></tr><tr><td>2020</td><td>2020</td><td>IN</td><td>Indiana</td><td>Social Determinants of Health</td><td>Routine checkup within the past year among adults</td><td>91</td><td>Age >=65</td><td>18</td><td>List(-86.14996019399968, 39.766910452000445)</td></tr><tr><td>2020</td><td>2020</td><td>IA</td><td>Iowa</td><td>Asthma</td><td>Current asthma among adults</td><td>9.8</td><td>Overall</td><td>19</td><td>List(-93.81649055599968, 42.46940091300047)</td></tr><tr><td>2020</td><td>2020</td><td>IA</td><td>Iowa</td><td>Diabetes</td><td>Diabetic ketoacidosis mortality among all people, underlying or contributing cause</td><td>60</td><td>Male</td><td>19</td><td>List(-93.81649055599968, 42.46940091300047)</td></tr><tr><td>2020</td><td>2020</td><td>KS</td><td>Kansas</td><td>Diabetes</td><td>Diabetic ketoacidosis mortality among all people, underlying or contributing cause</td><td>55</td><td>White, non-Hispanic</td><td>20</td><td>List(-98.20078122699965, 38.34774030000045)</td></tr><tr><td>2020</td><td>2020</td><td>KS</td><td>Kansas</td><td>Health Status</td><td>Frequent physical distress among adults</td><td>7.9</td><td>Male</td><td>20</td><td>List(-98.20078122699965, 38.34774030000045)</td></tr><tr><td>2020</td><td>2020</td><td>KS</td><td>Kansas</td><td>Health Status</td><td>Recent activity limitation among adults</td><td>1.9</td><td>Male</td><td>20</td><td>List(-98.20078122699965, 38.34774030000045)</td></tr><tr><td>2020</td><td>2020</td><td>KS</td><td>Kansas</td><td>Tobacco</td><td>Quit attempts in the past year among adult current smokers</td><td>53.7</td><td>Male</td><td>20</td><td>List(-98.20078122699965, 38.34774030000045)</td></tr><tr><td>2020</td><td>2020</td><td>KY</td><td>Kentucky</td><td>Alcohol</td><td>Binge drinking prevalence among adults</td><td>4</td><td>Age >=65</td><td>21</td><td>List(-84.77497104799966, 37.645970271000465)</td></tr><tr><td>2020</td><td>2020</td><td>KY</td><td>Kentucky</td><td>Diabetes</td><td>Diabetes among adults</td><td>14.4</td><td>Male</td><td>21</td><td>List(-84.77497104799966, 37.645970271000465)</td></tr><tr><td>2020</td><td>2020</td><td>KY</td><td>Kentucky</td><td>Mental Health</td><td>Depression among adults</td><td>30.7</td><td>Female</td><td>21</td><td>List(-84.77497104799966, 37.645970271000465)</td></tr><tr><td>2020</td><td>2020</td><td>LA</td><td>Louisiana</td><td>Oral Health</td><td>No teeth lost among adults aged 18-64 years</td><td>57.8</td><td>Female</td><td>22</td><td>List(-92.44568007099969, 31.31266064400046)</td></tr><tr><td>2020</td><td>2021</td><td>LA</td><td>Louisiana</td><td>Sleep</td><td>Short sleep duration among children aged 4 months to 14 years</td><td>46.9</td><td>Male</td><td>22</td><td>List(-92.44568007099969, 31.31266064400046)</td></tr><tr><td>2020</td><td>2020</td><td>ME</td><td>Maine</td><td>Cardiovascular Disease</td><td>Diseases of the heart mortality among all people, underlying cause</td><td>2528</td><td>Age >=65</td><td>23</td><td>List(-68.98503133599962, 45.254228894000505)</td></tr><tr><td>2020</td><td>2020</td><td>ME</td><td>Maine</td><td>Immunization</td><td>Pneumococcal vaccination among adults aged 65 years and older</td><td>70.3</td><td>Male</td><td>23</td><td>List(-68.98503133599962, 45.254228894000505)</td></tr><tr><td>2020</td><td>2020</td><td>ME</td><td>Maine</td><td>Oral Health</td><td>No teeth lost among adults aged 18-64 years</td><td>62.6</td><td>Male</td><td>23</td><td>List(-68.98503133599962, 45.254228894000505)</td></tr><tr><td>2020</td><td>2020</td><td>ME</td><td>Maine</td><td>Social Determinants of Health</td><td>Routine checkup within the past year among adults</td><td>69.1</td><td>Age 18-44</td><td>23</td><td>List(-68.98503133599962, 45.254228894000505)</td></tr><tr><td>2020</td><td>2020</td><td>MD</td><td>Maryland</td><td>Alcohol</td><td>Binge drinking intensity among adults who binge drink</td><td>7.9</td><td>Age 18-44</td><td>24</td><td>List(-76.60926011099963, 39.29058096400047)</td></tr><tr><td>2020</td><td>2020</td><td>MD</td><td>Maryland</td><td>Alcohol</td><td>Chronic liver disease mortality among all people, underlying cause</td><td>480</td><td>White, non-Hispanic</td><td>24</td><td>List(-76.60926011099963, 39.29058096400047)</td></tr><tr><td>2020</td><td>2020</td><td>MD</td><td>Maryland</td><td>Diabetes</td><td>Gestational diabetes among women with a recent live birth</td><td>20</td><td>Asian, non-Hispanic</td><td>24</td><td>List(-76.60926011099963, 39.29058096400047)</td></tr><tr><td>2020</td><td>2020</td><td>MD</td><td>Maryland</td><td>Health Status</td><td>Life expectancy at birth</td><td>73.8</td><td>Male</td><td>24</td><td>List(-76.60926011099963, 39.29058096400047)</td></tr><tr><td>2020</td><td>2020</td><td>MD</td><td>Maryland</td><td>Immunization</td><td>Influenza vaccination among adults 18â€“64 who are at increased risk</td><td>46.2</td><td>Black, non-Hispanic</td><td>24</td><td>List(-76.60926011099963, 39.29058096400047)</td></tr><tr><td>2020</td><td>2020</td><td>MD</td><td>Maryland</td><td>Mental Health</td><td>Frequent mental distress among adults</td><td>10.9</td><td>Asian, non-Hispanic</td><td>24</td><td>List(-76.60926011099963, 39.29058096400047)</td></tr><tr><td>2020</td><td>2020</td><td>MD</td><td>Maryland</td><td>Oral Health</td><td>No teeth lost among adults aged 18-64 years</td><td>67.2</td><td>Female</td><td>24</td><td>List(-76.60926011099963, 39.29058096400047)</td></tr><tr><td>2020</td><td>2020</td><td>MA</td><td>Massachusetts</td><td>Alcohol</td><td>Binge drinking prevalence among adults</td><td>20.3</td><td>Male</td><td>25</td><td>List(-72.08269067499964, 42.27687047000046)</td></tr><tr><td>2020</td><td>2020</td><td>MA</td><td>Massachusetts</td><td>Asthma</td><td>Asthma mortality among all people, underlying cause</td><td>30</td><td>Age 45-64</td><td>25</td><td>List(-72.08269067499964, 42.27687047000046)</td></tr><tr><td>2020</td><td>2020</td><td>MA</td><td>Massachusetts</td><td>Asthma</td><td>Asthma mortality among all people, underlying cause</td><td>33</td><td>Male</td><td>25</td><td>List(-72.08269067499964, 42.27687047000046)</td></tr><tr><td>2020</td><td>2020</td><td>MA</td><td>Massachusetts</td><td>Chronic Obstructive Pulmonary Disease</td><td>Chronic obstructive pulmonary disease among adults</td><td>4.3</td><td>Age 45-64</td><td>25</td><td>List(-72.08269067499964, 42.27687047000046)</td></tr><tr><td>2020</td><td>2020</td><td>MA</td><td>Massachusetts</td><td>Diabetes</td><td>Diabetic ketoacidosis mortality among all people, underlying or contributing cause</td><td>46</td><td>Age 45-64</td><td>25</td><td>List(-72.08269067499964, 42.27687047000046)</td></tr><tr><td>2020</td><td>2020</td><td>MA</td><td>Massachusetts</td><td>Immunization</td><td>Influenza vaccination among adults</td><td>50.5</td><td>Hispanic</td><td>25</td><td>List(-72.08269067499964, 42.27687047000046)</td></tr><tr><td>2020</td><td>2020</td><td>MA</td><td>Massachusetts</td><td>Tobacco</td><td>Current cigarette smoking among adults</td><td>9.5</td><td>Female</td><td>25</td><td>List(-72.08269067499964, 42.27687047000046)</td></tr><tr><td>2020</td><td>2020</td><td>MI</td><td>Michigan</td><td>Alcohol</td><td>Chronic liver disease mortality among all people, underlying cause</td><td>12.1</td><td>Female</td><td>26</td><td>List(-84.71439026999968, 44.6613195430005)</td></tr><tr><td>2020</td><td>2020</td><td>MI</td><td>Michigan</td><td>Disability</td><td>Adults with any disability</td><td>20.5</td><td>Age 18-44</td><td>26</td><td>List(-84.71439026999968, 44.6613195430005)</td></tr><tr><td>2020</td><td>2020</td><td>MI</td><td>Michigan</td><td>Immunization</td><td>Pneumococcal vaccination among adults aged 65 years and older</td><td>71.7</td><td>Overall</td><td>26</td><td>List(-84.71439026999968, 44.6613195430005)</td></tr><tr><td>2020</td><td>2020</td><td>MI</td><td>Michigan</td><td>Tobacco</td><td>Current cigarette smoking among adults</td><td>17.1</td><td>Female</td><td>26</td><td>List(-84.71439026999968, 44.6613195430005)</td></tr><tr><td>2020</td><td>2020</td><td>MN</td><td>Minnesota</td><td>Asthma</td><td>Current asthma among adults</td><td>9.2</td><td>Age 45-64</td><td>27</td><td>List(-94.79420050299967, 46.35564873600049)</td></tr><tr><td>2020</td><td>2020</td><td>MN</td><td>Minnesota</td><td>Cardiovascular Disease</td><td>Cerebrovascular disease (stroke) mortality among all people, underlying cause</td><td>2092</td><td>White, non-Hispanic</td><td>27</td><td>List(-94.79420050299967, 46.35564873600049)</td></tr><tr><td>2020</td><td>2020</td><td>MN</td><td>Minnesota</td><td>Cardiovascular Disease</td><td>Diseases of the heart mortality among all people, underlying cause</td><td>208</td><td>Age 0-44</td><td>27</td><td>List(-94.79420050299967, 46.35564873600049)</td></tr><tr><td>2020</td><td>2020</td><td>MN</td><td>Minnesota</td><td>Disability</td><td>Adults with any disability</td><td>20.5</td><td>Female</td><td>27</td><td>List(-94.79420050299967, 46.35564873600049)</td></tr><tr><td>2020</td><td>2020</td><td>MN</td><td>Minnesota</td><td>Immunization</td><td>Influenza vaccination among adults</td><td>50.6</td><td>Age 45-64</td><td>27</td><td>List(-94.79420050299967, 46.35564873600049)</td></tr><tr><td>2020</td><td>2020</td><td>MN</td><td>Minnesota</td><td>Mental Health</td><td>Depression among adults</td><td>20.8</td><td>White, non-Hispanic</td><td>27</td><td>List(-94.79420050299967, 46.35564873600049)</td></tr><tr><td>2020</td><td>2020</td><td>MN</td><td>Minnesota</td><td>Social Determinants of Health</td><td>Lack of health insurance among adults aged 18-64 years</td><td>7.4</td><td>White, non-Hispanic</td><td>27</td><td>List(-94.79420050299967, 46.35564873600049)</td></tr><tr><td>2020</td><td>2020</td><td>MN</td><td>Minnesota</td><td>Sleep</td><td>Short sleep duration among adults</td><td>25.5</td><td>Female</td><td>27</td><td>List(-94.79420050299967, 46.35564873600049)</td></tr><tr><td>2020</td><td>2020</td><td>MS</td><td>Mississippi</td><td>Asthma</td><td>Asthma mortality among all people, underlying cause</td><td>31</td><td>Female</td><td>28</td><td>List(-89.53803082499968, 32.745510099000455)</td></tr><tr><td>2020</td><td>2020</td><td>MS</td><td>Mississippi</td><td>Cancer</td><td>Cervical cancer screening among women aged 21-65 years</td><td>86.9</td><td>Overall</td><td>28</td><td>List(-89.53803082499968, 32.745510099000455)</td></tr><tr><td>2020</td><td>2020</td><td>MS</td><td>Mississippi</td><td>Cardiovascular Disease</td><td>Cerebrovascular disease (stroke) mortality among all people, underlying cause</td><td>1948</td><td>Overall</td><td>28</td><td>List(-89.53803082499968, 32.745510099000455)</td></tr><tr><td>2020</td><td>2020</td><td>MS</td><td>Mississippi</td><td>Cardiovascular Disease</td><td>Diseases of the heart mortality among all people, underlying cause</td><td>334</td><td>Age 0-44</td><td>28</td><td>List(-89.53803082499968, 32.745510099000455)</td></tr><tr><td>2020</td><td>2020</td><td>MS</td><td>Mississippi</td><td>Oral Health</td><td>No teeth lost among adults aged 18-64 years</td><td>55.8</td><td>Male</td><td>28</td><td>List(-89.53803082499968, 32.745510099000455)</td></tr><tr><td>2020</td><td>2020</td><td>MO</td><td>Missouri</td><td>Alcohol</td><td>Binge drinking frequency among adults who binge drink</td><td>4.8</td><td>White, non-Hispanic</td><td>29</td><td>List(-92.56630005299968, 38.635790776000476)</td></tr><tr><td>2020</td><td>2020</td><td>MO</td><td>Missouri</td><td>Chronic Obstructive Pulmonary Disease</td><td>Chronic obstructive pulmonary disease mortality among adults aged 45 years and older, underlying cause</td><td>1801</td><td>Male</td><td>29</td><td>List(-92.56630005299968, 38.635790776000476)</td></tr><tr><td>2020</td><td>2020</td><td>MO</td><td>Missouri</td><td>Diabetes</td><td>Diabetes among adults</td><td>3</td><td>Age 18-44</td><td>29</td><td>List(-92.56630005299968, 38.635790776000476)</td></tr></tbody></table></div>"
      ]
     },
     "metadata": {
      "application/vnd.databricks.v1+output": {
       "addedWidgets": {},
       "aggData": [],
       "aggError": "",
       "aggOverflow": false,
       "aggSchema": [],
       "aggSeriesLimitReached": false,
       "aggType": "",
       "arguments": {},
       "columnCustomDisplayInfos": {},
       "data": [
        [
         "2020",
         "2020",
         "US",
         "United States",
         "Health Status",
         "Recent activity limitation among adults",
         "2.9",
         "Female",
         "59",
         null
        ],
        [
         "2015",
         "2019",
         "AR",
         "Arkansas",
         "Cancer",
         "Invasive cancer (all sites combined), incidence",
         "9537",
         "Male",
         "05",
         [
          -92.27449074299966,
          34.74865012400045
         ]
        ],
        [
         "2015",
         "2019",
         "CA",
         "California",
         "Cancer",
         "Cervical cancer mortality among all females, underlying cause",
         "486",
         "Overall",
         "06",
         [
          -120.99999953799971,
          37.63864012300047
         ]
        ],
        [
         "2015",
         "2019",
         "CO",
         "Colorado",
         "Cancer",
         "Invasive cancer (all sites combined), incidence",
         "2880",
         "Hispanic",
         "08",
         [
          -106.13361092099967,
          38.843840757000464
         ]
        ],
        [
         "2015",
         "2019",
         "GA",
         "Georgia",
         "Cancer",
         "Prostate cancer mortality among all males, underlying cause",
         "519",
         "White, non-Hispanic",
         "13",
         [
          -83.62758034599966,
          32.83968109300048
         ]
        ],
        [
         "2015",
         "2019",
         "KS",
         "Kansas",
         "Cancer",
         "Invasive cancer (all sites combined), incidence",
         "8102",
         "Male",
         "20",
         [
          -98.20078122699965,
          38.34774030000045
         ]
        ],
        [
         "2015",
         "2019",
         "ME",
         "Maine",
         "Cancer",
         "Invasive cancer (all sites combined), incidence",
         "9238",
         "Overall",
         "23",
         [
          -68.98503133599962,
          45.254228894000505
         ]
        ],
        [
         "2015",
         "2019",
         "NJ",
         "New Jersey",
         "Cancer",
         "Invasive cancer (all sites combined), incidence",
         "5587",
         "Hispanic",
         "34",
         [
          -74.27369128799967,
          40.13057004800049
         ]
        ],
        [
         "2015",
         "2019",
         "NY",
         "New York",
         "Cancer",
         "Breast cancer mortality among all females, underlying cause",
         "2547",
         "Female",
         "36",
         [
          -75.54397042699964,
          42.82700103200045
         ]
        ],
        [
         "2015",
         "2019",
         "OR",
         "Oregon",
         "Cancer",
         "Breast cancer mortality among all females, underlying cause",
         "548",
         "Overall",
         "41",
         [
          -120.15503132599969,
          44.56744942400047
         ]
        ],
        [
         "2015",
         "2019",
         "SD",
         "South Dakota",
         "Cancer",
         "Prostate cancer mortality among all males, underlying cause",
         "20.2",
         "Overall",
         "46",
         [
          -100.3735306369997,
          44.353130053000484
         ]
        ],
        [
         "2015",
         "2019",
         "TX",
         "Texas",
         "Cancer",
         "Cervical cancer mortality among all females, underlying cause",
         "2.9",
         "Female",
         "48",
         [
          -99.42677020599967,
          31.827240407000488
         ]
        ],
        [
         "2015",
         "2019",
         "US",
         "United States",
         "Cancer",
         "Invasive cancer (all sites combined) mortality among all people, underlying cause",
         "314982",
         "Male",
         "59",
         null
        ],
        [
         "2015",
         "2019",
         "VT",
         "Vermont",
         "Cancer",
         "Prostate cancer mortality among all males, underlying cause",
         "23",
         "Overall",
         "50",
         [
          -72.51764079099962,
          43.62538123900049
         ]
        ],
        [
         "2015",
         "2019",
         "WV",
         "West Virginia",
         "Cancer",
         "Breast cancer mortality among all females, underlying cause",
         "31.6",
         "Female",
         "54",
         [
          -80.71264013499967,
          38.66551020200046
         ]
        ],
        [
         "2015",
         "2019",
         "WI",
         "Wisconsin",
         "Cancer",
         "Invasive cancer (all sites combined), incidence",
         "444.6",
         "Female",
         "55",
         [
          -89.81637074199966,
          44.39319117400049
         ]
        ],
        [
         "2020",
         "2020",
         "ID",
         "Idaho",
         "Diabetes",
         "Diabetic ketoacidosis mortality among all people, underlying or contributing cause",
         "25",
         "Age >=65",
         "16",
         [
          -114.3637300419997,
          43.682630005000476
         ]
        ],
        [
         "2015",
         "2019",
         "WY",
         "Wyoming",
         "Cancer",
         "Breast cancer mortality among all females, underlying cause",
         "66",
         "Overall",
         "56",
         [
          -108.10983035299967,
          43.23554134300048
         ]
        ],
        [
         "2016",
         "2020",
         "AZ",
         "Arizona",
         "Cancer",
         "Lung and bronchial cancer mortality among all people, underlying cause",
         "1408",
         "Male",
         "04",
         [
          -111.76381127699972,
          34.865970280000454
         ]
        ],
        [
         "2016",
         "2020",
         "CA",
         "California",
         "Cancer",
         "Breast cancer mortality among all females, underlying cause",
         "4503",
         "Overall",
         "06",
         [
          -120.99999953799971,
          37.63864012300047
         ]
        ],
        [
         "2016",
         "2020",
         "CA",
         "California",
         "Cancer",
         "Cervical cancer mortality among all females, underlying cause",
         "484",
         "Female",
         "06",
         [
          -120.99999953799971,
          37.63864012300047
         ]
        ],
        [
         "2016",
         "2020",
         "DC",
         "District of Columbia",
         "Cancer",
         "Cervical cancer mortality among all females, underlying cause",
         null,
         "Male",
         "11",
         [
          -77.036871,
          38.907192
         ]
        ],
        [
         "2016",
         "2020",
         "DC",
         "District of Columbia",
         "Cancer",
         "Invasive cancer (all sites combined), incidence",
         "1479",
         "Female",
         "11",
         [
          -77.036871,
          38.907192
         ]
        ],
        [
         "2016",
         "2020",
         "FL",
         "Florida",
         "Cancer",
         "Breast cancer mortality among all females, underlying cause",
         null,
         "Male",
         "12",
         [
          -81.92896053899966,
          28.932040377000476
         ]
        ],
        [
         "2016",
         "2020",
         "HI",
         "Hawaii",
         "Cancer",
         "Invasive cancer (all sites combined), incidence",
         "3644",
         "Female",
         "15",
         [
          -157.85774940299973,
          21.304850435000446
         ]
        ],
        [
         "2016",
         "2020",
         "IL",
         "Illinois",
         "Cancer",
         "Prostate cancer mortality among all males, underlying cause",
         "1231",
         "Male",
         "17",
         [
          -88.99771017799969,
          40.48501028300046
         ]
        ],
        [
         "2016",
         "2020",
         "IL",
         "Illinois",
         "Cancer",
         "Invasive cancer (all sites combined), incidence",
         "560.6",
         "Male",
         "17",
         [
          -88.99771017799969,
          40.48501028300046
         ]
        ],
        [
         "2016",
         "2020",
         "IA",
         "Iowa",
         "Cancer",
         "Invasive cancer (all sites combined) mortality among all people, underlying cause",
         "185.3",
         "Male",
         "19",
         [
          -93.81649055599968,
          42.46940091300047
         ]
        ],
        [
         "2016",
         "2020",
         "KS",
         "Kansas",
         "Cancer",
         "Breast cancer mortality among all females, underlying cause",
         "19.8",
         "Overall",
         "20",
         [
          -98.20078122699965,
          38.34774030000045
         ]
        ],
        [
         "2016",
         "2020",
         "KS",
         "Kansas",
         "Cancer",
         "Breast cancer mortality among all females, underlying cause",
         "14.6",
         "Hispanic",
         "20",
         [
          -98.20078122699965,
          38.34774030000045
         ]
        ],
        [
         "2016",
         "2020",
         "ME",
         "Maine",
         "Cancer",
         "Invasive cancer (all sites combined), incidence",
         "4764",
         "Male",
         "23",
         [
          -68.98503133599962,
          45.254228894000505
         ]
        ],
        [
         "2016",
         "2020",
         "MA",
         "Massachusetts",
         "Cancer",
         "Invasive cancer (all sites combined), incidence",
         "428.3",
         "Female",
         "25",
         [
          -72.08269067499964,
          42.27687047000046
         ]
        ],
        [
         "2016",
         "2020",
         "MN",
         "Minnesota",
         "Cancer",
         "Cervical cancer mortality among all females, underlying cause",
         "1.2",
         "Overall",
         "27",
         [
          -94.79420050299967,
          46.35564873600049
         ]
        ],
        [
         "2016",
         "2020",
         "MS",
         "Mississippi",
         "Cancer",
         "Breast cancer mortality among all females, underlying cause",
         "20",
         "White, non-Hispanic",
         "28",
         [
          -89.53803082499968,
          32.745510099000455
         ]
        ],
        [
         "2016",
         "2020",
         "MS",
         "Mississippi",
         "Cancer",
         "Lung and bronchial cancer mortality among all people, underlying cause",
         "1833",
         "Overall",
         "28",
         [
          -89.53803082499968,
          32.745510099000455
         ]
        ],
        [
         "2016",
         "2020",
         "NE",
         "Nebraska",
         "Cancer",
         "Cervical cancer mortality among all females, underlying cause",
         "20",
         "White, non-Hispanic",
         "31",
         [
          -99.36572062299967,
          41.6410409880005
         ]
        ],
        [
         "2016",
         "2020",
         "NH",
         "New Hampshire",
         "Cancer",
         "Invasive cancer (all sites combined), incidence",
         "622.4",
         "Female",
         "33",
         [
          -71.50036091999965,
          43.65595011300047
         ]
        ],
        [
         "2016",
         "2020",
         "NM",
         "New Mexico",
         "Cancer",
         "Invasive cancer (all sites combined), incidence",
         "4697",
         "Male",
         "35",
         [
          -106.24058098499967,
          34.52088095200048
         ]
        ],
        [
         "2016",
         "2020",
         "NC",
         "North Carolina",
         "Cancer",
         "Invasive cancer (all sites combined), incidence",
         "30211",
         "Male",
         "37",
         [
          -79.15925046299964,
          35.466220975000454
         ]
        ],
        [
         "2016",
         "2020",
         "SC",
         "South Carolina",
         "Cancer",
         "Prostate cancer mortality among all males, underlying cause",
         "22.6",
         "Overall",
         "45",
         [
          -81.04537120699968,
          33.998821303000454
         ]
        ],
        [
         "2016",
         "2020",
         "SC",
         "South Carolina",
         "Cancer",
         "Prostate cancer mortality among all males, underlying cause",
         "558",
         "Male",
         "45",
         [
          -81.04537120699968,
          33.998821303000454
         ]
        ],
        [
         "2016",
         "2020",
         "SD",
         "South Dakota",
         "Cancer",
         "Invasive cancer (all sites combined) mortality among all people, underlying cause",
         "7",
         "Black, non-Hispanic",
         "46",
         [
          -100.3735306369997,
          44.353130053000484
         ]
        ],
        [
         "2016",
         "2020",
         "UT",
         "Utah",
         "Cancer",
         "Breast cancer mortality among all females, underlying cause",
         "6",
         "Asian or Pacific Islander, non-Hispanic",
         "49",
         [
          -111.58713063499971,
          39.360700171000474
         ]
        ],
        [
         "2016",
         "2020",
         "VT",
         "Vermont",
         "Cancer",
         "Lung and bronchial cancer mortality among all people, underlying cause",
         "158",
         "Female",
         "50",
         [
          -72.51764079099962,
          43.62538123900049
         ]
        ],
        [
         "2016",
         "2020",
         "WV",
         "West Virginia",
         "Cancer",
         "Breast cancer mortality among all females, underlying cause",
         "286",
         "Female",
         "54",
         [
          -80.71264013499967,
          38.66551020200046
         ]
        ],
        [
         "2016",
         "2020",
         "WV",
         "West Virginia",
         "Cancer",
         "Invasive cancer (all sites combined), incidence",
         "697",
         "Male",
         "54",
         [
          -80.71264013499967,
          38.66551020200046
         ]
        ],
        [
         "2016",
         "2020",
         "WI",
         "Wisconsin",
         "Cancer",
         "Invasive cancer (all sites combined), incidence",
         "16451",
         "Female",
         "55",
         [
          -89.81637074199966,
          44.39319117400049
         ]
        ],
        [
         "2016",
         "2020",
         "WY",
         "Wyoming",
         "Cancer",
         "Colon and rectum (colorectal) cancer mortality among all people, underlying cause",
         "15",
         "Overall",
         "56",
         [
          -108.10983035299967,
          43.23554134300048
         ]
        ],
        [
         "2016",
         "2020",
         "WY",
         "Wyoming",
         "Cancer",
         "Cervical cancer mortality among all females, underlying cause",
         "2.1",
         "Overall",
         "56",
         [
          -108.10983035299967,
          43.23554134300048
         ]
        ],
        [
         "2016",
         "2020",
         "WY",
         "Wyoming",
         "Cancer",
         "Cervical cancer mortality among all females, underlying cause",
         "2.1",
         "Female",
         "56",
         [
          -108.10983035299967,
          43.23554134300048
         ]
        ],
        [
         "2016",
         "2020",
         "WY",
         "Wyoming",
         "Cancer",
         "Invasive cancer (all sites combined) mortality among all people, underlying cause",
         "542",
         "Male",
         "56",
         [
          -108.10983035299967,
          43.23554134300048
         ]
        ],
        [
         "2018",
         "2019",
         "AL",
         "Alabama",
         "Sleep",
         "Short sleep duration among children aged 4 months to 14 years",
         "40.9",
         "Female",
         "01",
         [
          -86.63186076199969,
          32.84057112200048
         ]
        ],
        [
         "2020",
         "2020",
         "KY",
         "Kentucky",
         "Immunization",
         "Influenza vaccination among adults",
         "41.6",
         "Black, non-Hispanic",
         "21",
         [
          -84.77497104799966,
          37.645970271000465
         ]
        ],
        [
         "2018",
         "2019",
         "ID",
         "Idaho",
         "Sleep",
         "Short sleep duration among children aged 4 months to 14 years",
         "27.3",
         "Male",
         "16",
         [
          -114.3637300419997,
          43.682630005000476
         ]
        ],
        [
         "2018",
         "2019",
         "KS",
         "Kansas",
         "Sleep",
         "Short sleep duration among children aged 4 months to 14 years",
         "34.2",
         "Male",
         "20",
         [
          -98.20078122699965,
          38.34774030000045
         ]
        ],
        [
         "2018",
         "2019",
         "MD",
         "Maryland",
         "Sleep",
         "Short sleep duration among children aged 4 months to 14 years",
         "41.6",
         "Female",
         "24",
         [
          -76.60926011099963,
          39.29058096400047
         ]
        ],
        [
         "2018",
         "2019",
         "MN",
         "Minnesota",
         "Nutrition, Physical Activity, and Weight Status",
         "Children and adolescents aged 6-13 years meeting aerobic physical activity guideline",
         "36.4",
         "Male",
         "27",
         [
          -94.79420050299967,
          46.35564873600049
         ]
        ],
        [
         "2018",
         "2019",
         "MO",
         "Missouri",
         "Sleep",
         "Short sleep duration among children aged 4 months to 14 years",
         "31.7",
         "Age 6-14",
         "29",
         [
          -92.56630005299968,
          38.635790776000476
         ]
        ],
        [
         "2018",
         "2019",
         "MT",
         "Montana",
         "Sleep",
         "Short sleep duration among children aged 4 months to 14 years",
         "26",
         "Female",
         "30",
         [
          -109.42442064499971,
          47.06652897200047
         ]
        ],
        [
         "2018",
         "2019",
         "NV",
         "Nevada",
         "Nutrition, Physical Activity, and Weight Status",
         "Children and adolescents aged 6-13 years meeting aerobic physical activity guideline",
         "17.2",
         "Male",
         "32",
         [
          -117.07184056399967,
          39.493240390000494
         ]
        ],
        [
         "2018",
         "2019",
         "ND",
         "North Dakota",
         "Sleep",
         "Short sleep duration among children aged 4 months to 14 years",
         "25.5",
         "Female",
         "38",
         [
          -100.11842104899966,
          47.47531977900047
         ]
        ],
        [
         "2018",
         "2019",
         "US",
         "United States",
         "Sleep",
         "Short sleep duration among children aged 4 months to 14 years",
         "34.4",
         "Overall",
         "59",
         null
        ],
        [
         "2018",
         "2019",
         "UT",
         "Utah",
         "Oral Health",
         "Receipt of evidence-based preventive dental services in the past 12 months among children and adolescents aged 1-17 years",
         "62.7",
         "Age 12-17",
         "49",
         [
          -111.58713063499971,
          39.360700171000474
         ]
        ],
        [
         "2018",
         "2019",
         "VI",
         "Virgin Islands",
         "Oral Health",
         "Receipt of evidence-based preventive dental services in the past 12 months among children and adolescents aged 1-17 years",
         null,
         "Male",
         "78",
         [
          -64.896335,
          18.335765
         ]
        ],
        [
         "2018",
         "2019",
         "WV",
         "West Virginia",
         "Sleep",
         "Short sleep duration among children aged 4 months to 14 years",
         "45.5",
         "Age 4 m - 5 y",
         "54",
         [
          -80.71264013499967,
          38.66551020200046
         ]
        ],
        [
         "2019",
         "2019",
         "AL",
         "Alabama",
         "Arthritis",
         "Arthritis among adults",
         "29.9",
         "Male",
         "01",
         [
          -86.63186076199969,
          32.84057112200048
         ]
        ],
        [
         "2019",
         "2019",
         "AL",
         "Alabama",
         "Asthma",
         "Current asthma among adults",
         "8.1",
         "Male",
         "01",
         [
          -86.63186076199969,
          32.84057112200048
         ]
        ],
        [
         "2019",
         "2019",
         "AL",
         "Alabama",
         "Cardiovascular Disease",
         "Taking medicine to control high blood pressure among adults with high blood pressure",
         "85.2",
         "Female",
         "01",
         [
          -86.63186076199969,
          32.84057112200048
         ]
        ],
        [
         "2019",
         "2019",
         "AL",
         "Alabama",
         "Cardiovascular Disease",
         "Coronary heart disease mortality among all people, underlying cause",
         "2003",
         "Female",
         "01",
         [
          -86.63186076199969,
          32.84057112200048
         ]
        ],
        [
         "2019",
         "2019",
         "AL",
         "Alabama",
         "Disability",
         "Adults with any disability",
         "35.1",
         "White, non-Hispanic",
         "01",
         [
          -86.63186076199969,
          32.84057112200048
         ]
        ],
        [
         "2019",
         "2019",
         "AL",
         "Alabama",
         "Mental Health",
         "Frequent mental distress among adults",
         "21",
         "Age 18-44",
         "01",
         [
          -86.63186076199969,
          32.84057112200048
         ]
        ],
        [
         "2019",
         "2019",
         "AL",
         "Alabama",
         "Sleep",
         "Short sleep duration among high school students",
         "80",
         "Grade 12",
         "01",
         [
          -86.63186076199969,
          32.84057112200048
         ]
        ],
        [
         "2019",
         "2019",
         "AL",
         "Alabama",
         "Tobacco",
         "Quit attempts in the past year among adult current smokers",
         null,
         "Hawaiian or Pacific Islander, non-Hispanic",
         "01",
         [
          -86.63186076199969,
          32.84057112200048
         ]
        ],
        [
         "2019",
         "2019",
         "AK",
         "Alaska",
         "Alcohol",
         "Binge drinking prevalence among adults",
         "11.1",
         "Female",
         "02",
         [
          -147.72205903599973,
          64.84507995700051
         ]
        ],
        [
         "2019",
         "2019",
         "AK",
         "Alaska",
         "Asthma",
         "Current asthma among adults",
         "13.3",
         "Female",
         "02",
         [
          -147.72205903599973,
          64.84507995700051
         ]
        ],
        [
         "2019",
         "2019",
         "AK",
         "Alaska",
         "Chronic Obstructive Pulmonary Disease",
         "Chronic obstructive pulmonary disease mortality among adults aged 45 years and older, underlying cause",
         "70",
         "Overall",
         "02",
         [
          -147.72205903599973,
          64.84507995700051
         ]
        ],
        [
         "2019",
         "2019",
         "AK",
         "Alaska",
         "Disability",
         "Adults with any disability",
         "25.5",
         "Female",
         "02",
         [
          -147.72205903599973,
          64.84507995700051
         ]
        ],
        [
         "2019",
         "2019",
         "AK",
         "Alaska",
         "Health Status",
         "Frequent physical distress among adults",
         "13.4",
         "Age 45-64",
         "02",
         [
          -147.72205903599973,
          64.84507995700051
         ]
        ],
        [
         "2019",
         "2019",
         "AK",
         "Alaska",
         "Nutrition, Physical Activity, and Weight Status",
         "Obesity among adults",
         "26.9",
         "Age 18-44",
         "02",
         [
          -147.72205903599973,
          64.84507995700051
         ]
        ],
        [
         "2019",
         "2019",
         "AZ",
         "Arizona",
         "Alcohol",
         "Binge drinking prevalence among adults",
         "20.9",
         "Age 18-44",
         "04",
         [
          -111.76381127699972,
          34.865970280000454
         ]
        ],
        [
         "2019",
         "2019",
         "AZ",
         "Arizona",
         "Arthritis",
         "Arthritis among adults",
         "28.4",
         "Black, non-Hispanic",
         "04",
         [
          -111.76381127699972,
          34.865970280000454
         ]
        ],
        [
         "2019",
         "2019",
         "AZ",
         "Arizona",
         "Arthritis",
         "Received health care provider counseling for physical activity among adults with arthritis",
         "61.9",
         "Age 18-44",
         "04",
         [
          -111.76381127699972,
          34.865970280000454
         ]
        ],
        [
         "2019",
         "2019",
         "AZ",
         "Arizona",
         "Asthma",
         "Asthma mortality among all people, underlying cause",
         "37",
         "Age >=65",
         "04",
         [
          -111.76381127699972,
          34.865970280000454
         ]
        ],
        [
         "2019",
         "2019",
         "AZ",
         "Arizona",
         "Chronic Obstructive Pulmonary Disease",
         "Current smoking among adults with chronic obstructive pulmonary disease",
         null,
         "Asian, non-Hispanic",
         "04",
         [
          -111.76381127699972,
          34.865970280000454
         ]
        ],
        [
         "2020",
         "2020",
         "WV",
         "West Virginia",
         "Alcohol",
         "Binge drinking frequency among adults who binge drink",
         null,
         "Hispanic",
         "54",
         [
          -80.71264013499967,
          38.66551020200046
         ]
        ],
        [
         "2019",
         "2019",
         "AZ",
         "Arizona",
         "Sleep",
         "Short sleep duration among high school students",
         "78.4",
         "Male",
         "04",
         [
          -111.76381127699972,
          34.865970280000454
         ]
        ],
        [
         "2019",
         "2019",
         "AR",
         "Arkansas",
         "Arthritis",
         "Arthritis among adults",
         "33.8",
         "Female",
         "05",
         [
          -92.27449074299966,
          34.74865012400045
         ]
        ],
        [
         "2019",
         "2019",
         "AR",
         "Arkansas",
         "Mental Health",
         "Depression among adults",
         "27.8",
         "Age 18-44",
         "05",
         [
          -92.27449074299966,
          34.74865012400045
         ]
        ],
        [
         "2019",
         "2019",
         "CT",
         "Connecticut",
         "Alcohol",
         "Binge drinking prevalence among adults",
         "20.8",
         "Male",
         "09",
         [
          -72.64984095199964,
          41.56266102000046
         ]
        ],
        [
         "2019",
         "2019",
         "CT",
         "Connecticut",
         "Arthritis",
         "Physical inactivity among adults with arthritis",
         "26.9",
         "Overall",
         "09",
         [
          -72.64984095199964,
          41.56266102000046
         ]
        ],
        [
         "2019",
         "2019",
         "CT",
         "Connecticut",
         "Arthritis",
         "Received health care provider counseling for physical activity among adults with arthritis",
         "59.9",
         "Male",
         "09",
         [
          -72.64984095199964,
          41.56266102000046
         ]
        ],
        [
         "2019",
         "2019",
         "CT",
         "Connecticut",
         "Cardiovascular Disease",
         "High cholesterol among adults who have been screened",
         "30",
         "Hispanic",
         "09",
         [
          -72.64984095199964,
          41.56266102000046
         ]
        ],
        [
         "2019",
         "2019",
         "CT",
         "Connecticut",
         "Cardiovascular Disease",
         "Taking medicine for high cholesterol among adults",
         "35.1",
         "Male",
         "09",
         [
          -72.64984095199964,
          41.56266102000046
         ]
        ],
        [
         "2019",
         "2019",
         "CT",
         "Connecticut",
         "Cardiovascular Disease",
         "Cerebrovascular disease (stroke) mortality among all people, underlying cause",
         "1252",
         "Age >=65",
         "09",
         [
          -72.64984095199964,
          41.56266102000046
         ]
        ],
        [
         "2019",
         "2019",
         "CT",
         "Connecticut",
         "Immunization",
         "Influenza vaccination among adults 18â€“64 who are at increased risk",
         "45.5",
         "Black, non-Hispanic",
         "09",
         [
          -72.64984095199964,
          41.56266102000046
         ]
        ],
        [
         "2019",
         "2019",
         "CT",
         "Connecticut",
         "Immunization",
         "Influenza vaccination among adults 18â€“64 who are at increased risk",
         "47.6",
         "Male",
         "09",
         [
          -72.64984095199964,
          41.56266102000046
         ]
        ],
        [
         "2019",
         "2019",
         "CT",
         "Connecticut",
         "Immunization",
         "Pneumococcal vaccination among adults aged 65 years and older",
         "74.2",
         "Overall",
         "09",
         [
          -72.64984095199964,
          41.56266102000046
         ]
        ],
        [
         "2019",
         "2019",
         "CT",
         "Connecticut",
         "Social Determinants of Health",
         "Lack of health insurance among adults aged 18-64 years",
         "9.2",
         "Female",
         "09",
         [
          -72.64984095199964,
          41.56266102000046
         ]
        ],
        [
         "2019",
         "2019",
         "DE",
         "Delaware",
         "Arthritis",
         "Physical inactivity among adults with arthritis",
         null,
         "Hispanic",
         "10",
         [
          -75.57774116799965,
          39.008830667000495
         ]
        ],
        [
         "2019",
         "2019",
         "DE",
         "Delaware",
         "Asthma",
         "Asthma mortality among all people, underlying cause",
         null,
         "Hispanic",
         "10",
         [
          -75.57774116799965,
          39.008830667000495
         ]
        ],
        [
         "2019",
         "2019",
         "DE",
         "Delaware",
         "Cardiovascular Disease",
         "High blood pressure among adults",
         "38.8",
         "White, non-Hispanic",
         "10",
         [
          -75.57774116799965,
          39.008830667000495
         ]
        ],
        [
         "2019",
         "2019",
         "DE",
         "Delaware",
         "Cardiovascular Disease",
         "Diseases of the heart mortality among all people, underlying cause",
         "2053",
         "Overall",
         "10",
         [
          -75.57774116799965,
          39.008830667000495
         ]
        ],
        [
         "2019",
         "2019",
         "DE",
         "Delaware",
         "Diabetes",
         "Diabetes among adults",
         "15.5",
         "Age 45-64",
         "10",
         [
          -75.57774116799965,
          39.008830667000495
         ]
        ],
        [
         "2019",
         "2019",
         "DE",
         "Delaware",
         "Diabetes",
         "Gestational diabetes among women with a recent live birth",
         "12.5",
         "White, non-Hispanic",
         "10",
         [
          -75.57774116799965,
          39.008830667000495
         ]
        ],
        [
         "2019",
         "2019",
         "DE",
         "Delaware",
         "Diabetes",
         "Diabetes mortality among all people, underlying or contributing cause",
         "275",
         "Female",
         "10",
         [
          -75.57774116799965,
          39.008830667000495
         ]
        ],
        [
         "2019",
         "2021",
         "DE",
         "Delaware",
         "Social Determinants of Health",
         "Food insecure in the past 12 months among households",
         "11.2",
         "Overall",
         "10",
         [
          -75.57774116799965,
          39.008830667000495
         ]
        ],
        [
         "2019",
         "2019",
         "DC",
         "District of Columbia",
         "Alcohol",
         "Binge drinking prevalence among adults",
         "22.3",
         "Female",
         "11",
         [
          -77.036871,
          38.907192
         ]
        ],
        [
         "2019",
         "2019",
         "DC",
         "District of Columbia",
         "Chronic Obstructive Pulmonary Disease",
         "Current smoking among adults with chronic obstructive pulmonary disease",
         "25",
         "Female",
         "11",
         [
          -77.036871,
          38.907192
         ]
        ],
        [
         "2019",
         "2019",
         "DC",
         "District of Columbia",
         "Cardiovascular Disease",
         "High blood pressure among adults",
         "51.6",
         "Male",
         "11",
         [
          -77.036871,
          38.907192
         ]
        ],
        [
         "2019",
         "2019",
         "DC",
         "District of Columbia",
         "Cardiovascular Disease",
         "Taking medicine for high cholesterol among adults",
         "29.7",
         "Male",
         "11",
         [
          -77.036871,
          38.907192
         ]
        ],
        [
         "2019",
         "2019",
         "DC",
         "District of Columbia",
         "Health Status",
         "Frequent physical distress among adults",
         "16.2",
         "Age >=65",
         "11",
         [
          -77.036871,
          38.907192
         ]
        ],
        [
         "2019",
         "2019",
         "DC",
         "District of Columbia",
         "Tobacco",
         "Current cigarette smoking among adults",
         "16.1",
         "Male",
         "11",
         [
          -77.036871,
          38.907192
         ]
        ],
        [
         "2019",
         "2019",
         "FL",
         "Florida",
         "Asthma",
         "Current asthma among adults",
         "5",
         "Male",
         "12",
         [
          -81.92896053899966,
          28.932040377000476
         ]
        ],
        [
         "2019",
         "2019",
         "FL",
         "Florida",
         "Cardiovascular Disease",
         "Taking medicine for high cholesterol among adults",
         "28.9",
         "Male",
         "12",
         [
          -81.92896053899966,
          28.932040377000476
         ]
        ],
        [
         "2019",
         "2019",
         "FL",
         "Florida",
         "Health Status",
         "Recent activity limitation among adults",
         "3.1",
         "Female",
         "12",
         [
          -81.92896053899966,
          28.932040377000476
         ]
        ],
        [
         "2019",
         "2019",
         "FL",
         "Florida",
         "Health Status",
         "Life expectancy at birth",
         "81.8",
         "Female",
         "12",
         [
          -81.92896053899966,
          28.932040377000476
         ]
        ],
        [
         "2019",
         "2019",
         "GA",
         "Georgia",
         "Cardiovascular Disease",
         "Taking medicine for high cholesterol among adults",
         "40.8",
         "Age 45-64",
         "13",
         [
          -83.62758034599966,
          32.83968109300048
         ]
        ],
        [
         "2019",
         "2019",
         "GA",
         "Georgia",
         "Disability",
         "Adults with any disability",
         "28.5",
         "Overall",
         "13",
         [
          -83.62758034599966,
          32.83968109300048
         ]
        ],
        [
         "2019",
         "2019",
         "GA",
         "Georgia",
         "Health Status",
         "Fair or poor self-rated health status among adults",
         "24.7",
         "Age 45-64",
         "13",
         [
          -83.62758034599966,
          32.83968109300048
         ]
        ],
        [
         "2019",
         "2019",
         "GU",
         "Guam",
         "Alcohol",
         "Alcohol use among high school students",
         "28.4",
         "Male",
         "66",
         [
          144.793731,
          13.444304
         ]
        ],
        [
         "2019",
         "2019",
         "GU",
         "Guam",
         "Chronic Obstructive Pulmonary Disease",
         "Chronic obstructive pulmonary disease among adults",
         "2.9",
         "Female",
         "66",
         [
          144.793731,
          13.444304
         ]
        ],
        [
         "2019",
         "2019",
         "GU",
         "Guam",
         "Cardiovascular Disease",
         "High blood pressure among adults",
         "27",
         "Asian, non-Hispanic",
         "66",
         [
          144.793731,
          13.444304
         ]
        ],
        [
         "2019",
         "2019",
         "GU",
         "Guam",
         "Diabetes",
         "Diabetes among adults",
         "10.1",
         "Female",
         "66",
         [
          144.793731,
          13.444304
         ]
        ],
        [
         "2019",
         "2019",
         "GU",
         "Guam",
         "Health Status",
         "Frequent physical distress among adults",
         "11",
         "Overall",
         "66",
         [
          144.793731,
          13.444304
         ]
        ],
        [
         "2019",
         "2019",
         "GU",
         "Guam",
         "Mental Health",
         "Depression among adults",
         "13",
         "Multiracial, non-Hispanic",
         "66",
         [
          144.793731,
          13.444304
         ]
        ],
        [
         "2019",
         "2019",
         "GU",
         "Guam",
         "Nutrition, Physical Activity, and Weight Status",
         "No leisure-time physical activity among adults",
         "33.4",
         "Female",
         "66",
         [
          144.793731,
          13.444304
         ]
        ],
        [
         "2019",
         "2019",
         "HI",
         "Hawaii",
         "Arthritis",
         "Arthritis among adults",
         "18.6",
         "Female",
         "15",
         [
          -157.85774940299973,
          21.304850435000446
         ]
        ],
        [
         "2019",
         "2020",
         "HI",
         "Hawaii",
         "Cognitive Health and Caregiving",
         "Provided care for someone with dementia or other cognitive impairment in the past month among adults",
         "20",
         "Age 18-44",
         "15",
         [
          -157.85774940299973,
          21.304850435000446
         ]
        ],
        [
         "2019",
         "2019",
         "HI",
         "Hawaii",
         "Cardiovascular Disease",
         "High blood pressure among adults",
         "37.3",
         "Age 45-64",
         "15",
         [
          -157.85774940299973,
          21.304850435000446
         ]
        ],
        [
         "2019",
         "2019",
         "HI",
         "Hawaii",
         "Diabetes",
         "Diabetes mortality among all people, underlying or contributing cause",
         "78",
         "Hispanic",
         "15",
         [
          -157.85774940299973,
          21.304850435000446
         ]
        ],
        [
         "2019",
         "2019",
         "HI",
         "Hawaii",
         "Tobacco",
         "Current cigarette smoking among adults",
         "15.2",
         "Male",
         "15",
         [
          -157.85774940299973,
          21.304850435000446
         ]
        ],
        [
         "2019",
         "2019",
         "ID",
         "Idaho",
         "Cardiovascular Disease",
         "High blood pressure among adults",
         "33",
         "Male",
         "16",
         [
          -114.3637300419997,
          43.682630005000476
         ]
        ],
        [
         "2019",
         "2019",
         "ID",
         "Idaho",
         "Health Status",
         "Fair or poor self-rated health status among adults",
         "14.7",
         "Male",
         "16",
         [
          -114.3637300419997,
          43.682630005000476
         ]
        ],
        [
         "2019",
         "2019",
         "ID",
         "Idaho",
         "Mental Health",
         "Depression among adults",
         "22.3",
         "Age 45-64",
         "16",
         [
          -114.3637300419997,
          43.682630005000476
         ]
        ],
        [
         "2019",
         "2019",
         "ID",
         "Idaho",
         "Mental Health",
         "Frequent mental distress among adults",
         "11.5",
         "Male",
         "16",
         [
          -114.3637300419997,
          43.682630005000476
         ]
        ],
        [
         "2019",
         "2019",
         "IL",
         "Illinois",
         "Alcohol",
         "Binge drinking intensity among adults who binge drink",
         "4.6",
         "Age >=65",
         "17",
         [
          -88.99771017799969,
          40.48501028300046
         ]
        ],
        [
         "2019",
         "2019",
         "IL",
         "Illinois",
         "Cardiovascular Disease",
         "Taking medicine for high cholesterol among adults",
         "25.6",
         "Female",
         "17",
         [
          -88.99771017799969,
          40.48501028300046
         ]
        ],
        [
         "2019",
         "2019",
         "IL",
         "Illinois",
         "Diabetes",
         "Diabetes mortality among all people, underlying or contributing cause",
         "4724",
         "Male",
         "17",
         [
          -88.99771017799969,
          40.48501028300046
         ]
        ],
        [
         "2019",
         "2019",
         "IL",
         "Illinois",
         "Mental Health",
         "Depression among adults",
         "13.7",
         "Age >=65",
         "17",
         [
          -88.99771017799969,
          40.48501028300046
         ]
        ],
        [
         "2019",
         "2019",
         "IN",
         "Indiana",
         "Alcohol",
         "Alcohol use among high school students",
         null,
         "Male",
         "18",
         [
          -86.14996019399968,
          39.766910452000445
         ]
        ],
        [
         "2019",
         "2019",
         "IN",
         "Indiana",
         "Asthma",
         "Asthma mortality among all people, underlying cause",
         "1.2",
         "Overall",
         "18",
         [
          -86.14996019399968,
          39.766910452000445
         ]
        ],
        [
         "2019",
         "2019",
         "IN",
         "Indiana",
         "Asthma",
         "Current asthma among adults",
         "10.7",
         "Overall",
         "18",
         [
          -86.14996019399968,
          39.766910452000445
         ]
        ],
        [
         "2019",
         "2019",
         "IN",
         "Indiana",
         "Chronic Obstructive Pulmonary Disease",
         "Chronic obstructive pulmonary disease mortality among adults aged 45 years and older, underlying cause",
         "235",
         "Black, non-Hispanic",
         "18",
         [
          -86.14996019399968,
          39.766910452000445
         ]
        ],
        [
         "2019",
         "2019",
         "IN",
         "Indiana",
         "Cardiovascular Disease",
         "Taking medicine to control high blood pressure among adults with high blood pressure",
         "67.8",
         "Female",
         "18",
         [
          -86.14996019399968,
          39.766910452000445
         ]
        ],
        [
         "2019",
         "2019",
         "IN",
         "Indiana",
         "Immunization",
         "Pneumococcal vaccination among adults aged 65 years and older",
         "71.9",
         "Overall",
         "18",
         [
          -86.14996019399968,
          39.766910452000445
         ]
        ],
        [
         "2019",
         "2019",
         "IN",
         "Indiana",
         "Mental Health",
         "Depression among adults",
         "26.7",
         "Female",
         "18",
         [
          -86.14996019399968,
          39.766910452000445
         ]
        ],
        [
         "2019",
         "2019",
         "IN",
         "Indiana",
         "Social Determinants of Health",
         "Routine checkup within the past year among adults",
         "91.7",
         "Age >=65",
         "18",
         [
          -86.14996019399968,
          39.766910452000445
         ]
        ],
        [
         "2019",
         "2019",
         "IA",
         "Iowa",
         "Arthritis",
         "Arthritis among adults",
         null,
         "Hawaiian or Pacific Islander, non-Hispanic",
         "19",
         [
          -93.81649055599968,
          42.46940091300047
         ]
        ],
        [
         "2019",
         "2019",
         "IA",
         "Iowa",
         "Asthma",
         "Asthma mortality among all people, underlying cause",
         "54",
         "Overall",
         "19",
         [
          -93.81649055599968,
          42.46940091300047
         ]
        ],
        [
         "2019",
         "2019",
         "IA",
         "Iowa",
         "Cardiovascular Disease",
         "High blood pressure among adults",
         "34",
         "Male",
         "19",
         [
          -93.81649055599968,
          42.46940091300047
         ]
        ],
        [
         "2019",
         "2019",
         "IA",
         "Iowa",
         "Diabetes",
         "Gestational diabetes among women with a recent live birth",
         "11.6",
         "Black, non-Hispanic",
         "19",
         [
          -93.81649055599968,
          42.46940091300047
         ]
        ],
        [
         "2019",
         "2019",
         "IA",
         "Iowa",
         "Diabetes",
         "Diabetes mortality among all people, underlying or contributing cause",
         "1580",
         "Female",
         "19",
         [
          -93.81649055599968,
          42.46940091300047
         ]
        ],
        [
         "2019",
         "2019",
         "IA",
         "Iowa",
         "Disability",
         "Adults with any disability",
         "17",
         "Age 18-44",
         "19",
         [
          -93.81649055599968,
          42.46940091300047
         ]
        ],
        [
         "2019",
         "2019",
         "IA",
         "Iowa",
         "Disability",
         "Adults with any disability",
         "24.3",
         "Female",
         "19",
         [
          -93.81649055599968,
          42.46940091300047
         ]
        ],
        [
         "2019",
         "2019",
         "IA",
         "Iowa",
         "Mental Health",
         "Depression among adults",
         "11.4",
         "Male",
         "19",
         [
          -93.81649055599968,
          42.46940091300047
         ]
        ],
        [
         "2019",
         "2019",
         "KS",
         "Kansas",
         "Alcohol",
         "Binge drinking prevalence among high school students",
         "18.6",
         "Female",
         "20",
         [
          -98.20078122699965,
          38.34774030000045
         ]
        ],
        [
         "2019",
         "2019",
         "KS",
         "Kansas",
         "Arthritis",
         "Arthritis among adults",
         "21.5",
         "Male",
         "20",
         [
          -98.20078122699965,
          38.34774030000045
         ]
        ],
        [
         "2019",
         "2019",
         "KS",
         "Kansas",
         "Diabetes",
         "Diabetes mortality among all people, underlying or contributing cause",
         "1092",
         "Female",
         "20",
         [
          -98.20078122699965,
          38.34774030000045
         ]
        ],
        [
         "2019",
         "2019",
         "KS",
         "Kansas",
         "Health Status",
         "Recent activity limitation among adults",
         "2.5",
         "White, non-Hispanic",
         "20",
         [
          -98.20078122699965,
          38.34774030000045
         ]
        ],
        [
         "2019",
         "2019",
         "KS",
         "Kansas",
         "Immunization",
         "Influenza vaccination among adults",
         "65.5",
         "Age >=65",
         "20",
         [
          -98.20078122699965,
          38.34774030000045
         ]
        ],
        [
         "2019",
         "2019",
         "KS",
         "Kansas",
         "Nutrition, Physical Activity, and Weight Status",
         "Consumed vegetables less than one time daily among adults",
         "23",
         "Male",
         "20",
         [
          -98.20078122699965,
          38.34774030000045
         ]
        ],
        [
         "2019",
         "2019",
         "KY",
         "Kentucky",
         "Disability",
         "Adults with any disability",
         "34.8",
         "White, non-Hispanic",
         "21",
         [
          -84.77497104799966,
          37.645970271000465
         ]
        ],
        [
         "2019",
         "2019",
         "KY",
         "Kentucky",
         "Nutrition, Physical Activity, and Weight Status",
         "Met aerobic physical activity guideline among high school students",
         "19",
         "Overall",
         "21",
         [
          -84.77497104799966,
          37.645970271000465
         ]
        ],
        [
         "2019",
         "2019",
         "KY",
         "Kentucky",
         "Social Determinants of Health",
         "Lack of health insurance among adults aged 18-64 years",
         "9.5",
         "White, non-Hispanic",
         "21",
         [
          -84.77497104799966,
          37.645970271000465
         ]
        ],
        [
         "2019",
         "2019",
         "LA",
         "Louisiana",
         "Alcohol",
         "Alcohol use among high school students",
         "16.5",
         "Hispanic",
         "22",
         [
          -92.44568007099969,
          31.31266064400046
         ]
        ],
        [
         "2019",
         "2019",
         "LA",
         "Louisiana",
         "Arthritis",
         "Physical inactivity among adults with arthritis",
         "38.7",
         "Overall",
         "22",
         [
          -92.44568007099969,
          31.31266064400046
         ]
        ],
        [
         "2019",
         "2019",
         "ME",
         "Maine",
         "Alcohol",
         "Chronic liver disease mortality among all people, underlying cause",
         "84",
         "Female",
         "23",
         [
          -68.98503133599962,
          45.254228894000505
         ]
        ],
        [
         "2019",
         "2019",
         "ME",
         "Maine",
         "Arthritis",
         "Arthritis among adults",
         "28",
         "Male",
         "23",
         [
          -68.98503133599962,
          45.254228894000505
         ]
        ],
        [
         "2019",
         "2019",
         "ME",
         "Maine",
         "Diabetes",
         "Diabetes mortality among all people, underlying or contributing cause",
         "82.2",
         "Male",
         "23",
         [
          -68.98503133599962,
          45.254228894000505
         ]
        ],
        [
         "2019",
         "2019",
         "ME",
         "Maine",
         "Disability",
         "Adults with any disability",
         "32.5",
         "Female",
         "23",
         [
          -68.98503133599962,
          45.254228894000505
         ]
        ],
        [
         "2019",
         "2019",
         "ME",
         "Maine",
         "Immunization",
         "Influenza vaccination among adults",
         "45.7",
         "Age 45-64",
         "23",
         [
          -68.98503133599962,
          45.254228894000505
         ]
        ],
        [
         "2019",
         "2019",
         "ME",
         "Maine",
         "Social Determinants of Health",
         "Routine checkup within the past year among adults",
         "64.9",
         "Age 18-44",
         "23",
         [
          -68.98503133599962,
          45.254228894000505
         ]
        ],
        [
         "2019",
         "2019",
         "MD",
         "Maryland",
         "Alcohol",
         "Binge drinking frequency among adults who binge drink",
         "3.3",
         "Age >=65",
         "24",
         [
          -76.60926011099963,
          39.29058096400047
         ]
        ],
        [
         "2019",
         "2019",
         "MD",
         "Maryland",
         "Alcohol",
         "Binge drinking intensity among adults who binge drink",
         "5.5",
         "Age 18-44",
         "24",
         [
          -76.60926011099963,
          39.29058096400047
         ]
        ],
        [
         "2019",
         "2019",
         "MD",
         "Maryland",
         "Chronic Kidney Disease",
         "Incidence of treated end-stage kidney disease",
         "2604",
         "Overall",
         "24",
         [
          -76.60926011099963,
          39.29058096400047
         ]
        ],
        [
         "2019",
         "2019",
         "MD",
         "Maryland",
         "Diabetes",
         "Diabetes mortality among all people, underlying or contributing cause",
         "140",
         "Hispanic",
         "24",
         [
          -76.60926011099963,
          39.29058096400047
         ]
        ],
        [
         "2019",
         "2019",
         "MD",
         "Maryland",
         "Mental Health",
         "Average mentally unhealthy days among adults",
         "4.7",
         "Age 18-44",
         "24",
         [
          -76.60926011099963,
          39.29058096400047
         ]
        ],
        [
         "2019",
         "2019",
         "MA",
         "Massachusetts",
         "Cardiovascular Disease",
         "High blood pressure among adults",
         "42.8",
         "Overall",
         "25",
         [
          -72.08269067499964,
          42.27687047000046
         ]
        ],
        [
         "2019",
         "2019",
         "MA",
         "Massachusetts",
         "Health Status",
         "Frequent physical distress among adults",
         "14.7",
         "Age >=65",
         "25",
         [
          -72.08269067499964,
          42.27687047000046
         ]
        ],
        [
         "2019",
         "2019",
         "MA",
         "Massachusetts",
         "Nutrition, Physical Activity, and Weight Status",
         "Consumed fruit less than one time daily among adults",
         "40",
         "Male",
         "25",
         [
          -72.08269067499964,
          42.27687047000046
         ]
        ],
        [
         "2019",
         "2019",
         "MI",
         "Michigan",
         "Cardiovascular Disease",
         "Cerebrovascular disease (stroke) mortality among all people, underlying cause",
         "42.7",
         "Male",
         "26",
         [
          -84.71439026999968,
          44.6613195430005
         ]
        ],
        [
         "2019",
         "2019",
         "MI",
         "Michigan",
         "Mental Health",
         "Depression among adults",
         "23.4",
         "Age 18-44",
         "26",
         [
          -84.71439026999968,
          44.6613195430005
         ]
        ],
        [
         "2019",
         "2019",
         "MI",
         "Michigan",
         "Mental Health",
         "Average mentally unhealthy days among adults",
         "3.2",
         "Overall",
         "26",
         [
          -84.71439026999968,
          44.6613195430005
         ]
        ],
        [
         "2019",
         "2019",
         "MI",
         "Michigan",
         "Mental Health",
         "Frequent mental distress among adults",
         "19.7",
         "Female",
         "26",
         [
          -84.71439026999968,
          44.6613195430005
         ]
        ],
        [
         "2019",
         "2019",
         "MI",
         "Michigan",
         "Social Determinants of Health",
         "High school completion among adults aged 18-24",
         "85.9",
         "Male",
         "26",
         [
          -84.71439026999968,
          44.6613195430005
         ]
        ],
        [
         "2019",
         "2019",
         "MI",
         "Michigan",
         "Social Determinants of Health",
         "Routine checkup within the past year among adults",
         "80.2",
         "Overall",
         "26",
         [
          -84.71439026999968,
          44.6613195430005
         ]
        ],
        [
         "2019",
         "2019",
         "MI",
         "Michigan",
         "Sleep",
         "Short sleep duration among high school students",
         "87.6",
         "Grade 12",
         "26",
         [
          -84.71439026999968,
          44.6613195430005
         ]
        ],
        [
         "2019",
         "2019",
         "MS",
         "Mississippi",
         "Chronic Obstructive Pulmonary Disease",
         "Chronic obstructive pulmonary disease among adults",
         "10.3",
         "Female",
         "28",
         [
          -89.53803082499968,
          32.745510099000455
         ]
        ],
        [
         "2019",
         "2019",
         "MS",
         "Mississippi",
         "Health Status",
         "Average recent physically unhealthy days among adults",
         "2.4",
         "Age 18-44",
         "28",
         [
          -89.53803082499968,
          32.745510099000455
         ]
        ],
        [
         "2019",
         "2019",
         "MS",
         "Mississippi",
         "Immunization",
         "Influenza vaccination among adults",
         "35.1",
         "Male",
         "28",
         [
          -89.53803082499968,
          32.745510099000455
         ]
        ],
        [
         "2019",
         "2019",
         "MS",
         "Mississippi",
         "Mental Health",
         "Depression among adults",
         "20.6",
         "Overall",
         "28",
         [
          -89.53803082499968,
          32.745510099000455
         ]
        ],
        [
         "2019",
         "2019",
         "MS",
         "Mississippi",
         "Mental Health",
         "Average mentally unhealthy days among adults",
         "2.3",
         "Female",
         "28",
         [
          -89.53803082499968,
          32.745510099000455
         ]
        ],
        [
         "2019",
         "2019",
         "MO",
         "Missouri",
         "Alcohol",
         "Alcohol use among high school students",
         "24.6",
         "Grade 10",
         "29",
         [
          -92.56630005299968,
          38.635790776000476
         ]
        ],
        [
         "2019",
         "2019",
         "MO",
         "Missouri",
         "Diabetes",
         "Diabetes mortality among all people, underlying or contributing cause",
         "2029",
         "Female",
         "29",
         [
          -92.56630005299968,
          38.635790776000476
         ]
        ],
        [
         "2019",
         "2019",
         "MO",
         "Missouri",
         "Health Status",
         "Recent activity limitation among adults",
         "3.2",
         "Age >=65",
         "29",
         [
          -92.56630005299968,
          38.635790776000476
         ]
        ],
        [
         "2019",
         "2019",
         "MO",
         "Missouri",
         "Immunization",
         "Influenza vaccination among adults",
         "67.8",
         "Age >=65",
         "29",
         [
          -92.56630005299968,
          38.635790776000476
         ]
        ],
        [
         "2019",
         "2019",
         "MO",
         "Missouri",
         "Mental Health",
         "Depression among adults",
         "16.3",
         "Male",
         "29",
         [
          -92.56630005299968,
          38.635790776000476
         ]
        ],
        [
         "2019",
         "2019",
         "MO",
         "Missouri",
         "Mental Health",
         "Frequent mental distress among adults",
         "18.6",
         "Hispanic",
         "29",
         [
          -92.56630005299968,
          38.635790776000476
         ]
        ],
        [
         "2019",
         "2019",
         "MO",
         "Missouri",
         "Tobacco",
         "Quit attempts in the past year among adult current smokers",
         "55.3",
         "Male",
         "29",
         [
          -92.56630005299968,
          38.635790776000476
         ]
        ],
        [
         "2019",
         "2019",
         "MT",
         "Montana",
         "Arthritis",
         "Arthritis among adults",
         "36.2",
         "Multiracial, non-Hispanic",
         "30",
         [
          -109.42442064499971,
          47.06652897200047
         ]
        ],
        [
         "2019",
         "2019",
         "MT",
         "Montana",
         "Arthritis",
         "Severe joint pain among adults with arthritis",
         "21.7",
         "Male",
         "30",
         [
          -109.42442064499971,
          47.06652897200047
         ]
        ],
        [
         "2019",
         "2019",
         "MT",
         "Montana",
         "Asthma",
         "Current asthma among adults",
         "10.7",
         "Overall",
         "30",
         [
          -109.42442064499971,
          47.06652897200047
         ]
        ],
        [
         "2019",
         "2019",
         "MT",
         "Montana",
         "Asthma",
         "Current asthma among adults",
         "12.8",
         "Female",
         "30",
         [
          -109.42442064499971,
          47.06652897200047
         ]
        ],
        [
         "2019",
         "2019",
         "MT",
         "Montana",
         "Cardiovascular Disease",
         "High blood pressure among adults",
         "25.5",
         "Hispanic",
         "30",
         [
          -109.42442064499971,
          47.06652897200047
         ]
        ],
        [
         "2019",
         "2019",
         "MT",
         "Montana",
         "Cardiovascular Disease",
         "Taking medicine for high cholesterol among adults",
         "46.6",
         "Age >=65",
         "30",
         [
          -109.42442064499971,
          47.06652897200047
         ]
        ],
        [
         "2019",
         "2019",
         "MT",
         "Montana",
         "Cardiovascular Disease",
         "Cerebrovascular disease (stroke) mortality among all people, underlying cause",
         null,
         "Age 0-44",
         "30",
         [
          -109.42442064499971,
          47.06652897200047
         ]
        ],
        [
         "2019",
         "2019",
         "MT",
         "Montana",
         "Cardiovascular Disease",
         "Coronary heart disease mortality among all people, underlying cause",
         "251",
         "Age 45-64",
         "30",
         [
          -109.42442064499971,
          47.06652897200047
         ]
        ],
        [
         "2019",
         "2019",
         "MT",
         "Montana",
         "Diabetes",
         "Diabetes mortality among all people, underlying or contributing cause",
         "557",
         "Male",
         "30",
         [
          -109.42442064499971,
          47.06652897200047
         ]
        ],
        [
         "2019",
         "2019",
         "MT",
         "Montana",
         "Disability",
         "Adults with any disability",
         "44.2",
         "American Indian or Alaska Native, non-Hispanic",
         "30",
         [
          -109.42442064499971,
          47.06652897200047
         ]
        ],
        [
         "2019",
         "2019",
         "MT",
         "Montana",
         "Health Status",
         "Life expectancy at birth",
         "78.4",
         "Overall",
         "30",
         [
          -109.42442064499971,
          47.06652897200047
         ]
        ],
        [
         "2019",
         "2019",
         "NE",
         "Nebraska",
         "Arthritis",
         "Physical inactivity among adults with arthritis",
         "41.7",
         "Hispanic",
         "31",
         [
          -99.36572062299967,
          41.6410409880005
         ]
        ],
        [
         "2019",
         "2019",
         "NE",
         "Nebraska",
         "Chronic Obstructive Pulmonary Disease",
         "Chronic obstructive pulmonary disease mortality among adults aged 45 years and older, underlying cause",
         "537",
         "Male",
         "31",
         [
          -99.36572062299967,
          41.6410409880005
         ]
        ],
        [
         "2019",
         "2019",
         "NE",
         "Nebraska",
         "Cardiovascular Disease",
         "High blood pressure among adults",
         "32.8",
         "Male",
         "31",
         [
          -99.36572062299967,
          41.6410409880005
         ]
        ],
        [
         "2019",
         "2019",
         "NE",
         "Nebraska",
         "Cardiovascular Disease",
         "High cholesterol among adults who have been screened",
         "50.9",
         "Age >=65",
         "31",
         [
          -99.36572062299967,
          41.6410409880005
         ]
        ],
        [
         "2019",
         "2019",
         "NE",
         "Nebraska",
         "Disability",
         "Adults with any disability",
         "21.1",
         "Male",
         "31",
         [
          -99.36572062299967,
          41.6410409880005
         ]
        ],
        [
         "2019",
         "2019",
         "NE",
         "Nebraska",
         "Health Status",
         "Recent activity limitation among adults",
         "1.9",
         "Male",
         "31",
         [
          -99.36572062299967,
          41.6410409880005
         ]
        ],
        [
         "2019",
         "2019",
         "NE",
         "Nebraska",
         "Health Status",
         "Life expectancy at birth",
         "77.1",
         "Male",
         "31",
         [
          -99.36572062299967,
          41.6410409880005
         ]
        ],
        [
         "2019",
         "2019",
         "NE",
         "Nebraska",
         "Mental Health",
         "Frequent mental distress among adults",
         "8.6",
         "Male",
         "31",
         [
          -99.36572062299967,
          41.6410409880005
         ]
        ],
        [
         "2019",
         "2019",
         "NV",
         "Nevada",
         "Alcohol",
         "Binge drinking frequency among adults who binge drink",
         "1.4",
         "Age 18-44",
         "32",
         [
          -117.07184056399967,
          39.493240390000494
         ]
        ],
        [
         "2019",
         "2019",
         "NV",
         "Nevada",
         "Cardiovascular Disease",
         "Taking medicine for high cholesterol among adults",
         "23.2",
         "Black, non-Hispanic",
         "32",
         [
          -117.07184056399967,
          39.493240390000494
         ]
        ],
        [
         "2019",
         "2019",
         "NV",
         "Nevada",
         "Diabetes",
         "Diabetic ketoacidosis mortality among all people, underlying or contributing cause",
         "30",
         "Age >=65",
         "32",
         [
          -117.07184056399967,
          39.493240390000494
         ]
        ],
        [
         "2019",
         "2019",
         "NV",
         "Nevada",
         "Immunization",
         "Influenza vaccination among adults",
         "30.7",
         "Overall",
         "32",
         [
          -117.07184056399967,
          39.493240390000494
         ]
        ],
        [
         "2019",
         "2019",
         "NV",
         "Nevada",
         "Immunization",
         "Influenza vaccination among adults 18â€“64 who are at increased risk",
         "27.9",
         "Female",
         "32",
         [
          -117.07184056399967,
          39.493240390000494
         ]
        ],
        [
         "2019",
         "2019",
         "NH",
         "New Hampshire",
         "Alcohol",
         "Alcohol use among high school students",
         "39.3",
         "Grade 12",
         "33",
         [
          -71.50036091999965,
          43.65595011300047
         ]
        ],
        [
         "2019",
         "2019",
         "NH",
         "New Hampshire",
         "Arthritis",
         "Arthritis among adults",
         "22.7",
         "Male",
         "33",
         [
          -71.50036091999965,
          43.65595011300047
         ]
        ],
        [
         "2019",
         "2019",
         "NH",
         "New Hampshire",
         "Arthritis",
         "Physical inactivity among adults with arthritis",
         "30.5",
         "Female",
         "33",
         [
          -71.50036091999965,
          43.65595011300047
         ]
        ],
        [
         "2019",
         "2019",
         "NH",
         "New Hampshire",
         "Asthma",
         "Current asthma among adults",
         "7.6",
         "Male",
         "33",
         [
          -71.50036091999965,
          43.65595011300047
         ]
        ],
        [
         "2019",
         "2019",
         "NH",
         "New Hampshire",
         "Cardiovascular Disease",
         "High blood pressure among adults",
         "14.7",
         "Age 18-44",
         "33",
         [
          -71.50036091999965,
          43.65595011300047
         ]
        ],
        [
         "2019",
         "2019",
         "NH",
         "New Hampshire",
         "Cardiovascular Disease",
         "High blood pressure among adults",
         null,
         "Asian, non-Hispanic",
         "33",
         [
          -71.50036091999965,
          43.65595011300047
         ]
        ],
        [
         "2019",
         "2019",
         "NH",
         "New Hampshire",
         "Health Status",
         "Fair or poor self-rated health status among adults",
         "14.3",
         "Overall",
         "33",
         [
          -71.50036091999965,
          43.65595011300047
         ]
        ],
        [
         "2019",
         "2019",
         "NH",
         "New Hampshire",
         "Health Status",
         "Recent activity limitation among adults",
         "3.3",
         "Female",
         "33",
         [
          -71.50036091999965,
          43.65595011300047
         ]
        ],
        [
         "2019",
         "2019",
         "NH",
         "New Hampshire",
         "Immunization",
         "Influenza vaccination among adults",
         "45.8",
         "White, non-Hispanic",
         "33",
         [
          -71.50036091999965,
          43.65595011300047
         ]
        ],
        [
         "2019",
         "2019",
         "NH",
         "New Hampshire",
         "Tobacco",
         "Current smokeless tobacco use among high school students",
         null,
         "Male",
         "33",
         [
          -71.50036091999965,
          43.65595011300047
         ]
        ],
        [
         "2019",
         "2019",
         "NJ",
         "New Jersey",
         "Alcohol",
         "Alcohol use among high school students",
         "36.5",
         "Grade 11",
         "34",
         [
          -74.27369128799967,
          40.13057004800049
         ]
        ],
        [
         "2019",
         "2019",
         "NJ",
         "New Jersey",
         "Arthritis",
         "Arthritis among adults",
         null,
         "Hispanic",
         "34",
         [
          -74.27369128799967,
          40.13057004800049
         ]
        ],
        [
         "2019",
         "2019",
         "NJ",
         "New Jersey",
         "Asthma",
         "Asthma mortality among all people, underlying cause",
         "113",
         "Overall",
         "34",
         [
          -74.27369128799967,
          40.13057004800049
         ]
        ],
        [
         "2019",
         "2019",
         "NJ",
         "New Jersey",
         "Cardiovascular Disease",
         "Taking medicine for high cholesterol among adults",
         null,
         "Black, non-Hispanic",
         "34",
         [
          -74.27369128799967,
          40.13057004800049
         ]
        ],
        [
         "2019",
         "2019",
         "NJ",
         "New Jersey",
         "Cardiovascular Disease",
         "Cerebrovascular disease (stroke) mortality among all people, underlying cause",
         "419",
         "Age 45-64",
         "34",
         [
          -74.27369128799967,
          40.13057004800049
         ]
        ],
        [
         "2019",
         "2019",
         "NJ",
         "New Jersey",
         "Social Determinants of Health",
         "Lack of health insurance among adults aged 18-64 years",
         null,
         "White, non-Hispanic",
         "34",
         [
          -74.27369128799967,
          40.13057004800049
         ]
        ],
        [
         "2019",
         "2019",
         "NJ",
         "New Jersey",
         "Tobacco",
         "Current cigarette smoking among adults",
         null,
         "Female",
         "34",
         [
          -74.27369128799967,
          40.13057004800049
         ]
        ],
        [
         "2019",
         "2019",
         "NM",
         "New Mexico",
         "Arthritis",
         "Activity limitation due to arthritis among adults with arthritis",
         "9.7",
         "Hispanic",
         "35",
         [
          -106.24058098499967,
          34.52088095200048
         ]
        ],
        [
         "2019",
         "2019",
         "NM",
         "New Mexico",
         "Arthritis",
         "Physical inactivity among adults with arthritis",
         "30.8",
         "Overall",
         "35",
         [
          -106.24058098499967,
          34.52088095200048
         ]
        ],
        [
         "2019",
         "2019",
         "NM",
         "New Mexico",
         "Arthritis",
         "Physical inactivity among adults with arthritis",
         "29",
         "Male",
         "35",
         [
          -106.24058098499967,
          34.52088095200048
         ]
        ],
        [
         "2019",
         "2019",
         "NM",
         "New Mexico",
         "Diabetes",
         "Diabetes mortality among all people, underlying or contributing cause",
         "809",
         "White, non-Hispanic",
         "35",
         [
          -106.24058098499967,
          34.52088095200048
         ]
        ],
        [
         "2019",
         "2019",
         "NM",
         "New Mexico",
         "Health Status",
         "Frequent physical distress among adults",
         "19.7",
         "Age >=65",
         "35",
         [
          -106.24058098499967,
          34.52088095200048
         ]
        ],
        [
         "2019",
         "2019",
         "NM",
         "New Mexico",
         "Immunization",
         "Influenza vaccination among adults 18â€“64 who are at increased risk",
         "46.1",
         "Female",
         "35",
         [
          -106.24058098499967,
          34.52088095200048
         ]
        ],
        [
         "2019",
         "2019",
         "NM",
         "New Mexico",
         "Mental Health",
         "Depression among adults",
         "20.6",
         "Female",
         "35",
         [
          -106.24058098499967,
          34.52088095200048
         ]
        ],
        [
         "2019",
         "2019",
         "NM",
         "New Mexico",
         "Nutrition, Physical Activity, and Weight Status",
         "Consumed vegetables less than one time daily among high school students",
         "9.8",
         "Male",
         "35",
         [
          -106.24058098499967,
          34.52088095200048
         ]
        ],
        [
         "2019",
         "2019",
         "NM",
         "New Mexico",
         "Sleep",
         "Short sleep duration among high school students",
         "74.6",
         "Female",
         "35",
         [
          -106.24058098499967,
          34.52088095200048
         ]
        ],
        [
         "2019",
         "2019",
         "NM",
         "New Mexico",
         "Tobacco",
         "Cigarette smoking during pregnancy among women with a recent live birth",
         "8",
         "Hispanic",
         "35",
         [
          -106.24058098499967,
          34.52088095200048
         ]
        ],
        [
         "2019",
         "2019",
         "NY",
         "New York",
         "Arthritis",
         "Arthritis among adults",
         "29.6",
         "Age 45-64",
         "36",
         [
          -75.54397042699964,
          42.82700103200045
         ]
        ],
        [
         "2019",
         "2019",
         "NY",
         "New York",
         "Arthritis",
         "Arthritis among adults",
         "26.6",
         "Female",
         "36",
         [
          -75.54397042699964,
          42.82700103200045
         ]
        ],
        [
         "2019",
         "2019",
         "NY",
         "New York",
         "Asthma",
         "Current asthma among adults",
         "11.3",
         "Hispanic",
         "36",
         [
          -75.54397042699964,
          42.82700103200045
         ]
        ],
        [
         "2019",
         "2019",
         "NY",
         "New York",
         "Chronic Obstructive Pulmonary Disease",
         "Chronic obstructive pulmonary disease mortality among adults aged 45 years and older, underlying cause",
         "3669",
         "Female",
         "36",
         [
          -75.54397042699964,
          42.82700103200045
         ]
        ],
        [
         "2019",
         "2019",
         "NY",
         "New York",
         "Cardiovascular Disease",
         "High blood pressure among adults",
         "25",
         "Hispanic",
         "36",
         [
          -75.54397042699964,
          42.82700103200045
         ]
        ],
        [
         "2019",
         "2019",
         "NY",
         "New York",
         "Cardiovascular Disease",
         "Cerebrovascular disease (stroke) mortality among all people, underlying cause",
         "874",
         "Black, non-Hispanic",
         "36",
         [
          -75.54397042699964,
          42.82700103200045
         ]
        ],
        [
         "2019",
         "2019",
         "NY",
         "New York",
         "Diabetes",
         "Diabetes mortality among all people, underlying or contributing cause",
         "6787",
         "Female",
         "36",
         [
          -75.54397042699964,
          42.82700103200045
         ]
        ],
        [
         "2019",
         "2019",
         "NY",
         "New York",
         "Disability",
         "Adults with any disability",
         "23.8",
         "Male",
         "36",
         [
          -75.54397042699964,
          42.82700103200045
         ]
        ],
        [
         "2019",
         "2019",
         "NY",
         "New York",
         "Health Status",
         "Life expectancy at birth",
         "83.1",
         "Female",
         "36",
         [
          -75.54397042699964,
          42.82700103200045
         ]
        ],
        [
         "2019",
         "2019",
         "NY",
         "New York",
         "Mental Health",
         "Frequent mental distress among adults",
         "12.1",
         "White, non-Hispanic",
         "36",
         [
          -75.54397042699964,
          42.82700103200045
         ]
        ],
        [
         "2019",
         "2019",
         "NY",
         "New York",
         "Nutrition, Physical Activity, and Weight Status",
         "Consumed vegetables less than one time daily among adults",
         "35",
         "Hispanic",
         "36",
         [
          -75.54397042699964,
          42.82700103200045
         ]
        ],
        [
         "2019",
         "2019",
         "NC",
         "North Carolina",
         "Chronic Kidney Disease",
         "Incidence of treated end-stage kidney disease",
         "4353",
         "Overall",
         "37",
         [
          -79.15925046299964,
          35.466220975000454
         ]
        ],
        [
         "2019",
         "2019",
         "NC",
         "North Carolina",
         "Chronic Obstructive Pulmonary Disease",
         "Chronic obstructive pulmonary disease mortality among adults aged 45 years and older, underlying or contributing cause",
         "8594",
         "Age >=65",
         "37",
         [
          -79.15925046299964,
          35.466220975000454
         ]
        ],
        [
         "2019",
         "2019",
         "NC",
         "North Carolina",
         "Cardiovascular Disease",
         "Taking medicine for high cholesterol among adults",
         "29.5",
         "Male",
         "37",
         [
          -79.15925046299964,
          35.466220975000454
         ]
        ],
        [
         "2019",
         "2019",
         "NC",
         "North Carolina",
         "Cardiovascular Disease",
         "Diseases of the heart mortality among all people, underlying cause",
         "154.7",
         "Overall",
         "37",
         [
          -79.15925046299964,
          35.466220975000454
         ]
        ],
        [
         "2019",
         "2019",
         "NC",
         "North Carolina",
         "Diabetes",
         "Diabetes mortality among all people, underlying or contributing cause",
         "4834",
         "Male",
         "37",
         [
          -79.15925046299964,
          35.466220975000454
         ]
        ],
        [
         "2019",
         "2019",
         "NC",
         "North Carolina",
         "Health Status",
         "Average recent physically unhealthy days among adults",
         "3.5",
         "Male",
         "37",
         [
          -79.15925046299964,
          35.466220975000454
         ]
        ],
        [
         "2019",
         "2019",
         "NC",
         "North Carolina",
         "Mental Health",
         "Frequent mental distress among adults",
         "13.3",
         "Age 45-64",
         "37",
         [
          -79.15925046299964,
          35.466220975000454
         ]
        ],
        [
         "2019",
         "2019",
         "ND",
         "North Dakota",
         "Arthritis",
         "Arthritis among adults",
         "22.7",
         "Male",
         "38",
         [
          -100.11842104899966,
          47.47531977900047
         ]
        ],
        [
         "2019",
         "2019",
         "ND",
         "North Dakota",
         "Arthritis",
         "Severe joint pain among adults with arthritis",
         "18.5",
         "Male",
         "38",
         [
          -100.11842104899966,
          47.47531977900047
         ]
        ],
        [
         "2019",
         "2019",
         "ND",
         "North Dakota",
         "Arthritis",
         "Received health care provider counseling for physical activity among adults with arthritis",
         "57.3",
         "Male",
         "38",
         [
          -100.11842104899966,
          47.47531977900047
         ]
        ],
        [
         "2019",
         "2019",
         "ND",
         "North Dakota",
         "Chronic Kidney Disease",
         "Incidence of treated end-stage kidney disease",
         "220",
         "Overall",
         "38",
         [
          -100.11842104899966,
          47.47531977900047
         ]
        ],
        [
         "2019",
         "2019",
         "ND",
         "North Dakota",
         "Diabetes",
         "Diabetes mortality among all people, underlying or contributing cause",
         "283",
         "Female",
         "38",
         [
          -100.11842104899966,
          47.47531977900047
         ]
        ],
        [
         "2019",
         "2019",
         "ND",
         "North Dakota",
         "Health Status",
         "Fair or poor self-rated health status among adults",
         "13",
         "White, non-Hispanic",
         "38",
         [
          -100.11842104899966,
          47.47531977900047
         ]
        ],
        [
         "2019",
         "2019",
         "ND",
         "North Dakota",
         "Mental Health",
         "Frequent mental distress among adults",
         "8.5",
         "Age 45-64",
         "38",
         [
          -100.11842104899966,
          47.47531977900047
         ]
        ],
        [
         "2019",
         "2019",
         "OH",
         "Ohio",
         "Alcohol",
         "Binge drinking prevalence among adults",
         "14",
         "Age 45-64",
         "39",
         [
          -82.40426005599966,
          40.06021014100048
         ]
        ],
        [
         "2019",
         "2019",
         "OH",
         "Ohio",
         "Asthma",
         "Current asthma among adults",
         "8.9",
         "Male",
         "39",
         [
          -82.40426005599966,
          40.06021014100048
         ]
        ],
        [
         "2019",
         "2019",
         "OH",
         "Ohio",
         "Cardiovascular Disease",
         "Coronary heart disease mortality among all people, underlying cause",
         "2928",
         "Age 45-64",
         "39",
         [
          -82.40426005599966,
          40.06021014100048
         ]
        ],
        [
         "2019",
         "2019",
         "OK",
         "Oklahoma",
         "Diabetes",
         "Diabetes mortality among all people, underlying or contributing cause",
         "1627",
         "Age 45-64",
         "40",
         [
          -97.52107021399968,
          35.47203135600046
         ]
        ],
        [
         "2019",
         "2019",
         "OK",
         "Oklahoma",
         "Immunization",
         "Influenza vaccination among adults 18â€“64 who are at increased risk",
         "44.4",
         "Female",
         "40",
         [
          -97.52107021399968,
          35.47203135600046
         ]
        ],
        [
         "2019",
         "2019",
         "OK",
         "Oklahoma",
         "Social Determinants of Health",
         "Lack of health insurance among adults aged 18-64 years",
         "19",
         "Female",
         "40",
         [
          -97.52107021399968,
          35.47203135600046
         ]
        ],
        [
         "2019",
         "2019",
         "OK",
         "Oklahoma",
         "Sleep",
         "Short sleep duration among high school students",
         "76.7",
         "Male",
         "40",
         [
          -97.52107021399968,
          35.47203135600046
         ]
        ],
        [
         "2019",
         "2019",
         "OR",
         "Oregon",
         "Arthritis",
         "Arthritis among adults",
         "16.3",
         "Hispanic",
         "41",
         [
          -120.15503132599969,
          44.56744942400047
         ]
        ],
        [
         "2019",
         "2019",
         "OR",
         "Oregon",
         "Chronic Obstructive Pulmonary Disease",
         "Chronic obstructive pulmonary disease mortality among adults aged 45 years and older, underlying cause",
         "996",
         "Male",
         "41",
         [
          -120.15503132599969,
          44.56744942400047
         ]
        ],
        [
         "2019",
         "2019",
         "OR",
         "Oregon",
         "Cardiovascular Disease",
         "Coronary heart disease mortality among all people, underlying cause",
         "61.6",
         "Overall",
         "41",
         [
          -120.15503132599969,
          44.56744942400047
         ]
        ],
        [
         "2019",
         "2019",
         "OR",
         "Oregon",
         "Mental Health",
         "Average mentally unhealthy days among adults",
         null,
         "Black, non-Hispanic",
         "41",
         [
          -120.15503132599969,
          44.56744942400047
         ]
        ],
        [
         "2019",
         "2019",
         "OR",
         "Oregon",
         "Nutrition, Physical Activity, and Weight Status",
         "Consumed vegetables less than one time daily among adults",
         "16.4",
         "Overall",
         "41",
         [
          -120.15503132599969,
          44.56744942400047
         ]
        ],
        [
         "2019",
         "2019",
         "PA",
         "Pennsylvania",
         "Cardiovascular Disease",
         "High blood pressure among adults",
         "31.8",
         "Female",
         "42",
         [
          -77.86070029399963,
          40.79373015200048
         ]
        ],
        [
         "2019",
         "2019",
         "PA",
         "Pennsylvania",
         "Cardiovascular Disease",
         "Coronary heart disease mortality among all people, underlying cause",
         "7189",
         "Female",
         "42",
         [
          -77.86070029399963,
          40.79373015200048
         ]
        ],
        [
         "2019",
         "2019",
         "PA",
         "Pennsylvania",
         "Diabetes",
         "Diabetes among adults",
         "10.6",
         "Male",
         "42",
         [
          -77.86070029399963,
          40.79373015200048
         ]
        ],
        [
         "2019",
         "2019",
         "PA",
         "Pennsylvania",
         "Immunization",
         "Influenza vaccination among adults",
         "39.6",
         "Male",
         "42",
         [
          -77.86070029399963,
          40.79373015200048
         ]
        ],
        [
         "2019",
         "2019",
         "PA",
         "Pennsylvania",
         "Immunization",
         "Pneumococcal vaccination among adults aged 18â€“64 years who are at increased risk",
         "27",
         "Hispanic",
         "42",
         [
          -77.86070029399963,
          40.79373015200048
         ]
        ],
        [
         "2019",
         "2019",
         "PA",
         "Pennsylvania",
         "Nutrition, Physical Activity, and Weight Status",
         "Obesity among adults",
         "32.7",
         "Hispanic",
         "42",
         [
          -77.86070029399963,
          40.79373015200048
         ]
        ],
        [
         "2019",
         "2019",
         "PA",
         "Pennsylvania",
         "Tobacco",
         "Quit attempts in the past year among adult current smokers",
         "58.1",
         "Overall",
         "42",
         [
          -77.86070029399963,
          40.79373015200048
         ]
        ],
        [
         "2019",
         "2019",
         "PR",
         "Puerto Rico",
         "Alcohol",
         "Binge drinking frequency among adults who binge drink",
         "5.4",
         "Age >=65",
         "72",
         [
          -66.590149,
          18.220833
         ]
        ],
        [
         "2019",
         "2019",
         "PR",
         "Puerto Rico",
         "Arthritis",
         "Arthritis among adults",
         "26.2",
         "Female",
         "72",
         [
          -66.590149,
          18.220833
         ]
        ],
        [
         "2019",
         "2019",
         "PR",
         "Puerto Rico",
         "Arthritis",
         "Severe joint pain among adults with arthritis",
         "52.1",
         "Male",
         "72",
         [
          -66.590149,
          18.220833
         ]
        ],
        [
         "2019",
         "2019",
         "PR",
         "Puerto Rico",
         "Arthritis",
         "Physical inactivity among adults with arthritis",
         "43.6",
         "Male",
         "72",
         [
          -66.590149,
          18.220833
         ]
        ],
        [
         "2019",
         "2019",
         "PR",
         "Puerto Rico",
         "Cardiovascular Disease",
         "High blood pressure among adults",
         "66.4",
         "Age >=65",
         "72",
         [
          -66.590149,
          18.220833
         ]
        ],
        [
         "2019",
         "2019",
         "PR",
         "Puerto Rico",
         "Tobacco",
         "Current cigarette smoking among adults",
         "7",
         "Female",
         "72",
         [
          -66.590149,
          18.220833
         ]
        ],
        [
         "2019",
         "2019",
         "RI",
         "Rhode Island",
         "Arthritis",
         "Severe joint pain among adults with arthritis",
         "34.5",
         "Age 18-44",
         "44",
         [
          -71.52247031399963,
          41.70828019300046
         ]
        ],
        [
         "2019",
         "2019",
         "RI",
         "Rhode Island",
         "Arthritis",
         "Physical inactivity among adults with arthritis",
         "34.5",
         "Age >=65",
         "44",
         [
          -71.52247031399963,
          41.70828019300046
         ]
        ],
        [
         "2019",
         "2019",
         "RI",
         "Rhode Island",
         "Cardiovascular Disease",
         "Cerebrovascular disease (stroke) mortality among all people, underlying cause",
         "33",
         "Age 45-64",
         "44",
         [
          -71.52247031399963,
          41.70828019300046
         ]
        ],
        [
         "2019",
         "2019",
         "RI",
         "Rhode Island",
         "Diabetes",
         "Diabetes mortality among all people, underlying or contributing cause",
         "60",
         "Hispanic",
         "44",
         [
          -71.52247031399963,
          41.70828019300046
         ]
        ],
        [
         "2019",
         "2019",
         "RI",
         "Rhode Island",
         "Disability",
         "Adults with any disability",
         "22",
         "Age 18-44",
         "44",
         [
          -71.52247031399963,
          41.70828019300046
         ]
        ],
        [
         "2019",
         "2019",
         "RI",
         "Rhode Island",
         "Immunization",
         "Pneumococcal vaccination among adults aged 18â€“64 years who are at increased risk",
         "39.2",
         "Overall",
         "44",
         [
          -71.52247031399963,
          41.70828019300046
         ]
        ],
        [
         "2019",
         "2019",
         "RI",
         "Rhode Island",
         "Nutrition, Physical Activity, and Weight Status",
         "Obesity among adults",
         "28.2",
         "Female",
         "44",
         [
          -71.52247031399963,
          41.70828019300046
         ]
        ],
        [
         "2019",
         "2019",
         "RI",
         "Rhode Island",
         "Tobacco",
         "Current smokeless tobacco use among high school students",
         "1.2",
         "Female",
         "44",
         [
          -71.52247031399963,
          41.70828019300046
         ]
        ],
        [
         "2019",
         "2019",
         "SC",
         "South Carolina",
         "Diabetes",
         "Diabetes mortality among all people, underlying or contributing cause",
         "2682",
         "Male",
         "45",
         [
          -81.04537120699968,
          33.998821303000454
         ]
        ],
        [
         "2019",
         "2019",
         "SC",
         "South Carolina",
         "Health Status",
         "Frequent physical distress among adults",
         "13.8",
         "Female",
         "45",
         [
          -81.04537120699968,
          33.998821303000454
         ]
        ],
        [
         "2019",
         "2019",
         "SC",
         "South Carolina",
         "Nutrition, Physical Activity, and Weight Status",
         "Consumed fruit less than one time daily among adults",
         "46.5",
         "Male",
         "45",
         [
          -81.04537120699968,
          33.998821303000454
         ]
        ],
        [
         "2019",
         "2019",
         "SC",
         "South Carolina",
         "Social Determinants of Health",
         "Unemployment rate among people 16 years and older in the labor force",
         "6.9",
         "Black, non-Hispanic",
         "45",
         [
          -81.04537120699968,
          33.998821303000454
         ]
        ],
        [
         "2019",
         "2019",
         "SD",
         "South Dakota",
         "Arthritis",
         "Severe joint pain among adults with arthritis",
         null,
         "Hispanic",
         "46",
         [
          -100.3735306369997,
          44.353130053000484
         ]
        ],
        [
         "2019",
         "2019",
         "SD",
         "South Dakota",
         "Asthma",
         "Current asthma among adults",
         "11.5",
         "Female",
         "46",
         [
          -100.3735306369997,
          44.353130053000484
         ]
        ],
        [
         "2019",
         "2020",
         "SD",
         "South Dakota",
         "Cognitive Health and Caregiving",
         "Subjective cognitive decline among adults aged 45 years and older",
         "9.3",
         "Male",
         "46",
         [
          -100.3735306369997,
          44.353130053000484
         ]
        ],
        [
         "2019",
         "2019",
         "SD",
         "South Dakota",
         "Diabetes",
         "Diabetes among adults",
         "9.3",
         "Overall",
         "46",
         [
          -100.3735306369997,
          44.353130053000484
         ]
        ],
        [
         "2019",
         "2019",
         "TN",
         "Tennessee",
         "Arthritis",
         "Severe joint pain among adults with arthritis",
         "33.6",
         "Male",
         "47",
         [
          -85.77449091399967,
          35.68094058000048
         ]
        ],
        [
         "2019",
         "2019",
         "TN",
         "Tennessee",
         "Arthritis",
         "Received health care provider counseling for physical activity among adults with arthritis",
         "70",
         "Age 45-64",
         "47",
         [
          -85.77449091399967,
          35.68094058000048
         ]
        ],
        [
         "2019",
         "2019",
         "TN",
         "Tennessee",
         "Mental Health",
         "Depression among adults",
         "18.5",
         "Male",
         "47",
         [
          -85.77449091399967,
          35.68094058000048
         ]
        ],
        [
         "2019",
         "2019",
         "TX",
         "Texas",
         "Alcohol",
         "Alcohol use among high school students",
         "30.9",
         "Female",
         "48",
         [
          -99.42677020599967,
          31.827240407000488
         ]
        ],
        [
         "2019",
         "2019",
         "TX",
         "Texas",
         "Alcohol",
         "Binge drinking frequency among adults who binge drink",
         "2.9",
         "Female",
         "48",
         [
          -99.42677020599967,
          31.827240407000488
         ]
        ],
        [
         "2019",
         "2019",
         "TX",
         "Texas",
         "Arthritis",
         "Arthritis among adults",
         "20.5",
         "Black, non-Hispanic",
         "48",
         [
          -99.42677020599967,
          31.827240407000488
         ]
        ],
        [
         "2019",
         "2019",
         "TX",
         "Texas",
         "Arthritis",
         "Activity limitation due to arthritis among adults with arthritis",
         "11.5",
         "Female",
         "48",
         [
          -99.42677020599967,
          31.827240407000488
         ]
        ],
        [
         "2019",
         "2019",
         "TX",
         "Texas",
         "Arthritis",
         "Work limitation due to arthritis among adults aged 18-64 years with arthritis",
         "47.7",
         "Hispanic",
         "48",
         [
          -99.42677020599967,
          31.827240407000488
         ]
        ],
        [
         "2019",
         "2019",
         "TX",
         "Texas",
         "Chronic Obstructive Pulmonary Disease",
         "Chronic obstructive pulmonary disease mortality among adults aged 45 years and older, underlying or contributing cause",
         "18663",
         "Age >=65",
         "48",
         [
          -99.42677020599967,
          31.827240407000488
         ]
        ],
        [
         "2019",
         "2019",
         "TX",
         "Texas",
         "Cardiovascular Disease",
         "Coronary heart disease mortality among all people, underlying cause",
         "34",
         "Asian, non-Hispanic",
         "48",
         [
          -99.42677020599967,
          31.827240407000488
         ]
        ],
        [
         "2019",
         "2019",
         "TX",
         "Texas",
         "Diabetes",
         "Diabetes among adults",
         "13",
         "Male",
         "48",
         [
          -99.42677020599967,
          31.827240407000488
         ]
        ],
        [
         "2019",
         "2019",
         "TX",
         "Texas",
         "Disability",
         "Adults with any disability",
         "24",
         "Male",
         "48",
         [
          -99.42677020599967,
          31.827240407000488
         ]
        ],
        [
         "2019",
         "2019",
         "TX",
         "Texas",
         "Immunization",
         "Pneumococcal vaccination among adults aged 18â€“64 years who are at increased risk",
         "35.5",
         "Female",
         "48",
         [
          -99.42677020599967,
          31.827240407000488
         ]
        ],
        [
         "2019",
         "2019",
         "TX",
         "Texas",
         "Social Determinants of Health",
         "Living below 150% of the poverty threshold among all people",
         "21",
         "Male",
         "48",
         [
          -99.42677020599967,
          31.827240407000488
         ]
        ],
        [
         "2019",
         "2019",
         "TX",
         "Texas",
         "Social Determinants of Health",
         "Lack of health insurance among adults aged 18-64 years",
         "15.3",
         "White, non-Hispanic",
         "48",
         [
          -99.42677020599967,
          31.827240407000488
         ]
        ],
        [
         "2019",
         "2019",
         "US",
         "United States",
         "Alcohol",
         "Alcohol use among high school students",
         "31.9",
         "Female",
         "59",
         null
        ],
        [
         "2019",
         "2019",
         "US",
         "United States",
         "Cardiovascular Disease",
         "Taking medicine for high cholesterol among adults",
         "28",
         "Hispanic",
         "59",
         null
        ],
        [
         "2019",
         "2019",
         "US",
         "United States",
         "Diabetes",
         "Diabetic ketoacidosis mortality among all people, underlying or contributing cause",
         "1.7",
         "Overall",
         "59",
         null
        ],
        [
         "2019",
         "2019",
         "US",
         "United States",
         "Nutrition, Physical Activity, and Weight Status",
         "Obesity among adults",
         "31.4",
         "Overall",
         "59",
         null
        ],
        [
         "2019",
         "2019",
         "US",
         "United States",
         "Nutrition, Physical Activity, and Weight Status",
         "Obesity among adults",
         "30.6",
         "Male",
         "59",
         null
        ],
        [
         "2019",
         "2019",
         "UT",
         "Utah",
         "Alcohol",
         "Binge drinking intensity among adults who binge drink",
         "6.8",
         "Age 45-64",
         "49",
         [
          -111.58713063499971,
          39.360700171000474
         ]
        ],
        [
         "2019",
         "2019",
         "UT",
         "Utah",
         "Arthritis",
         "Arthritis among adults",
         "20.3",
         "Male",
         "49",
         [
          -111.58713063499971,
          39.360700171000474
         ]
        ],
        [
         "2019",
         "2019",
         "UT",
         "Utah",
         "Arthritis",
         "Received health care provider counseling for physical activity among adults with arthritis",
         "67.6",
         "Male",
         "49",
         [
          -111.58713063499971,
          39.360700171000474
         ]
        ],
        [
         "2019",
         "2019",
         "UT",
         "Utah",
         "Asthma",
         "Current asthma among adults",
         "10.7",
         "Age 45-64",
         "49",
         [
          -111.58713063499971,
          39.360700171000474
         ]
        ],
        [
         "2019",
         "2020",
         "UT",
         "Utah",
         "Cognitive Health and Caregiving",
         "Provided care for a friend or family member in the past month among adults",
         "15.7",
         "Male",
         "49",
         [
          -111.58713063499971,
          39.360700171000474
         ]
        ],
        [
         "2019",
         "2019",
         "UT",
         "Utah",
         "Chronic Obstructive Pulmonary Disease",
         "Chronic obstructive pulmonary disease among adults",
         "3.1",
         "Hispanic",
         "49",
         [
          -111.58713063499971,
          39.360700171000474
         ]
        ],
        [
         "2019",
         "2019",
         "UT",
         "Utah",
         "Chronic Obstructive Pulmonary Disease",
         "Current smoking among adults with chronic obstructive pulmonary disease",
         "24.1",
         "White, non-Hispanic",
         "49",
         [
          -111.58713063499971,
          39.360700171000474
         ]
        ],
        [
         "2019",
         "2019",
         "UT",
         "Utah",
         "Cardiovascular Disease",
         "Taking medicine to control high blood pressure among adults with high blood pressure",
         "52.5",
         "Female",
         "49",
         [
          -111.58713063499971,
          39.360700171000474
         ]
        ],
        [
         "2019",
         "2019",
         "UT",
         "Utah",
         "Cardiovascular Disease",
         "Taking medicine for high cholesterol among adults",
         "27.3",
         "Female",
         "49",
         [
          -111.58713063499971,
          39.360700171000474
         ]
        ],
        [
         "2019",
         "2019",
         "VT",
         "Vermont",
         "Alcohol",
         "Binge drinking frequency among adults who binge drink",
         "4.7",
         "White, non-Hispanic",
         "50",
         [
          -72.51764079099962,
          43.62538123900049
         ]
        ],
        [
         "2019",
         "2019",
         "VT",
         "Vermont",
         "Cardiovascular Disease",
         "Coronary heart disease mortality among all people, underlying cause",
         "66.9",
         "Female",
         "50",
         [
          -72.51764079099962,
          43.62538123900049
         ]
        ],
        [
         "2019",
         "2019",
         "VT",
         "Vermont",
         "Health Status",
         "Frequent physical distress among adults",
         "12.7",
         "Male",
         "50",
         [
          -72.51764079099962,
          43.62538123900049
         ]
        ],
        [
         "2019",
         "2019",
         "VT",
         "Vermont",
         "Health Status",
         "2 or more chronic conditions among adults",
         "36.5",
         "Age >=65",
         "50",
         [
          -72.51764079099962,
          43.62538123900049
         ]
        ],
        [
         "2019",
         "2019",
         "VT",
         "Vermont",
         "Health Status",
         "2 or more chronic conditions among adults",
         "16.5",
         "Male",
         "50",
         [
          -72.51764079099962,
          43.62538123900049
         ]
        ],
        [
         "2019",
         "2019",
         "VT",
         "Vermont",
         "Mental Health",
         "Frequent mental distress among adults",
         "13.1",
         "Male",
         "50",
         [
          -72.51764079099962,
          43.62538123900049
         ]
        ],
        [
         "2019",
         "2019",
         "VT",
         "Vermont",
         "Nutrition, Physical Activity, and Weight Status",
         "Obesity among adults",
         "25.7",
         "Female",
         "50",
         [
          -72.51764079099962,
          43.62538123900049
         ]
        ],
        [
         "2019",
         "2019",
         "VT",
         "Vermont",
         "Tobacco",
         "Current tobacco use of any tobacco product among high school students",
         "27",
         "Male",
         "50",
         [
          -72.51764079099962,
          43.62538123900049
         ]
        ],
        [
         "2019",
         "2020",
         "VI",
         "Virgin Islands",
         "Cognitive Health and Caregiving",
         "Provided care for a friend or family member in the past month among adults",
         null,
         "Age >=65",
         "78",
         [
          -64.896335,
          18.335765
         ]
        ],
        [
         "2019",
         "2019",
         "VI",
         "Virgin Islands",
         "Chronic Obstructive Pulmonary Disease",
         "Chronic obstructive pulmonary disease among adults",
         null,
         "Male",
         "78",
         [
          -64.896335,
          18.335765
         ]
        ],
        [
         "2019",
         "2019",
         "VI",
         "Virgin Islands",
         "Cardiovascular Disease",
         "Taking medicine to control high blood pressure among adults with high blood pressure",
         null,
         "Age 18-44",
         "78",
         [
          -64.896335,
          18.335765
         ]
        ],
        [
         "2019",
         "2019",
         "VI",
         "Virgin Islands",
         "Cardiovascular Disease",
         "Taking medicine for high cholesterol among adults",
         null,
         "Overall",
         "78",
         [
          -64.896335,
          18.335765
         ]
        ],
        [
         "2019",
         "2019",
         "VI",
         "Virgin Islands",
         "Health Status",
         "Average recent physically unhealthy days among adults",
         null,
         "Age 45-64",
         "78",
         [
          -64.896335,
          18.335765
         ]
        ],
        [
         "2019",
         "2019",
         "VI",
         "Virgin Islands",
         "Tobacco",
         "Current smokeless tobacco use among high school students",
         null,
         "Overall",
         "78",
         [
          -64.896335,
          18.335765
         ]
        ],
        [
         "2019",
         "2020",
         "VA",
         "Virginia",
         "Cognitive Health and Caregiving",
         "Subjective cognitive decline among adults aged 45 years and older",
         "9.3",
         "Female",
         "51",
         [
          -78.45789046299967,
          37.54268067400045
         ]
        ],
        [
         "2019",
         "2019",
         "VA",
         "Virginia",
         "Cardiovascular Disease",
         "High cholesterol among adults who have been screened",
         "31.6",
         "Black, non-Hispanic",
         "51",
         [
          -78.45789046299967,
          37.54268067400045
         ]
        ],
        [
         "2019",
         "2019",
         "VA",
         "Virginia",
         "Diabetes",
         "Diabetes mortality among all people, underlying or contributing cause",
         "3914",
         "White, non-Hispanic",
         "51",
         [
          -78.45789046299967,
          37.54268067400045
         ]
        ],
        [
         "2019",
         "2019",
         "VA",
         "Virginia",
         "Health Status",
         "Average recent physically unhealthy days among adults",
         "3.9",
         "White, non-Hispanic",
         "51",
         [
          -78.45789046299967,
          37.54268067400045
         ]
        ],
        [
         "2019",
         "2019",
         "VA",
         "Virginia",
         "Health Status",
         "Recent activity limitation among adults",
         "2.9",
         "Age 45-64",
         "51",
         [
          -78.45789046299967,
          37.54268067400045
         ]
        ],
        [
         "2019",
         "2019",
         "VA",
         "Virginia",
         "Mental Health",
         "Frequent mental distress among adults",
         "15.4",
         "Female",
         "51",
         [
          -78.45789046299967,
          37.54268067400045
         ]
        ],
        [
         "2019",
         "2019",
         "VA",
         "Virginia",
         "Sleep",
         "Short sleep duration among high school students",
         "79.8",
         "Grade 11",
         "51",
         [
          -78.45789046299967,
          37.54268067400045
         ]
        ],
        [
         "2019",
         "2019",
         "WA",
         "Washington",
         "Asthma",
         "Current asthma among adults",
         "7.9",
         "Male",
         "53",
         [
          -120.47001078999972,
          47.52227862900048
         ]
        ],
        [
         "2019",
         "2019",
         "WA",
         "Washington",
         "Cardiovascular Disease",
         "High cholesterol among adults who have been screened",
         "31.9",
         "Overall",
         "53",
         [
          -120.47001078999972,
          47.52227862900048
         ]
        ],
        [
         "2019",
         "2019",
         "WA",
         "Washington",
         "Cardiovascular Disease",
         "Taking medicine for high cholesterol among adults",
         "34.1",
         "Male",
         "53",
         [
          -120.47001078999972,
          47.52227862900048
         ]
        ],
        [
         "2019",
         "2019",
         "WA",
         "Washington",
         "Diabetes",
         "Diabetes among adults",
         "2.8",
         "Age 18-44",
         "53",
         [
          -120.47001078999972,
          47.52227862900048
         ]
        ],
        [
         "2019",
         "2019",
         "WA",
         "Washington",
         "Immunization",
         "Influenza vaccination among adults",
         "43.6",
         "Male",
         "53",
         [
          -120.47001078999972,
          47.52227862900048
         ]
        ],
        [
         "2019",
         "2019",
         "WA",
         "Washington",
         "Tobacco",
         "Current smokeless tobacco use among high school students",
         null,
         "Male",
         "53",
         [
          -120.47001078999972,
          47.52227862900048
         ]
        ],
        [
         "2019",
         "2019",
         "WV",
         "West Virginia",
         "Alcohol",
         "Chronic liver disease mortality among all people, underlying cause",
         "187",
         "Age 45-64",
         "54",
         [
          -80.71264013499967,
          38.66551020200046
         ]
        ],
        [
         "2019",
         "2019",
         "WV",
         "West Virginia",
         "Arthritis",
         "Arthritis among adults",
         "61.5",
         "Age >=65",
         "54",
         [
          -80.71264013499967,
          38.66551020200046
         ]
        ],
        [
         "2019",
         "2019",
         "WV",
         "West Virginia",
         "Arthritis",
         "Severe joint pain among adults with arthritis",
         "34.4",
         "Age 18-44",
         "54",
         [
          -80.71264013499967,
          38.66551020200046
         ]
        ],
        [
         "2019",
         "2019",
         "WV",
         "West Virginia",
         "Asthma",
         "Asthma mortality among all people, underlying cause",
         null,
         "Age >=65",
         "54",
         [
          -80.71264013499967,
          38.66551020200046
         ]
        ],
        [
         "2019",
         "2019",
         "WV",
         "West Virginia",
         "Asthma",
         "Asthma mortality among all people, underlying cause",
         null,
         "Male",
         "54",
         [
          -80.71264013499967,
          38.66551020200046
         ]
        ],
        [
         "2019",
         "2019",
         "WV",
         "West Virginia",
         "Cardiovascular Disease",
         "Diseases of the heart mortality among all people, underlying cause",
         "2719",
         "Male",
         "54",
         [
          -80.71264013499967,
          38.66551020200046
         ]
        ],
        [
         "2019",
         "2019",
         "WV",
         "West Virginia",
         "Diabetes",
         "Diabetes mortality among all people, underlying or contributing cause",
         "1889",
         "Age >=65",
         "54",
         [
          -80.71264013499967,
          38.66551020200046
         ]
        ],
        [
         "2019",
         "2019",
         "WV",
         "West Virginia",
         "Health Status",
         "Life expectancy at birth",
         "77.3",
         "Female",
         "54",
         [
          -80.71264013499967,
          38.66551020200046
         ]
        ],
        [
         "2019",
         "2019",
         "WV",
         "West Virginia",
         "Immunization",
         "Influenza vaccination among adults",
         "49.8",
         "Female",
         "54",
         [
          -80.71264013499967,
          38.66551020200046
         ]
        ],
        [
         "2019",
         "2019",
         "WV",
         "West Virginia",
         "Sleep",
         "Short sleep duration among high school students",
         "85.3",
         "Grade 12",
         "54",
         [
          -80.71264013499967,
          38.66551020200046
         ]
        ],
        [
         "2019",
         "2019",
         "WI",
         "Wisconsin",
         "Cardiovascular Disease",
         "Diseases of the heart mortality among all people, underlying cause",
         "1821",
         "Age 45-64",
         "55",
         [
          -89.81637074199966,
          44.39319117400049
         ]
        ],
        [
         "2019",
         "2019",
         "WI",
         "Wisconsin",
         "Diabetes",
         "Diabetic ketoacidosis mortality among all people, underlying or contributing cause",
         "2.4",
         "Age 45-64",
         "55",
         [
          -89.81637074199966,
          44.39319117400049
         ]
        ],
        [
         "2019",
         "2019",
         "WI",
         "Wisconsin",
         "Immunization",
         "Pneumococcal vaccination among adults aged 65 years and older",
         "75.5",
         "Male",
         "55",
         [
          -89.81637074199966,
          44.39319117400049
         ]
        ],
        [
         "2019",
         "2019",
         "WY",
         "Wyoming",
         "Cardiovascular Disease",
         "High blood pressure among adults",
         "35.1",
         "Male",
         "56",
         [
          -108.10983035299967,
          43.23554134300048
         ]
        ],
        [
         "2019",
         "2019",
         "WY",
         "Wyoming",
         "Cardiovascular Disease",
         "Cerebrovascular disease (stroke) mortality among all people, underlying cause",
         "193.6",
         "Age >=65",
         "56",
         [
          -108.10983035299967,
          43.23554134300048
         ]
        ],
        [
         "2019",
         "2019",
         "WY",
         "Wyoming",
         "Diabetes",
         "Diabetes among adults",
         "6.6",
         "Female",
         "56",
         [
          -108.10983035299967,
          43.23554134300048
         ]
        ],
        [
         "2019",
         "2019",
         "WY",
         "Wyoming",
         "Health Status",
         "Recent activity limitation among adults",
         "2.6",
         "Female",
         "56",
         [
          -108.10983035299967,
          43.23554134300048
         ]
        ],
        [
         "2019",
         "2019",
         "WY",
         "Wyoming",
         "Health Status",
         "2 or more chronic conditions among adults",
         "13.7",
         "Male",
         "56",
         [
          -108.10983035299967,
          43.23554134300048
         ]
        ],
        [
         "2019",
         "2019",
         "WY",
         "Wyoming",
         "Immunization",
         "Pneumococcal vaccination among adults aged 65 years and older",
         "68.7",
         "Overall",
         "56",
         [
          -108.10983035299967,
          43.23554134300048
         ]
        ],
        [
         "2019",
         "2019",
         "WY",
         "Wyoming",
         "Nutrition, Physical Activity, and Weight Status",
         "Consumed fruit less than one time daily among adults",
         "37.9",
         "Female",
         "56",
         [
          -108.10983035299967,
          43.23554134300048
         ]
        ],
        [
         "2019",
         "2019",
         "WY",
         "Wyoming",
         "Sleep",
         "Short sleep duration among high school students",
         null,
         "Grade 12",
         "56",
         [
          -108.10983035299967,
          43.23554134300048
         ]
        ],
        [
         "2019",
         "2019",
         "WY",
         "Wyoming",
         "Tobacco",
         "Current cigarette smoking among adults",
         "10.2",
         "Age >=65",
         "56",
         [
          -108.10983035299967,
          43.23554134300048
         ]
        ],
        [
         "2020",
         "2020",
         "AL",
         "Alabama",
         "Asthma",
         "Asthma mortality among all people, underlying cause",
         "0.8",
         "Age 0-44",
         "01",
         [
          -86.63186076199969,
          32.84057112200048
         ]
        ],
        [
         "2020",
         "2020",
         "AL",
         "Alabama",
         "Cardiovascular Disease",
         "Coronary heart disease mortality among all people, underlying cause",
         "85.7",
         "Black, non-Hispanic",
         "01",
         [
          -86.63186076199969,
          32.84057112200048
         ]
        ],
        [
         "2020",
         "2020",
         "AL",
         "Alabama",
         "Health Status",
         "2 or more chronic conditions among adults",
         "24.2",
         "Female",
         "01",
         [
          -86.63186076199969,
          32.84057112200048
         ]
        ],
        [
         "2020",
         "2020",
         "AL",
         "Alabama",
         "Mental Health",
         "Depression among adults",
         "16.1",
         "Male",
         "01",
         [
          -86.63186076199969,
          32.84057112200048
         ]
        ],
        [
         "2020",
         "2020",
         "AL",
         "Alabama",
         "Mental Health",
         "Frequent mental distress among adults",
         "21",
         "Female",
         "01",
         [
          -86.63186076199969,
          32.84057112200048
         ]
        ],
        [
         "2020",
         "2020",
         "AL",
         "Alabama",
         "Oral Health",
         "All teeth lost among adults aged 65 years and older",
         "24.3",
         "Black, non-Hispanic",
         "01",
         [
          -86.63186076199969,
          32.84057112200048
         ]
        ],
        [
         "2020",
         "2020",
         "AL",
         "Alabama",
         "Oral Health",
         "Visited dentist or dental clinic in the past year among adults",
         "62.9",
         "Female",
         "01",
         [
          -86.63186076199969,
          32.84057112200048
         ]
        ],
        [
         "2020",
         "2021",
         "AL",
         "Alabama",
         "Sleep",
         "Short sleep duration among children aged 4 months to 14 years",
         "46.4",
         "Overall",
         "01",
         [
          -86.63186076199969,
          32.84057112200048
         ]
        ],
        [
         "2020",
         "2020",
         "AL",
         "Alabama",
         "Tobacco",
         "Current cigarette smoking among adults",
         "20.5",
         "Male",
         "01",
         [
          -86.63186076199969,
          32.84057112200048
         ]
        ],
        [
         "2020",
         "2020",
         "AK",
         "Alaska",
         "Asthma",
         "Current asthma among adults",
         "16.2",
         "Hispanic",
         "02",
         [
          -147.72205903599973,
          64.84507995700051
         ]
        ],
        [
         "2020",
         "2020",
         "AK",
         "Alaska",
         "Health Status",
         "Fair or poor self-rated health status among adults",
         "13.5",
         "American Indian or Alaska Native, non-Hispanic",
         "02",
         [
          -147.72205903599973,
          64.84507995700051
         ]
        ],
        [
         "2020",
         "2020",
         "AK",
         "Alaska",
         "Oral Health",
         "No teeth lost among adults aged 18-64 years",
         "67.6",
         "Female",
         "02",
         [
          -147.72205903599973,
          64.84507995700051
         ]
        ],
        [
         "2020",
         "2020",
         "AZ",
         "Arizona",
         "Diabetes",
         "Diabetes mortality among all people, underlying or contributing cause",
         "1960",
         "Age 45-64",
         "04",
         [
          -111.76381127699972,
          34.865970280000454
         ]
        ],
        [
         "2020",
         "2020",
         "AZ",
         "Arizona",
         "Immunization",
         "Influenza vaccination among adults",
         "41.3",
         "Age 45-64",
         "04",
         [
          -111.76381127699972,
          34.865970280000454
         ]
        ],
        [
         "2020",
         "2020",
         "AZ",
         "Arizona",
         "Oral Health",
         "All teeth lost among adults aged 65 years and older",
         "35.4",
         "Black, non-Hispanic",
         "04",
         [
          -111.76381127699972,
          34.865970280000454
         ]
        ],
        [
         "2020",
         "2020",
         "AR",
         "Arkansas",
         "Alcohol",
         "Chronic liver disease mortality among all people, underlying cause",
         "218",
         "Female",
         "05",
         [
          -92.27449074299966,
          34.74865012400045
         ]
        ],
        [
         "2020",
         "2020",
         "AR",
         "Arkansas",
         "Cancer",
         "Mammography use among women aged 50-74 years",
         "74.2",
         "Overall",
         "05",
         [
          -92.27449074299966,
          34.74865012400045
         ]
        ],
        [
         "2020",
         "2020",
         "AR",
         "Arkansas",
         "Cardiovascular Disease",
         "Cerebrovascular disease (stroke) mortality among all people, underlying cause",
         "744",
         "Male",
         "05",
         [
          -92.27449074299966,
          34.74865012400045
         ]
        ],
        [
         "2020",
         "2020",
         "AR",
         "Arkansas",
         "Health Status",
         "2 or more chronic conditions among adults",
         "17.7",
         "Male",
         "05",
         [
          -92.27449074299966,
          34.74865012400045
         ]
        ],
        [
         "2020",
         "2020",
         "AR",
         "Arkansas",
         "Mental Health",
         "Average mentally unhealthy days among adults",
         "2.7",
         "Age 45-64",
         "05",
         [
          -92.27449074299966,
          34.74865012400045
         ]
        ],
        [
         "2020",
         "2020",
         "AR",
         "Arkansas",
         "Oral Health",
         "All teeth lost among adults aged 65 years and older",
         "20.7",
         "Male",
         "05",
         [
          -92.27449074299966,
          34.74865012400045
         ]
        ],
        [
         "2020",
         "2021",
         "AR",
         "Arkansas",
         "Sleep",
         "Short sleep duration among children aged 4 months to 14 years",
         "46.4",
         "Age 4 m - 5 y",
         "05",
         [
          -92.27449074299966,
          34.74865012400045
         ]
        ],
        [
         "2020",
         "2020",
         "CA",
         "California",
         "Immunization",
         "Influenza vaccination among adults",
         "38.3",
         "Hispanic",
         "06",
         [
          -120.99999953799971,
          37.63864012300047
         ]
        ],
        [
         "2020",
         "2020",
         "CA",
         "California",
         "Mental Health",
         "Depression among adults",
         "14.1",
         "Overall",
         "06",
         [
          -120.99999953799971,
          37.63864012300047
         ]
        ],
        [
         "2020",
         "2020",
         "CO",
         "Colorado",
         "Diabetes",
         "Diabetic ketoacidosis mortality among all people, underlying or contributing cause",
         "35",
         "Age 0-44",
         "08",
         [
          -106.13361092099967,
          38.843840757000464
         ]
        ],
        [
         "2020",
         "2020",
         "CO",
         "Colorado",
         "Health Status",
         "Frequent physical distress among adults",
         "10.1",
         "Female",
         "08",
         [
          -106.13361092099967,
          38.843840757000464
         ]
        ],
        [
         "2020",
         "2020",
         "CO",
         "Colorado",
         "Health Status",
         "2 or more chronic conditions among adults",
         "35",
         "Age >=65",
         "08",
         [
          -106.13361092099967,
          38.843840757000464
         ]
        ],
        [
         "2020",
         "2020",
         "CO",
         "Colorado",
         "Health Status",
         "Life expectancy at birth",
         "80.9",
         "Female",
         "08",
         [
          -106.13361092099967,
          38.843840757000464
         ]
        ],
        [
         "2020",
         "2020",
         "CO",
         "Colorado",
         "Tobacco",
         "Current cigarette smoking among adults",
         "13.5",
         "Male",
         "08",
         [
          -106.13361092099967,
          38.843840757000464
         ]
        ],
        [
         "2020",
         "2020",
         "CT",
         "Connecticut",
         "Cardiovascular Disease",
         "Coronary heart disease mortality among all people, underlying cause",
         "2076",
         "Male",
         "09",
         [
          -72.64984095199964,
          41.56266102000046
         ]
        ],
        [
         "2020",
         "2020",
         "DE",
         "Delaware",
         "Chronic Obstructive Pulmonary Disease",
         "Chronic obstructive pulmonary disease among adults",
         "4.8",
         "Female",
         "10",
         [
          -75.57774116799965,
          39.008830667000495
         ]
        ],
        [
         "2020",
         "2020",
         "DE",
         "Delaware",
         "Cardiovascular Disease",
         "Cerebrovascular disease (stroke) mortality among all people, underlying cause",
         "653",
         "Age >=65",
         "10",
         [
          -75.57774116799965,
          39.008830667000495
         ]
        ],
        [
         "2020",
         "2020",
         "DE",
         "Delaware",
         "Diabetes",
         "Diabetes among adults",
         "14.3",
         "Age 45-64",
         "10",
         [
          -75.57774116799965,
          39.008830667000495
         ]
        ],
        [
         "2020",
         "2020",
         "DE",
         "Delaware",
         "Disability",
         "Adults with any disability",
         "38.5",
         "Age >=65",
         "10",
         [
          -75.57774116799965,
          39.008830667000495
         ]
        ],
        [
         "2020",
         "2020",
         "DE",
         "Delaware",
         "Disability",
         "Adults with any disability",
         "24.7",
         "Male",
         "10",
         [
          -75.57774116799965,
          39.008830667000495
         ]
        ],
        [
         "2020",
         "2020",
         "DE",
         "Delaware",
         "Mental Health",
         "Frequent mental distress among adults",
         "12.6",
         "White, non-Hispanic",
         "10",
         [
          -75.57774116799965,
          39.008830667000495
         ]
        ],
        [
         "2020",
         "2020",
         "DC",
         "District of Columbia",
         "Alcohol",
         "Binge drinking prevalence among adults",
         "24.8",
         "Male",
         "11",
         [
          -77.036871,
          38.907192
         ]
        ],
        [
         "2020",
         "2020",
         "FL",
         "Florida",
         "Tobacco",
         "Current cigarette smoking among adults",
         "18.6",
         "Male",
         "12",
         [
          -81.92896053899966,
          28.932040377000476
         ]
        ],
        [
         "2020",
         "2020",
         "GA",
         "Georgia",
         "Alcohol",
         "Chronic liver disease mortality among all people, underlying cause",
         "765",
         "Age 45-64",
         "13",
         [
          -83.62758034599966,
          32.83968109300048
         ]
        ],
        [
         "2020",
         "2020",
         "GA",
         "Georgia",
         "Health Status",
         "2 or more chronic conditions among adults",
         "4.3",
         "Age 18-44",
         "13",
         [
          -83.62758034599966,
          32.83968109300048
         ]
        ],
        [
         "2020",
         "2020",
         "GU",
         "Guam",
         "Mental Health",
         "Depression among adults",
         "7.9",
         "Age 18-44",
         "66",
         [
          144.793731,
          13.444304
         ]
        ],
        [
         "2020",
         "2020",
         "GU",
         "Guam",
         "Oral Health",
         "No teeth lost among adults aged 18-64 years",
         "56.1",
         "Overall",
         "66",
         [
          144.793731,
          13.444304
         ]
        ],
        [
         "2020",
         "2020",
         "GU",
         "Guam",
         "Oral Health",
         "Visited dentist or dental clinic in the past year among adults",
         "53.3",
         "Male",
         "66",
         [
          144.793731,
          13.444304
         ]
        ],
        [
         "2020",
         "2020",
         "GU",
         "Guam",
         "Sleep",
         "Short sleep duration among adults",
         "48",
         "Age 45-64",
         "66",
         [
          144.793731,
          13.444304
         ]
        ],
        [
         "2020",
         "2020",
         "HI",
         "Hawaii",
         "Cancer",
         "Cervical cancer screening among women aged 21-65 years",
         "80.6",
         "Overall",
         "15",
         [
          -157.85774940299973,
          21.304850435000446
         ]
        ],
        [
         "2020",
         "2020",
         "HI",
         "Hawaii",
         "Diabetes",
         "Diabetes among adults",
         "12.2",
         "Age 45-64",
         "15",
         [
          -157.85774940299973,
          21.304850435000446
         ]
        ],
        [
         "2020",
         "2020",
         "HI",
         "Hawaii",
         "Mental Health",
         "Frequent mental distress among adults",
         "10.4",
         "Age 45-64",
         "15",
         [
          -157.85774940299973,
          21.304850435000446
         ]
        ],
        [
         "2020",
         "2020",
         "HI",
         "Hawaii",
         "Mental Health",
         "Frequent mental distress among adults",
         "7.7",
         "Asian, non-Hispanic",
         "15",
         [
          -157.85774940299973,
          21.304850435000446
         ]
        ],
        [
         "2020",
         "2020",
         "HI",
         "Hawaii",
         "Nutrition, Physical Activity, and Weight Status",
         "No leisure-time physical activity among adults",
         "16.6",
         "Male",
         "15",
         [
          -157.85774940299973,
          21.304850435000446
         ]
        ],
        [
         "2020",
         "2020",
         "HI",
         "Hawaii",
         "Tobacco",
         "Current cigarette smoking among adults",
         "12.1",
         "Male",
         "15",
         [
          -157.85774940299973,
          21.304850435000446
         ]
        ],
        [
         "2020",
         "2020",
         "ID",
         "Idaho",
         "Cancer",
         "Mammography use among women aged 50-74 years",
         "71.6",
         "Overall",
         "16",
         [
          -114.3637300419997,
          43.682630005000476
         ]
        ],
        [
         "2020",
         "2020",
         "IL",
         "Illinois",
         "Asthma",
         "Asthma mortality among all people, underlying cause",
         "67",
         "White, non-Hispanic",
         "17",
         [
          -88.99771017799969,
          40.48501028300046
         ]
        ],
        [
         "2020",
         "2020",
         "IL",
         "Illinois",
         "Diabetes",
         "Diabetes mortality among all people, underlying or contributing cause",
         "6140",
         "Female",
         "17",
         [
          -88.99771017799969,
          40.48501028300046
         ]
        ],
        [
         "2020",
         "2020",
         "IL",
         "Illinois",
         "Health Status",
         "Frequent physical distress among adults",
         "14.8",
         "Hispanic",
         "17",
         [
          -88.99771017799969,
          40.48501028300046
         ]
        ],
        [
         "2020",
         "2020",
         "IL",
         "Illinois",
         "Oral Health",
         "Six or more teeth lost among adults aged 65 years and older",
         "27.3",
         "Male",
         "17",
         [
          -88.99771017799969,
          40.48501028300046
         ]
        ],
        [
         "2020",
         "2020",
         "IN",
         "Indiana",
         "Alcohol",
         "Binge drinking frequency among adults who binge drink",
         "5.7",
         "Male",
         "18",
         [
          -86.14996019399968,
          39.766910452000445
         ]
        ],
        [
         "2020",
         "2020",
         "IN",
         "Indiana",
         "Social Determinants of Health",
         "Routine checkup within the past year among adults",
         "91",
         "Age >=65",
         "18",
         [
          -86.14996019399968,
          39.766910452000445
         ]
        ],
        [
         "2020",
         "2020",
         "IA",
         "Iowa",
         "Asthma",
         "Current asthma among adults",
         "9.8",
         "Overall",
         "19",
         [
          -93.81649055599968,
          42.46940091300047
         ]
        ],
        [
         "2020",
         "2020",
         "IA",
         "Iowa",
         "Diabetes",
         "Diabetic ketoacidosis mortality among all people, underlying or contributing cause",
         "60",
         "Male",
         "19",
         [
          -93.81649055599968,
          42.46940091300047
         ]
        ],
        [
         "2020",
         "2020",
         "KS",
         "Kansas",
         "Diabetes",
         "Diabetic ketoacidosis mortality among all people, underlying or contributing cause",
         "55",
         "White, non-Hispanic",
         "20",
         [
          -98.20078122699965,
          38.34774030000045
         ]
        ],
        [
         "2020",
         "2020",
         "KS",
         "Kansas",
         "Health Status",
         "Frequent physical distress among adults",
         "7.9",
         "Male",
         "20",
         [
          -98.20078122699965,
          38.34774030000045
         ]
        ],
        [
         "2020",
         "2020",
         "KS",
         "Kansas",
         "Health Status",
         "Recent activity limitation among adults",
         "1.9",
         "Male",
         "20",
         [
          -98.20078122699965,
          38.34774030000045
         ]
        ],
        [
         "2020",
         "2020",
         "KS",
         "Kansas",
         "Tobacco",
         "Quit attempts in the past year among adult current smokers",
         "53.7",
         "Male",
         "20",
         [
          -98.20078122699965,
          38.34774030000045
         ]
        ],
        [
         "2020",
         "2020",
         "KY",
         "Kentucky",
         "Alcohol",
         "Binge drinking prevalence among adults",
         "4",
         "Age >=65",
         "21",
         [
          -84.77497104799966,
          37.645970271000465
         ]
        ],
        [
         "2020",
         "2020",
         "KY",
         "Kentucky",
         "Diabetes",
         "Diabetes among adults",
         "14.4",
         "Male",
         "21",
         [
          -84.77497104799966,
          37.645970271000465
         ]
        ],
        [
         "2020",
         "2020",
         "KY",
         "Kentucky",
         "Mental Health",
         "Depression among adults",
         "30.7",
         "Female",
         "21",
         [
          -84.77497104799966,
          37.645970271000465
         ]
        ],
        [
         "2020",
         "2020",
         "LA",
         "Louisiana",
         "Oral Health",
         "No teeth lost among adults aged 18-64 years",
         "57.8",
         "Female",
         "22",
         [
          -92.44568007099969,
          31.31266064400046
         ]
        ],
        [
         "2020",
         "2021",
         "LA",
         "Louisiana",
         "Sleep",
         "Short sleep duration among children aged 4 months to 14 years",
         "46.9",
         "Male",
         "22",
         [
          -92.44568007099969,
          31.31266064400046
         ]
        ],
        [
         "2020",
         "2020",
         "ME",
         "Maine",
         "Cardiovascular Disease",
         "Diseases of the heart mortality among all people, underlying cause",
         "2528",
         "Age >=65",
         "23",
         [
          -68.98503133599962,
          45.254228894000505
         ]
        ],
        [
         "2020",
         "2020",
         "ME",
         "Maine",
         "Immunization",
         "Pneumococcal vaccination among adults aged 65 years and older",
         "70.3",
         "Male",
         "23",
         [
          -68.98503133599962,
          45.254228894000505
         ]
        ],
        [
         "2020",
         "2020",
         "ME",
         "Maine",
         "Oral Health",
         "No teeth lost among adults aged 18-64 years",
         "62.6",
         "Male",
         "23",
         [
          -68.98503133599962,
          45.254228894000505
         ]
        ],
        [
         "2020",
         "2020",
         "ME",
         "Maine",
         "Social Determinants of Health",
         "Routine checkup within the past year among adults",
         "69.1",
         "Age 18-44",
         "23",
         [
          -68.98503133599962,
          45.254228894000505
         ]
        ],
        [
         "2020",
         "2020",
         "MD",
         "Maryland",
         "Alcohol",
         "Binge drinking intensity among adults who binge drink",
         "7.9",
         "Age 18-44",
         "24",
         [
          -76.60926011099963,
          39.29058096400047
         ]
        ],
        [
         "2020",
         "2020",
         "MD",
         "Maryland",
         "Alcohol",
         "Chronic liver disease mortality among all people, underlying cause",
         "480",
         "White, non-Hispanic",
         "24",
         [
          -76.60926011099963,
          39.29058096400047
         ]
        ],
        [
         "2020",
         "2020",
         "MD",
         "Maryland",
         "Diabetes",
         "Gestational diabetes among women with a recent live birth",
         "20",
         "Asian, non-Hispanic",
         "24",
         [
          -76.60926011099963,
          39.29058096400047
         ]
        ],
        [
         "2020",
         "2020",
         "MD",
         "Maryland",
         "Health Status",
         "Life expectancy at birth",
         "73.8",
         "Male",
         "24",
         [
          -76.60926011099963,
          39.29058096400047
         ]
        ],
        [
         "2020",
         "2020",
         "MD",
         "Maryland",
         "Immunization",
         "Influenza vaccination among adults 18â€“64 who are at increased risk",
         "46.2",
         "Black, non-Hispanic",
         "24",
         [
          -76.60926011099963,
          39.29058096400047
         ]
        ],
        [
         "2020",
         "2020",
         "MD",
         "Maryland",
         "Mental Health",
         "Frequent mental distress among adults",
         "10.9",
         "Asian, non-Hispanic",
         "24",
         [
          -76.60926011099963,
          39.29058096400047
         ]
        ],
        [
         "2020",
         "2020",
         "MD",
         "Maryland",
         "Oral Health",
         "No teeth lost among adults aged 18-64 years",
         "67.2",
         "Female",
         "24",
         [
          -76.60926011099963,
          39.29058096400047
         ]
        ],
        [
         "2020",
         "2020",
         "MA",
         "Massachusetts",
         "Alcohol",
         "Binge drinking prevalence among adults",
         "20.3",
         "Male",
         "25",
         [
          -72.08269067499964,
          42.27687047000046
         ]
        ],
        [
         "2020",
         "2020",
         "MA",
         "Massachusetts",
         "Asthma",
         "Asthma mortality among all people, underlying cause",
         "30",
         "Age 45-64",
         "25",
         [
          -72.08269067499964,
          42.27687047000046
         ]
        ],
        [
         "2020",
         "2020",
         "MA",
         "Massachusetts",
         "Asthma",
         "Asthma mortality among all people, underlying cause",
         "33",
         "Male",
         "25",
         [
          -72.08269067499964,
          42.27687047000046
         ]
        ],
        [
         "2020",
         "2020",
         "MA",
         "Massachusetts",
         "Chronic Obstructive Pulmonary Disease",
         "Chronic obstructive pulmonary disease among adults",
         "4.3",
         "Age 45-64",
         "25",
         [
          -72.08269067499964,
          42.27687047000046
         ]
        ],
        [
         "2020",
         "2020",
         "MA",
         "Massachusetts",
         "Diabetes",
         "Diabetic ketoacidosis mortality among all people, underlying or contributing cause",
         "46",
         "Age 45-64",
         "25",
         [
          -72.08269067499964,
          42.27687047000046
         ]
        ],
        [
         "2020",
         "2020",
         "MA",
         "Massachusetts",
         "Immunization",
         "Influenza vaccination among adults",
         "50.5",
         "Hispanic",
         "25",
         [
          -72.08269067499964,
          42.27687047000046
         ]
        ],
        [
         "2020",
         "2020",
         "MA",
         "Massachusetts",
         "Tobacco",
         "Current cigarette smoking among adults",
         "9.5",
         "Female",
         "25",
         [
          -72.08269067499964,
          42.27687047000046
         ]
        ],
        [
         "2020",
         "2020",
         "MI",
         "Michigan",
         "Alcohol",
         "Chronic liver disease mortality among all people, underlying cause",
         "12.1",
         "Female",
         "26",
         [
          -84.71439026999968,
          44.6613195430005
         ]
        ],
        [
         "2020",
         "2020",
         "MI",
         "Michigan",
         "Disability",
         "Adults with any disability",
         "20.5",
         "Age 18-44",
         "26",
         [
          -84.71439026999968,
          44.6613195430005
         ]
        ],
        [
         "2020",
         "2020",
         "MI",
         "Michigan",
         "Immunization",
         "Pneumococcal vaccination among adults aged 65 years and older",
         "71.7",
         "Overall",
         "26",
         [
          -84.71439026999968,
          44.6613195430005
         ]
        ],
        [
         "2020",
         "2020",
         "MI",
         "Michigan",
         "Tobacco",
         "Current cigarette smoking among adults",
         "17.1",
         "Female",
         "26",
         [
          -84.71439026999968,
          44.6613195430005
         ]
        ],
        [
         "2020",
         "2020",
         "MN",
         "Minnesota",
         "Asthma",
         "Current asthma among adults",
         "9.2",
         "Age 45-64",
         "27",
         [
          -94.79420050299967,
          46.35564873600049
         ]
        ],
        [
         "2020",
         "2020",
         "MN",
         "Minnesota",
         "Cardiovascular Disease",
         "Cerebrovascular disease (stroke) mortality among all people, underlying cause",
         "2092",
         "White, non-Hispanic",
         "27",
         [
          -94.79420050299967,
          46.35564873600049
         ]
        ],
        [
         "2020",
         "2020",
         "MN",
         "Minnesota",
         "Cardiovascular Disease",
         "Diseases of the heart mortality among all people, underlying cause",
         "208",
         "Age 0-44",
         "27",
         [
          -94.79420050299967,
          46.35564873600049
         ]
        ],
        [
         "2020",
         "2020",
         "MN",
         "Minnesota",
         "Disability",
         "Adults with any disability",
         "20.5",
         "Female",
         "27",
         [
          -94.79420050299967,
          46.35564873600049
         ]
        ],
        [
         "2020",
         "2020",
         "MN",
         "Minnesota",
         "Immunization",
         "Influenza vaccination among adults",
         "50.6",
         "Age 45-64",
         "27",
         [
          -94.79420050299967,
          46.35564873600049
         ]
        ],
        [
         "2020",
         "2020",
         "MN",
         "Minnesota",
         "Mental Health",
         "Depression among adults",
         "20.8",
         "White, non-Hispanic",
         "27",
         [
          -94.79420050299967,
          46.35564873600049
         ]
        ],
        [
         "2020",
         "2020",
         "MN",
         "Minnesota",
         "Social Determinants of Health",
         "Lack of health insurance among adults aged 18-64 years",
         "7.4",
         "White, non-Hispanic",
         "27",
         [
          -94.79420050299967,
          46.35564873600049
         ]
        ],
        [
         "2020",
         "2020",
         "MN",
         "Minnesota",
         "Sleep",
         "Short sleep duration among adults",
         "25.5",
         "Female",
         "27",
         [
          -94.79420050299967,
          46.35564873600049
         ]
        ],
        [
         "2020",
         "2020",
         "MS",
         "Mississippi",
         "Asthma",
         "Asthma mortality among all people, underlying cause",
         "31",
         "Female",
         "28",
         [
          -89.53803082499968,
          32.745510099000455
         ]
        ],
        [
         "2020",
         "2020",
         "MS",
         "Mississippi",
         "Cancer",
         "Cervical cancer screening among women aged 21-65 years",
         "86.9",
         "Overall",
         "28",
         [
          -89.53803082499968,
          32.745510099000455
         ]
        ],
        [
         "2020",
         "2020",
         "MS",
         "Mississippi",
         "Cardiovascular Disease",
         "Cerebrovascular disease (stroke) mortality among all people, underlying cause",
         "1948",
         "Overall",
         "28",
         [
          -89.53803082499968,
          32.745510099000455
         ]
        ],
        [
         "2020",
         "2020",
         "MS",
         "Mississippi",
         "Cardiovascular Disease",
         "Diseases of the heart mortality among all people, underlying cause",
         "334",
         "Age 0-44",
         "28",
         [
          -89.53803082499968,
          32.745510099000455
         ]
        ],
        [
         "2020",
         "2020",
         "MS",
         "Mississippi",
         "Oral Health",
         "No teeth lost among adults aged 18-64 years",
         "55.8",
         "Male",
         "28",
         [
          -89.53803082499968,
          32.745510099000455
         ]
        ],
        [
         "2020",
         "2020",
         "MO",
         "Missouri",
         "Alcohol",
         "Binge drinking frequency among adults who binge drink",
         "4.8",
         "White, non-Hispanic",
         "29",
         [
          -92.56630005299968,
          38.635790776000476
         ]
        ],
        [
         "2020",
         "2020",
         "MO",
         "Missouri",
         "Chronic Obstructive Pulmonary Disease",
         "Chronic obstructive pulmonary disease mortality among adults aged 45 years and older, underlying cause",
         "1801",
         "Male",
         "29",
         [
          -92.56630005299968,
          38.635790776000476
         ]
        ],
        [
         "2020",
         "2020",
         "MO",
         "Missouri",
         "Diabetes",
         "Diabetes among adults",
         "3",
         "Age 18-44",
         "29",
         [
          -92.56630005299968,
          38.635790776000476
         ]
        ]
       ],
       "datasetInfos": [],
       "dbfsResultPath": null,
       "isJsonSchema": true,
       "metadata": {},
       "overflow": false,
       "plotOptions": {
        "customPlotOptions": {},
        "displayType": "table",
        "pivotAggregation": null,
        "pivotColumns": null,
        "xColumns": null,
        "yColumns": null
       },
       "removedWidgets": [],
       "schema": [
        {
         "metadata": "{}",
         "name": "yearstart",
         "type": "\"string\""
        },
        {
         "metadata": "{}",
         "name": "yearend",
         "type": "\"string\""
        },
        {
         "metadata": "{}",
         "name": "locationabbr",
         "type": "\"string\""
        },
        {
         "metadata": "{}",
         "name": "locationdesc",
         "type": "\"string\""
        },
        {
         "metadata": "{}",
         "name": "topic",
         "type": "\"string\""
        },
        {
         "metadata": "{}",
         "name": "question",
         "type": "\"string\""
        },
        {
         "metadata": "{}",
         "name": "datavalue",
         "type": "\"string\""
        },
        {
         "metadata": "{}",
         "name": "stratification1",
         "type": "\"string\""
        },
        {
         "metadata": "{}",
         "name": "locationid",
         "type": "\"string\""
        },
        {
         "metadata": "{}",
         "name": "coordinates",
         "type": "{\"type\":\"array\",\"elementType\":\"double\",\"containsNull\":true}"
        }
       ],
       "type": "table"
      }
     },
     "output_type": "display_data"
    }
   ],
   "source": [
    "# CDC data must be accessed through an endpoint - set up logic and only pull certain columns \n",
    "import requests\n",
    "from pyspark.sql import Row\n",
    "from pyspark.sql.functions import col, explode\n",
    "\n",
    "\n",
    "api_url = \"https://data.cdc.gov/resource/hksd-2xuw.json?$limit=500\"\n",
    "response = requests.get(api_url)\n",
    "appointments = response.json()\n",
    "\n",
    "# handle inconsistent data types\n",
    "def normalize_record(record):\n",
    "    return {\n",
    "        \"yearstart\": record.get(\"yearstart\", None),\n",
    "        \"yearend\": record.get(\"yearend\", None),\n",
    "        \"locationabbr\": record.get(\"locationabbr\", None),\n",
    "        \"locationdesc\": record.get(\"locationdesc\", None),\n",
    "        \"topic\": record.get(\"topic\", None),\n",
    "        \"question\": record.get(\"question\", None),\n",
    "        \"datavalue\": record.get(\"datavalue\", None),\n",
    "        \"stratification1\": record.get(\"stratification1\", None),\n",
    "        \"locationid\": record.get(\"locationid\", None),\n",
    "        \"coordinates\": record.get(\"geolocation\", {}).get(\"coordinates\", None)\n",
    "    }\n",
    "\n",
    "\n",
    "normalized_data = [Row(**normalize_record(record)) for record in appointments]\n",
    "appointments_df = spark.createDataFrame(normalized_data)\n",
    "display(appointments_df)\n"
   ]
  },
  {
   "cell_type": "code",
   "execution_count": 0,
   "metadata": {
    "application/vnd.databricks.v1+cell": {
     "cellMetadata": {
      "byteLimit": 2048000,
      "rowLimit": 10000
     },
     "inputWidgets": {},
     "nuid": "65e55248-2240-4cde-b6bb-84c574ec7482",
     "showTitle": false,
     "tableResultSettingsMap": {},
     "title": ""
    }
   },
   "outputs": [
    {
     "output_type": "display_data",
     "data": {
      "text/html": [
       "<style scoped>\n",
       "  .table-result-container {\n",
       "    max-height: 300px;\n",
       "    overflow: auto;\n",
       "  }\n",
       "  table, th, td {\n",
       "    border: 1px solid black;\n",
       "    border-collapse: collapse;\n",
       "  }\n",
       "  th, td {\n",
       "    padding: 5px;\n",
       "  }\n",
       "  th {\n",
       "    text-align: left;\n",
       "  }\n",
       "</style><div class='table-result-container'><table class='table-result'><thead style='background-color: white'><tr><th>yearstart</th><th>yearend</th><th>locationabbr</th><th>locationdesc</th><th>topic</th><th>question</th><th>datavalue</th><th>stratification1</th><th>locationid</th><th>coordinates</th></tr></thead><tbody><tr><td>2020</td><td>2020</td><td>US</td><td>United States</td><td>Health Status</td><td>Recent activity limitation among adults</td><td>2.9</td><td>Female</td><td>59</td><td>null</td></tr><tr><td>2015</td><td>2019</td><td>AR</td><td>Arkansas</td><td>Cancer</td><td>Invasive cancer (all sites combined), incidence</td><td>9537</td><td>Male</td><td>05</td><td>List(-92.27449074299966, 34.74865012400045)</td></tr><tr><td>2015</td><td>2019</td><td>CA</td><td>California</td><td>Cancer</td><td>Cervical cancer mortality among all females, underlying cause</td><td>486</td><td>Overall</td><td>06</td><td>List(-120.99999953799971, 37.63864012300047)</td></tr><tr><td>2015</td><td>2019</td><td>CO</td><td>Colorado</td><td>Cancer</td><td>Invasive cancer (all sites combined), incidence</td><td>2880</td><td>Hispanic</td><td>08</td><td>List(-106.13361092099967, 38.843840757000464)</td></tr><tr><td>2015</td><td>2019</td><td>GA</td><td>Georgia</td><td>Cancer</td><td>Prostate cancer mortality among all males, underlying cause</td><td>519</td><td>White, non-Hispanic</td><td>13</td><td>List(-83.62758034599966, 32.83968109300048)</td></tr></tbody></table></div>"
      ]
     },
     "metadata": {
      "application/vnd.databricks.v1+output": {
       "addedWidgets": {},
       "aggData": [],
       "aggError": "",
       "aggOverflow": false,
       "aggSchema": [],
       "aggSeriesLimitReached": false,
       "aggType": "",
       "arguments": {},
       "columnCustomDisplayInfos": {},
       "data": [
        [
         "2020",
         "2020",
         "US",
         "United States",
         "Health Status",
         "Recent activity limitation among adults",
         "2.9",
         "Female",
         "59",
         null
        ],
        [
         "2015",
         "2019",
         "AR",
         "Arkansas",
         "Cancer",
         "Invasive cancer (all sites combined), incidence",
         "9537",
         "Male",
         "05",
         [
          -92.27449074299966,
          34.74865012400045
         ]
        ],
        [
         "2015",
         "2019",
         "CA",
         "California",
         "Cancer",
         "Cervical cancer mortality among all females, underlying cause",
         "486",
         "Overall",
         "06",
         [
          -120.99999953799971,
          37.63864012300047
         ]
        ],
        [
         "2015",
         "2019",
         "CO",
         "Colorado",
         "Cancer",
         "Invasive cancer (all sites combined), incidence",
         "2880",
         "Hispanic",
         "08",
         [
          -106.13361092099967,
          38.843840757000464
         ]
        ],
        [
         "2015",
         "2019",
         "GA",
         "Georgia",
         "Cancer",
         "Prostate cancer mortality among all males, underlying cause",
         "519",
         "White, non-Hispanic",
         "13",
         [
          -83.62758034599966,
          32.83968109300048
         ]
        ]
       ],
       "datasetInfos": [],
       "dbfsResultPath": null,
       "isJsonSchema": true,
       "metadata": {},
       "overflow": false,
       "plotOptions": {
        "customPlotOptions": {},
        "displayType": "table",
        "pivotAggregation": null,
        "pivotColumns": null,
        "xColumns": null,
        "yColumns": null
       },
       "removedWidgets": [],
       "schema": [
        {
         "metadata": "{}",
         "name": "yearstart",
         "type": "\"string\""
        },
        {
         "metadata": "{}",
         "name": "yearend",
         "type": "\"string\""
        },
        {
         "metadata": "{}",
         "name": "locationabbr",
         "type": "\"string\""
        },
        {
         "metadata": "{}",
         "name": "locationdesc",
         "type": "\"string\""
        },
        {
         "metadata": "{}",
         "name": "topic",
         "type": "\"string\""
        },
        {
         "metadata": "{}",
         "name": "question",
         "type": "\"string\""
        },
        {
         "metadata": "{}",
         "name": "datavalue",
         "type": "\"string\""
        },
        {
         "metadata": "{}",
         "name": "stratification1",
         "type": "\"string\""
        },
        {
         "metadata": "{}",
         "name": "locationid",
         "type": "\"string\""
        },
        {
         "metadata": "{}",
         "name": "coordinates",
         "type": "{\"type\":\"array\",\"elementType\":\"double\",\"containsNull\":true}"
        }
       ],
       "type": "table"
      }
     },
     "output_type": "display_data"
    }
   ],
   "source": [
    "# Save CDC data to the bronze layer \n",
    "appointments_df.write.mode(\"overwrite\").format(\"delta\").save(\"/mnt/datalake/gold/fact_cdc_health\")\n",
    "\n",
    "# Register the table in SQL\n",
    "spark.sql(f\"\"\"\n",
    "  CREATE TABLE IF NOT EXISTS fact_cdc_health\n",
    "  USING DELTA\n",
    "  LOCATION '/mnt/datalake/gold/fact_cdc_health'\n",
    "\"\"\")\n",
    "display(spark.sql(\"SELECT * FROM fact_cdc_health LIMIT 5\"))"
   ]
  },
  {
   "cell_type": "markdown",
   "metadata": {
    "application/vnd.databricks.v1+cell": {
     "cellMetadata": {},
     "inputWidgets": {},
     "nuid": "017ad91c-96a9-4f5f-884b-4af2c68b10d1",
     "showTitle": false,
     "tableResultSettingsMap": {},
     "title": ""
    }
   },
   "source": [
    "After data is populated into dataframes, we build dimensions that will hold the data. Then perform a number of queries."
   ]
  },
  {
   "cell_type": "code",
   "execution_count": 0,
   "metadata": {
    "application/vnd.databricks.v1+cell": {
     "cellMetadata": {
      "byteLimit": 2048000,
      "rowLimit": 10000
     },
     "inputWidgets": {},
     "nuid": "2db62f51-6eb5-4796-af35-7ce65e47e97c",
     "showTitle": false,
     "tableResultSettingsMap": {},
     "title": ""
    }
   },
   "outputs": [
    {
     "output_type": "stream",
     "name": "stdout",
     "output_type": "stream",
     "text": [
      "Out[15]: DataFrame[]"
     ]
    }
   ],
   "source": [
    "# Save Patients Dimension\n",
    "patients_df.write.mode(\"overwrite\").option(\"overwriteSchema\", \"true\").format(\"delta\").save(silver_patients)\n",
    "spark.sql(\"\"\"\n",
    "  CREATE TABLE IF NOT EXISTS dim_patients\n",
    "  USING DELTA\n",
    "  LOCATION '/mnt/datalake/silver/dim_patients'\n",
    "\"\"\")"
   ]
  },
  {
   "cell_type": "code",
   "execution_count": 0,
   "metadata": {
    "application/vnd.databricks.v1+cell": {
     "cellMetadata": {
      "byteLimit": 2048000,
      "rowLimit": 10000
     },
     "inputWidgets": {},
     "nuid": "73cb3efe-e420-4299-8940-42fccb9ba5e2",
     "showTitle": false,
     "tableResultSettingsMap": {},
     "title": ""
    }
   },
   "outputs": [
    {
     "output_type": "display_data",
     "data": {
      "text/html": [
       "<style scoped>\n",
       "  .table-result-container {\n",
       "    max-height: 300px;\n",
       "    overflow: auto;\n",
       "  }\n",
       "  table, th, td {\n",
       "    border: 1px solid black;\n",
       "    border-collapse: collapse;\n",
       "  }\n",
       "  th, td {\n",
       "    padding: 5px;\n",
       "  }\n",
       "  th {\n",
       "    text-align: left;\n",
       "  }\n",
       "</style><div class='table-result-container'><table class='table-result'><thead style='background-color: white'><tr><th>patient_id</th><th>age</th><th>gender</th><th>has_diabetes</th><th>has_hypertension</th></tr></thead><tbody><tr><td>2.9872499824296E13</td><td>62</td><td>F</td><td>0</td><td>1</td></tr><tr><td>5.58997776694438E14</td><td>56</td><td>M</td><td>0</td><td>0</td></tr><tr><td>4.262962299951E12</td><td>62</td><td>F</td><td>0</td><td>0</td></tr><tr><td>8.67951213174E11</td><td>8</td><td>F</td><td>0</td><td>0</td></tr><tr><td>8.841186448183E12</td><td>56</td><td>F</td><td>1</td><td>1</td></tr></tbody></table></div>"
      ]
     },
     "metadata": {
      "application/vnd.databricks.v1+output": {
       "addedWidgets": {},
       "aggData": [],
       "aggError": "",
       "aggOverflow": false,
       "aggSchema": [],
       "aggSeriesLimitReached": false,
       "aggType": "",
       "arguments": {},
       "columnCustomDisplayInfos": {},
       "data": [
        [
         2.9872499824296E13,
         62,
         "F",
         0,
         1
        ],
        [
         5.58997776694438E14,
         56,
         "M",
         0,
         0
        ],
        [
         4.262962299951E12,
         62,
         "F",
         0,
         0
        ],
        [
         8.67951213174E11,
         8,
         "F",
         0,
         0
        ],
        [
         8.841186448183E12,
         56,
         "F",
         1,
         1
        ]
       ],
       "datasetInfos": [],
       "dbfsResultPath": null,
       "isJsonSchema": true,
       "metadata": {},
       "overflow": false,
       "plotOptions": {
        "customPlotOptions": {},
        "displayType": "table",
        "pivotAggregation": null,
        "pivotColumns": null,
        "xColumns": null,
        "yColumns": null
       },
       "removedWidgets": [],
       "schema": [
        {
         "metadata": "{}",
         "name": "patient_id",
         "type": "\"double\""
        },
        {
         "metadata": "{}",
         "name": "age",
         "type": "\"integer\""
        },
        {
         "metadata": "{}",
         "name": "gender",
         "type": "\"string\""
        },
        {
         "metadata": "{}",
         "name": "has_diabetes",
         "type": "\"integer\""
        },
        {
         "metadata": "{}",
         "name": "has_hypertension",
         "type": "\"integer\""
        }
       ],
       "type": "table"
      }
     },
     "output_type": "display_data"
    }
   ],
   "source": [
    "display(spark.sql(\"SELECT * FROM dim_patients LIMIT 5\"))"
   ]
  },
  {
   "cell_type": "code",
   "execution_count": 0,
   "metadata": {
    "application/vnd.databricks.v1+cell": {
     "cellMetadata": {
      "byteLimit": 2048000,
      "rowLimit": 10000
     },
     "inputWidgets": {},
     "nuid": "37b98147-b156-4b1e-b7b2-d2d138d0bfda",
     "showTitle": false,
     "tableResultSettingsMap": {},
     "title": ""
    }
   },
   "outputs": [
    {
     "output_type": "stream",
     "name": "stdout",
     "output_type": "stream",
     "text": [
      "Out[16]: DataFrame[]"
     ]
    }
   ],
   "source": [
    "# Save Hospital Dimension\n",
    "hospital_df.write.mode(\"overwrite\").format(\"delta\").save(\"/mnt/datalake/silver/dim_hospitals\")\n",
    "spark.sql(\"\"\"\n",
    "  CREATE TABLE IF NOT EXISTS dim_hospitals\n",
    "  USING DELTA\n",
    "  LOCATION '/mnt/datalake/silver/dim_hospitals'\n",
    "\"\"\")"
   ]
  },
  {
   "cell_type": "code",
   "execution_count": 0,
   "metadata": {
    "application/vnd.databricks.v1+cell": {
     "cellMetadata": {
      "byteLimit": 2048000,
      "rowLimit": 10000
     },
     "inputWidgets": {},
     "nuid": "b9ac198c-0676-4bb8-9f3f-eae6ec6e77c6",
     "showTitle": false,
     "tableResultSettingsMap": {},
     "title": ""
    }
   },
   "outputs": [
    {
     "output_type": "display_data",
     "data": {
      "text/html": [
       "<style scoped>\n",
       "  .table-result-container {\n",
       "    max-height: 300px;\n",
       "    overflow: auto;\n",
       "  }\n",
       "  table, th, td {\n",
       "    border: 1px solid black;\n",
       "    border-collapse: collapse;\n",
       "  }\n",
       "  th, td {\n",
       "    padding: 5px;\n",
       "  }\n",
       "  th {\n",
       "    text-align: left;\n",
       "  }\n",
       "</style><div class='table-result-container'><table class='table-result'><thead style='background-color: white'><tr><th>facility_id</th><th>facility_name</th><th>City/Town</th><th>state</th><th>hospital_type</th><th>hospital_ownership</th><th>hospital_overall_rating</th></tr></thead><tbody><tr><td>10001.0</td><td>SOUTHEAST HEALTH MEDICAL CENTER</td><td>DOTHAN</td><td>AL</td><td>Acute Care Hospitals</td><td>Government - Hospital District or Authority</td><td>3</td></tr><tr><td>10005.0</td><td>MARSHALL MEDICAL CENTERS</td><td>BOAZ</td><td>AL</td><td>Acute Care Hospitals</td><td>Government - Hospital District or Authority</td><td>2</td></tr><tr><td>10006.0</td><td>NORTH ALABAMA MEDICAL CENTER</td><td>FLORENCE</td><td>AL</td><td>Acute Care Hospitals</td><td>Proprietary</td><td>1</td></tr><tr><td>10007.0</td><td>MIZELL MEMORIAL HOSPITAL</td><td>OPP</td><td>AL</td><td>Acute Care Hospitals</td><td>Voluntary non-profit - Private</td><td>1</td></tr><tr><td>10008.0</td><td>CRENSHAW COMMUNITY HOSPITAL</td><td>LUVERNE</td><td>AL</td><td>Acute Care Hospitals</td><td>Proprietary</td><td>Not Available</td></tr></tbody></table></div>"
      ]
     },
     "metadata": {
      "application/vnd.databricks.v1+output": {
       "addedWidgets": {},
       "aggData": [],
       "aggError": "",
       "aggOverflow": false,
       "aggSchema": [],
       "aggSeriesLimitReached": false,
       "aggType": "",
       "arguments": {},
       "columnCustomDisplayInfos": {},
       "data": [
        [
         10001.0,
         "SOUTHEAST HEALTH MEDICAL CENTER",
         "DOTHAN",
         "AL",
         "Acute Care Hospitals",
         "Government - Hospital District or Authority",
         "3"
        ],
        [
         10005.0,
         "MARSHALL MEDICAL CENTERS",
         "BOAZ",
         "AL",
         "Acute Care Hospitals",
         "Government - Hospital District or Authority",
         "2"
        ],
        [
         10006.0,
         "NORTH ALABAMA MEDICAL CENTER",
         "FLORENCE",
         "AL",
         "Acute Care Hospitals",
         "Proprietary",
         "1"
        ],
        [
         10007.0,
         "MIZELL MEMORIAL HOSPITAL",
         "OPP",
         "AL",
         "Acute Care Hospitals",
         "Voluntary non-profit - Private",
         "1"
        ],
        [
         10008.0,
         "CRENSHAW COMMUNITY HOSPITAL",
         "LUVERNE",
         "AL",
         "Acute Care Hospitals",
         "Proprietary",
         "Not Available"
        ]
       ],
       "datasetInfos": [],
       "dbfsResultPath": null,
       "isJsonSchema": true,
       "metadata": {},
       "overflow": false,
       "plotOptions": {
        "customPlotOptions": {},
        "displayType": "table",
        "pivotAggregation": null,
        "pivotColumns": null,
        "xColumns": null,
        "yColumns": null
       },
       "removedWidgets": [],
       "schema": [
        {
         "metadata": "{}",
         "name": "facility_id",
         "type": "\"double\""
        },
        {
         "metadata": "{}",
         "name": "facility_name",
         "type": "\"string\""
        },
        {
         "metadata": "{}",
         "name": "City/Town",
         "type": "\"string\""
        },
        {
         "metadata": "{}",
         "name": "state",
         "type": "\"string\""
        },
        {
         "metadata": "{}",
         "name": "hospital_type",
         "type": "\"string\""
        },
        {
         "metadata": "{}",
         "name": "hospital_ownership",
         "type": "\"string\""
        },
        {
         "metadata": "{}",
         "name": "hospital_overall_rating",
         "type": "\"string\""
        }
       ],
       "type": "table"
      }
     },
     "output_type": "display_data"
    }
   ],
   "source": [
    "display(spark.sql(\"SELECT * FROM dim_hospitals LIMIT 5\"))"
   ]
  },
  {
   "cell_type": "code",
   "execution_count": 0,
   "metadata": {
    "application/vnd.databricks.v1+cell": {
     "cellMetadata": {
      "byteLimit": 2048000,
      "rowLimit": 10000
     },
     "inputWidgets": {},
     "nuid": "27f845c5-1493-462e-89d5-7724e4f16b8a",
     "showTitle": false,
     "tableResultSettingsMap": {},
     "title": ""
    }
   },
   "outputs": [
    {
     "output_type": "stream",
     "name": "stdout",
     "output_type": "stream",
     "text": [
      "+--------------+--------------------+--------------------+----------+\n|    state_name|               topic|            question|avg_metric|\n+--------------+--------------------+--------------------+----------+\n| United States|              Cancer|Invasive cancer (...|  314982.0|\n|North Carolina|              Cancer|Invasive cancer (...|   30211.0|\n|         Texas|Chronic Obstructi...|Chronic obstructi...|   18663.0|\n|      Arkansas|              Cancer|Invasive cancer (...|    9537.0|\n|North Carolina|Chronic Obstructi...|Chronic obstructi...|    8594.0|\n|     Wisconsin|              Cancer|Invasive cancer (...|    8447.8|\n|        Kansas|              Cancer|Invasive cancer (...|    8102.0|\n|  Pennsylvania|Cardiovascular Di...|Coronary heart di...|    7189.0|\n|         Maine|              Cancer|Invasive cancer (...|    7001.0|\n|      New York|            Diabetes|Diabetes mortalit...|    6787.0|\n|    New Jersey|              Cancer|Invasive cancer (...|    5587.0|\n|      Illinois|            Diabetes|Diabetes mortalit...|    5432.0|\n|North Carolina|            Diabetes|Diabetes mortalit...|    4834.0|\n|    New Mexico|              Cancer|Invasive cancer (...|    4697.0|\n|    California|              Cancer|Breast cancer mor...|    4503.0|\n|North Carolina|Chronic Kidney Di...|Incidence of trea...|    4353.0|\n|      Virginia|            Diabetes|Diabetes mortalit...|    3914.0|\n|      New York|Chronic Obstructi...|Chronic obstructi...|    3669.0|\n|        Hawaii|              Cancer|Invasive cancer (...|    3644.0|\n|          Ohio|Cardiovascular Di...|Coronary heart di...|    2928.0|\n+--------------+--------------------+--------------------+----------+\nonly showing top 20 rows\n\n"
     ]
    }
   ],
   "source": [
    "# Calculate average health metric by state\n",
    "avg_health_by_state = spark.sql(\"\"\"\n",
    "SELECT locationdesc AS state_name, \n",
    "       topic, \n",
    "       question, \n",
    "       ROUND(AVG(CAST(datavalue AS FLOAT)), 2) AS avg_metric\n",
    "FROM fact_cdc_health\n",
    "GROUP BY locationdesc, topic, question\n",
    "ORDER BY avg_metric DESC\n",
    "\"\"\")\n",
    "avg_health_by_state.show()\n"
   ]
  },
  {
   "cell_type": "code",
   "execution_count": 0,
   "metadata": {
    "application/vnd.databricks.v1+cell": {
     "cellMetadata": {
      "byteLimit": 2048000,
      "rowLimit": 10000
     },
     "inputWidgets": {},
     "nuid": "f0804924-687d-4461-8484-34b948a54008",
     "showTitle": false,
     "tableResultSettingsMap": {},
     "title": ""
    }
   },
   "outputs": [
    {
     "output_type": "stream",
     "name": "stdout",
     "output_type": "stream",
     "text": [
      "+----+--------------------+--------------------+----------+\n|year|               topic|            question|avg_metric|\n+----+--------------------+--------------------+----------+\n|2020|            Diabetes|Diabetes mortalit...|    4050.0|\n|2020|Chronic Obstructi...|Chronic obstructi...|    1801.0|\n|2020|Cardiovascular Di...|Cerebrovascular d...|   1359.25|\n|2020|Cardiovascular Di...|Coronary heart di...|   1080.85|\n|2020|Cardiovascular Di...|Diseases of the h...|   1023.33|\n|2020|             Alcohol|Chronic liver dis...|    368.78|\n|2020|              Cancer|Cervical cancer s...|     83.75|\n|2020|Social Determinan...|Routine checkup w...|     80.05|\n|2020|       Health Status|Life expectancy a...|     77.35|\n|2020|              Cancer|Mammography use a...|      72.9|\n|2020|        Immunization|Pneumococcal vacc...|      71.0|\n|2020|         Oral Health|No teeth lost amo...|     61.18|\n|2020|         Oral Health|Visited dentist o...|      58.1|\n|2020|             Tobacco|Quit attempts in ...|      53.7|\n|2020|               Sleep|Short sleep durat...|     46.57|\n|2020|        Immunization|Influenza vaccina...|      46.2|\n|2020|        Immunization|Influenza vaccina...|     44.46|\n|2020|            Diabetes|Diabetic ketoacid...|      44.2|\n|2020|               Sleep|Short sleep durat...|     36.75|\n|2020|              Asthma|Asthma mortality ...|     32.36|\n+----+--------------------+--------------------+----------+\nonly showing top 20 rows\n\n"
     ]
    }
   ],
   "source": [
    "# Calculate average health metric by year\n",
    "avg_health_by_year = spark.sql(\"\"\"\n",
    "SELECT yearstart AS year, \n",
    "       topic, \n",
    "       question, \n",
    "       ROUND(AVG(CAST(datavalue AS FLOAT)), 2) AS avg_metric\n",
    "FROM fact_cdc_health\n",
    "GROUP BY yearstart, topic, question\n",
    "ORDER BY year DESC, avg_metric DESC\n",
    "\"\"\")\n",
    "avg_health_by_year.show()\n"
   ]
  },
  {
   "cell_type": "code",
   "execution_count": 0,
   "metadata": {
    "application/vnd.databricks.v1+cell": {
     "cellMetadata": {
      "byteLimit": 2048000,
      "rowLimit": 10000
     },
     "inputWidgets": {},
     "nuid": "219d6617-06e8-43be-a815-adbe039b5e39",
     "showTitle": false,
     "tableResultSettingsMap": {},
     "title": ""
    }
   },
   "outputs": [
    {
     "output_type": "stream",
     "name": "stdout",
     "output_type": "stream",
     "text": [
      "+--------------------+------------+\n|               topic|report_count|\n+--------------------+------------+\n|Cardiovascular Di...|          63|\n|              Cancer|          53|\n|            Diabetes|          42|\n|       Health Status|          42|\n|           Arthritis|          42|\n|       Mental Health|          36|\n|             Alcohol|          35|\n|        Immunization|          29|\n|              Asthma|          27|\n|               Sleep|          22|\n|             Tobacco|          21|\n|Nutrition, Physic...|          18|\n|Chronic Obstructi...|          17|\n|          Disability|          16|\n|Social Determinan...|          15|\n|         Oral Health|          14|\n|Cognitive Health ...|           5|\n|Chronic Kidney Di...|           3|\n+--------------------+------------+\n\n"
     ]
    }
   ],
   "source": [
    "# Calculate the most frequently reported health topics\n",
    "top_health_issues = spark.sql(\"\"\"\n",
    "SELECT topic, \n",
    "       COUNT(*) AS report_count\n",
    "FROM fact_cdc_health\n",
    "GROUP BY topic\n",
    "ORDER BY report_count DESC\n",
    "\"\"\")\n",
    "top_health_issues.show()\n"
   ]
  }
 ],
 "metadata": {
  "application/vnd.databricks.v1+notebook": {
   "computePreferences": null,
   "dashboards": [],
   "environmentMetadata": {
    "base_environment": "",
    "environment_version": "1"
   },
   "inputWidgetPreferences": null,
   "language": "python",
   "notebookMetadata": {
    "mostRecentlyExecutedCommandWithImplicitDF": {
     "commandId": -1,
     "dataframes": [
      "_sqldf"
     ]
    },
    "pythonIndentUnit": 4
   },
   "notebookName": "Project Capstone",
   "widgets": {}
  }
 },
 "nbformat": 4,
 "nbformat_minor": 0
}